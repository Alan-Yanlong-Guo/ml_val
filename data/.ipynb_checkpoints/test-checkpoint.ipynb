{
 "cells": [
  {
   "cell_type": "code",
   "execution_count": 15,
   "metadata": {},
   "outputs": [],
   "source": [
    "from annual_data import build_comp, build_crsp_m, build_dlret, build_crsp\n",
    "import pandas as pd\n",
    "from pandas.tseries.offsets import *\n",
    "comp = build_comp('AAPL')\n",
    "crsp_m = build_crsp_m('AAPL')\n",
    "dlret = build_dlret()"
   ]
  },
  {
   "cell_type": "code",
   "execution_count": 16,
   "metadata": {},
   "outputs": [],
   "source": [
    "crsp, crsp_summe, crsp_maxme, crsp1, crsp2, mebase, crsp3, decme, crsp_jun = build_crsp(crsp_m, dlret)"
   ]
  },
  {
   "cell_type": "code",
   "execution_count": 17,
   "metadata": {},
   "outputs": [],
   "source": [
    "ccm = conn.raw_sql(\"\"\"\n",
    "                  select gvkey, lpermno as permno, linktype, linkprim,\n",
    "                  linkdt, linkenddt\n",
    "                  from crsp.ccmxpf_linktable\n",
    "                  where substr(linktype,1,1)='L'\n",
    "                  and linkprim in ('P', 'C')\n",
    "                  \"\"\")\n",
    "\n",
    "ccm['linkdt'] = pd.to_datetime(ccm['linkdt'])\n",
    "ccm['linkenddt'] = pd.to_datetime(ccm['linkenddt'])\n",
    "# if linkenddt is missing then set to next month's june (Changed)\n",
    "ccm['linkenddt'] = ccm['linkenddt'].fillna(pd.to_datetime('today')+YearEnd(0)+MonthEnd(6))\n",
    "ccm['linkenddt'] = ccm['linkenddt'].dt.date\n",
    "ccm['linkenddt'] = pd.to_datetime(ccm['linkenddt'])\n",
    "\n",
    "ccm1 = pd.merge(comp, ccm, how='left', on=['gvkey'])\n",
    "ccm1['yearend']=ccm1['datadate']+YearEnd(0)\n",
    "ccm1['jdate']=ccm1['yearend']+MonthEnd(6)\n",
    "\n",
    "ccm2 = ccm1[(ccm1['jdate']>=ccm1['linkdt'])&(ccm1['jdate']<=(ccm1['linkenddt']))]\n",
    "ccm2 = ccm2.drop(columns=['datadate_a','linktype','linkdt','linkenddt'])"
   ]
  },
  {
   "cell_type": "code",
   "execution_count": 27,
   "metadata": {},
   "outputs": [],
   "source": [
    "ccm = conn.raw_sql(\"\"\"\n",
    "                  select gvkey, lpermno as permno, linktype, linkprim,\n",
    "                  linkdt, linkenddt\n",
    "                  from crsp.ccmxpf_linktable\n",
    "                  where substr(linktype,1,1)='L'\n",
    "                  and linkprim in ('P', 'C')\n",
    "                  \"\"\")\n",
    "\n",
    "ccm['linkdt'] = pd.to_datetime(ccm['linkdt'])\n",
    "ccm['linkenddt'] = pd.to_datetime(ccm['linkenddt'])\n",
    "# if linkenddt is missing then set to next month's june (Changed)\n",
    "ccm['linkenddt'] = ccm['linkenddt'].fillna(pd.to_datetime('today')+YearEnd(0)+MonthEnd(6))\n",
    "ccm['linkenddt'] = ccm['linkenddt'].dt.date\n",
    "ccm['linkenddt'] = pd.to_datetime(ccm['linkenddt'])\n",
    "\n",
    "ccm1 = pd.merge(comp, ccm, how='left', on=['gvkey'])\n",
    "ccm1['yearend'] = ccm1['datadate']+YearEnd(0)\n",
    "ccm1['jdate'] = ccm1['yearend']+MonthEnd(6)"
   ]
  }
 ],
 "metadata": {
  "kernelspec": {
   "display_name": "Python 3",
   "language": "python",
   "name": "python3"
  },
  "language_info": {
   "codemirror_mode": {
    "name": "ipython",
    "version": 3
   },
   "file_extension": ".py",
   "mimetype": "text/x-python",
   "name": "python",
   "nbconvert_exporter": "python",
   "pygments_lexer": "ipython3",
   "version": "3.7.3"
  },
  "pycharm": {
   "stem_cell": {
    "cell_type": "raw",
    "metadata": {
     "collapsed": false
    },
    "source": []
   }
  }
 },
 "nbformat": 4,
 "nbformat_minor": 1
}
