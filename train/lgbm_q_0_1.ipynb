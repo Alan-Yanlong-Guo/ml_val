{
 "cells": [
  {
   "cell_type": "code",
   "execution_count": 1,
   "metadata": {
    "pycharm": {
     "is_executing": false,
     "name": "#%%\n"
    }
   },
   "outputs": [],
   "source": [
    "import pickle\n",
    "from lightgbm import LGBMRegressor\n",
    "import numpy as np \n",
    "import matplotlib.pyplot as plt\n",
    "import sklearn\n",
    "\n",
    "xy_data_dir = '/Users/mmw/Documents/GitHub/ml_val/data_all/xy_data'\n",
    "\n",
    "with open(xy_data_dir + '/x_q_0_1_tr.pkl', 'rb') as handle:\n",
    "    x_tr = pickle.load(handle).iloc[:,5:]\n",
    "    x_tr.replace([np.inf, -np.inf, 'inf', '-inf'], np.NaN, inplace=True)\n",
    "    x_tr = x_tr.fillna(0).astype('float32')\n",
    "    \n",
    "with open(xy_data_dir + '/y_q_0_1_tr.pkl', 'rb') as handle:\n",
    "    y_tr = pickle.load(handle).iloc[:,5:]\n",
    "    y_tr.replace([np.inf, -np.inf, 'inf', '-inf'], np.NaN, inplace=True)\n",
    "    y_tr = y_tr.fillna(0).astype('float32')\n",
    "    \n",
    "with open(xy_data_dir + '/x_q_0_1_ts.pkl', 'rb') as handle:\n",
    "    x_ts = pickle.load(handle).iloc[:,5:]\n",
    "    x_ts.replace([np.inf, -np.inf, 'inf', '-inf'], np.NaN, inplace=True)\n",
    "    x_ts = x_ts.fillna(0).astype('float32')\n",
    "    \n",
    "with open(xy_data_dir + '/y_q_0_1_ts.pkl', 'rb') as handle:\n",
    "    y_ts = pickle.load(handle).iloc[:,5:]\n",
    "    y_ts.replace([np.inf, -np.inf, 'inf', '-inf'], np.NaN, inplace=True)\n",
    "    y_ts = y_ts.fillna(0).astype('float32')"
   ]
  },
  {
   "cell_type": "code",
   "execution_count": 2,
   "metadata": {},
   "outputs": [
    {
     "name": "stdout",
     "output_type": "stream",
     "text": [
      "(297804, 319) (154425, 319)\n"
     ]
    }
   ],
   "source": [
    "print(x_tr.shape, x_ts.shape)"
   ]
  },
  {
   "cell_type": "code",
   "execution_count": 3,
   "metadata": {
    "scrolled": true
   },
   "outputs": [
    {
     "name": "stdout",
     "output_type": "stream",
     "text": [
      "0 absacc\n",
      "1 acc\n",
      "2 agr\n",
      "3 bm_ia\n",
      "4 cashdebt\n",
      "5 cashpr\n",
      "6 cfp\n",
      "7 cfp_ia\n",
      "8 chatoia\n",
      "9 chcsho\n",
      "10 chempia\n",
      "11 chinv\n",
      "12 chpmia\n",
      "13 convind\n",
      "14 currat\n",
      "15 currat\n",
      "16 depr\n",
      "17 divi\n",
      "18 divo\n",
      "19 dy\n",
      "20 egr\n",
      "21 ep\n",
      "22 gma\n",
      "23 grcapx\n",
      "24 grltnoa\n",
      "25 herf\n",
      "26 hire\n",
      "27 invest\n",
      "28 lev\n",
      "29 lgr\n",
      "30 mve_ia\n",
      "31 operprof\n",
      "32 orgcap\n",
      "33 pchcapx_ia\n",
      "34 pchcurrat\n",
      "35 pchdepr\n",
      "36 pchgm_pchsale\n",
      "37 pchquick\n",
      "38 pchsale_pchinvt\n",
      "39 pchsale_pchrect\n",
      "40 pchsale_pchxsga\n",
      "41 pchsaleinv\n",
      "42 pctacc\n",
      "43 ps\n",
      "44 quick\n",
      "45 rd\n",
      "46 rd_mve\n",
      "47 rd_sale\n",
      "48 realestate\n",
      "49 roic\n",
      "50 salecash\n",
      "51 saleinv\n",
      "52 salerec\n",
      "53 secured\n",
      "54 securedind\n",
      "55 sgr\n",
      "56 sin\n",
      "57 sp\n",
      "58 tang\n",
      "59 tb\n",
      "60 aeavol\n",
      "61 cash\n",
      "62 chtx\n",
      "63 cinvest\n",
      "64 ear\n",
      "65 roaq\n",
      "66 roavol\n",
      "67 roeq\n",
      "68 rsup\n",
      "69 stdacc\n",
      "70 stdcf\n",
      "71 chmom\n",
      "72 dolvol\n",
      "73 mom12m\n",
      "74 mom1m\n",
      "75 mom36m\n",
      "76 mom6m\n",
      "77 mvel1\n",
      "78 turn\n",
      "79 revt\n",
      "80 ebit\n",
      "81 ebitda\n",
      "82 re\n",
      "83 epspi\n",
      "84 gma\n",
      "85 operprof\n",
      "86 quick\n",
      "87 currat\n",
      "88 cashrrat\n",
      "89 cftrr\n",
      "90 dpr\n",
      "91 pe\n",
      "92 pb\n",
      "93 roe\n",
      "94 roa\n",
      "95 roic\n",
      "96 cod\n",
      "97 capint\n",
      "98 lev\n",
      "99 revt_aoa\n",
      "100 ebit_aoa\n",
      "101 ebitda_aoa\n",
      "102 re_aoa\n",
      "103 epspi_aoa\n",
      "104 gma_aoa\n",
      "105 operprof_aoa\n",
      "106 quick_aoa\n",
      "107 currat_aoa\n",
      "108 cashrrat_aoa\n",
      "109 cftrr_aoa\n",
      "110 dpr_aoa\n",
      "111 pe_aoa\n",
      "112 pb_aoa\n",
      "113 roe_aoa\n",
      "114 roa_aoa\n",
      "115 roic_aoa\n",
      "116 cod_aoa\n",
      "117 capint_aoa\n",
      "118 lev_aoa\n",
      "119 revt_5o5\n",
      "120 ebit_5o5\n",
      "121 ebitda_5o5\n",
      "122 re_5o5\n",
      "123 epspi_5o5\n",
      "124 gma_5o5\n",
      "125 operprof_5o5\n",
      "126 quick_5o5\n",
      "127 currat_5o5\n",
      "128 cashrrat_5o5\n",
      "129 cftrr_5o5\n",
      "130 dpr_5o5\n",
      "131 pe_5o5\n",
      "132 pb_5o5\n",
      "133 roe_5o5\n",
      "134 roa_5o5\n",
      "135 roic_5o5\n",
      "136 cod_5o5\n",
      "137 capint_5o5\n",
      "138 lev_5o5\n",
      "139 revtq\n",
      "140 req\n",
      "141 epspiq\n",
      "142 quickq\n",
      "143 curratq\n",
      "144 cashrratq\n",
      "145 peq\n",
      "146 roeq\n",
      "147 roaq\n",
      "148 revtq_qoq\n",
      "149 req_qoq\n",
      "150 epspiq_qoq\n",
      "151 quickq_qoq\n",
      "152 curratq_qoq\n",
      "153 cashrratq_qoq\n",
      "154 peq_qoq\n",
      "155 roeq_qoq\n",
      "156 roaq_qoq\n",
      "157 revtq_aoa\n",
      "158 req_aoa\n",
      "159 epspiq_aoa\n",
      "160 quickq_aoa\n",
      "161 curratq_aoa\n",
      "162 cashrratq_aoa\n",
      "163 peq_aoa\n",
      "164 roeq_aoa\n",
      "165 roaq_aoa\n",
      "166 revtq_5o5\n",
      "167 req_5o5\n",
      "168 epspiq_5o5\n",
      "169 quickq_5o5\n",
      "170 curratq_5o5\n",
      "171 cashrratq_5o5\n",
      "172 peq_5o5\n",
      "173 roeq_5o5\n",
      "174 roaq_5o5\n",
      "175 revt_sum\n",
      "176 ebit_sum\n",
      "177 ebitda_sum\n",
      "178 re_sum\n",
      "179 revt_med\n",
      "180 ebit_med\n",
      "181 ebitda_med\n",
      "182 re_med\n",
      "183 epspi_med\n",
      "184 gma_med\n",
      "185 operprof_med\n",
      "186 quick_med\n",
      "187 currat_med\n",
      "188 cashrrat_med\n",
      "189 cftrr_med\n",
      "190 dpr_med\n",
      "191 pe_med\n",
      "192 pb_med\n",
      "193 roe_med\n",
      "194 roa_med\n",
      "195 roic_med\n",
      "196 cod_med\n",
      "197 capint_med\n",
      "198 lev_med\n",
      "199 revt_sum_aoa\n",
      "200 ebit_sum_aoa\n",
      "201 ebitda_sum_aoa\n",
      "202 re_sum_aoa\n",
      "203 revt_med_aoa\n",
      "204 ebit_med_aoa\n",
      "205 ebitda_med_aoa\n",
      "206 re_med_aoa\n",
      "207 epspi_med_aoa\n",
      "208 gma_med_aoa\n",
      "209 operprof_med_aoa\n",
      "210 quick_med_aoa\n",
      "211 currat_med_aoa\n",
      "212 cashrrat_med_aoa\n",
      "213 cftrr_med_aoa\n",
      "214 dpr_med_aoa\n",
      "215 pe_med_aoa\n",
      "216 pb_med_aoa\n",
      "217 roe_med_aoa\n",
      "218 roa_med_aoa\n",
      "219 roic_med_aoa\n",
      "220 cod_med_aoa\n",
      "221 capint_med_aoa\n",
      "222 lev_med_aoa\n",
      "223 revt_sum_5o5\n",
      "224 ebit_sum_5o5\n",
      "225 ebitda_sum_5o5\n",
      "226 re_sum_5o5\n",
      "227 revt_med_5o5\n",
      "228 ebit_med_5o5\n",
      "229 ebitda_med_5o5\n",
      "230 re_med_5o5\n",
      "231 epspi_med_5o5\n",
      "232 gma_med_5o5\n",
      "233 operprof_med_5o5\n",
      "234 quick_med_5o5\n",
      "235 currat_med_5o5\n",
      "236 cashrrat_med_5o5\n",
      "237 cftrr_med_5o5\n",
      "238 dpr_med_5o5\n",
      "239 pe_med_5o5\n",
      "240 pb_med_5o5\n",
      "241 roe_med_5o5\n",
      "242 roa_med_5o5\n",
      "243 roic_med_5o5\n",
      "244 cod_med_5o5\n",
      "245 capint_med_5o5\n",
      "246 lev_med_5o5\n",
      "247 revt_sum\n",
      "248 ebit_sum\n",
      "249 ebitda_sum\n",
      "250 re_sum\n",
      "251 revt_med\n",
      "252 ebit_med\n",
      "253 ebitda_med\n",
      "254 re_med\n",
      "255 epspi_med\n",
      "256 gma_med\n",
      "257 operprof_med\n",
      "258 quick_med\n",
      "259 currat_med\n",
      "260 cashrrat_med\n",
      "261 cftrr_med\n",
      "262 dpr_med\n",
      "263 pe_med\n",
      "264 pb_med\n",
      "265 roe_med\n",
      "266 roa_med\n",
      "267 roic_med\n",
      "268 cod_med\n",
      "269 capint_med\n",
      "270 lev_med\n",
      "271 revt_sum_aoa\n",
      "272 ebit_sum_aoa\n",
      "273 ebitda_sum_aoa\n",
      "274 re_sum_aoa\n",
      "275 revt_med_aoa\n",
      "276 ebit_med_aoa\n",
      "277 ebitda_med_aoa\n",
      "278 re_med_aoa\n",
      "279 epspi_med_aoa\n",
      "280 gma_med_aoa\n",
      "281 operprof_med_aoa\n",
      "282 quick_med_aoa\n",
      "283 currat_med_aoa\n",
      "284 cashrrat_med_aoa\n",
      "285 cftrr_med_aoa\n",
      "286 dpr_med_aoa\n",
      "287 pe_med_aoa\n",
      "288 pb_med_aoa\n",
      "289 roe_med_aoa\n",
      "290 roa_med_aoa\n",
      "291 roic_med_aoa\n",
      "292 cod_med_aoa\n",
      "293 capint_med_aoa\n",
      "294 lev_med_aoa\n",
      "295 revt_sum_5o5\n",
      "296 ebit_sum_5o5\n",
      "297 ebitda_sum_5o5\n",
      "298 re_sum_5o5\n",
      "299 revt_med_5o5\n",
      "300 ebit_med_5o5\n",
      "301 ebitda_med_5o5\n",
      "302 re_med_5o5\n",
      "303 epspi_med_5o5\n",
      "304 gma_med_5o5\n",
      "305 operprof_med_5o5\n",
      "306 quick_med_5o5\n",
      "307 currat_med_5o5\n",
      "308 cashrrat_med_5o5\n",
      "309 cftrr_med_5o5\n",
      "310 dpr_med_5o5\n",
      "311 pe_med_5o5\n",
      "312 pb_med_5o5\n",
      "313 roe_med_5o5\n",
      "314 roa_med_5o5\n",
      "315 roic_med_5o5\n",
      "316 cod_med_5o5\n",
      "317 capint_med_5o5\n",
      "318 lev_med_5o5\n"
     ]
    }
   ],
   "source": [
    "for index, item in enumerate(x_tr.columns):\n",
    "    print(index, item)"
   ]
  },
  {
   "cell_type": "code",
   "execution_count": 4,
   "metadata": {
    "scrolled": true
   },
   "outputs": [
    {
     "data": {
      "text/plain": [
       "['revtq',\n",
       " 'req',\n",
       " 'epspiq',\n",
       " 'quickq',\n",
       " 'curratq',\n",
       " 'cashrratq',\n",
       " 'peq',\n",
       " 'roeq',\n",
       " 'roaq',\n",
       " 'revtq_qoq',\n",
       " 'req_qoq',\n",
       " 'epspiq_qoq',\n",
       " 'quickq_qoq',\n",
       " 'curratq_qoq',\n",
       " 'cashrratq_qoq',\n",
       " 'peq_qoq',\n",
       " 'roeq_qoq',\n",
       " 'roaq_qoq',\n",
       " 'revtq_aoa',\n",
       " 'req_aoa',\n",
       " 'epspiq_aoa',\n",
       " 'quickq_aoa',\n",
       " 'curratq_aoa',\n",
       " 'cashrratq_aoa',\n",
       " 'peq_aoa',\n",
       " 'roeq_aoa',\n",
       " 'roaq_aoa',\n",
       " 'revtq_5o5',\n",
       " 'req_5o5',\n",
       " 'epspiq_5o5',\n",
       " 'quickq_5o5',\n",
       " 'curratq_5o5',\n",
       " 'cashrratq_5o5',\n",
       " 'peq_5o5',\n",
       " 'roeq_5o5',\n",
       " 'roaq_5o5']"
      ]
     },
     "execution_count": 4,
     "metadata": {},
     "output_type": "execute_result"
    }
   ],
   "source": [
    "list(y_tr.columns)"
   ]
  },
  {
   "cell_type": "code",
   "execution_count": 5,
   "metadata": {
    "pycharm": {
     "is_executing": true,
     "name": "#%%\n"
    },
    "scrolled": true
   },
   "outputs": [],
   "source": [
    "oosr2 = {}\n",
    "\n",
    "def single_feature_oosr2(item, x_tr=x_tr, y_tr=y_tr, x_ts=x_ts, y_ts=y_ts, \n",
    "                         param_test = {'max_depth': [1]}):\n",
    "    try:\n",
    "        _ = x_tr[item].values.shape[1]\n",
    "        x_tr_single = x_tr[item].values[:, 0].reshape(-1, 1)\n",
    "        y_tr_single = y_tr[item].values\n",
    "        x_ts_single = x_ts[item].values[:, 0].reshape(-1, 1)\n",
    "        y_ts_single = y_ts[item].values\n",
    "    except IndexError:\n",
    "        x_tr_single = x_tr[item].values.reshape(-1, 1)\n",
    "        y_tr_single = y_tr[item].values\n",
    "        x_ts_single = x_ts[item].values.reshape(-1, 1)\n",
    "        y_ts_single = y_ts[item].values \n",
    "    \n",
    "    mod = LGBMRegressor(objective='regression_l2', zero_as_missing=True)\n",
    "    clf = sklearn.model_selection.GridSearchCV(mod , param_grid = param_test, scoring='r2', cv=5)\n",
    "    clf.fit(x_tr_single, y_tr_single)\n",
    "    predictions = clf.predict(x_ts_single)\n",
    "\n",
    "    return sklearn.metrics.r2_score(y_ts_single, predictions)"
   ]
  },
  {
   "cell_type": "code",
   "execution_count": 7,
   "metadata": {
    "scrolled": false
   },
   "outputs": [
    {
     "data": {
      "image/png": "[encoded data removed]",
      "text/plain": [
       "<Figure size 432x288 with 1 Axes>"
      ]
     },
     "metadata": {
      "needs_background": "light"
     },
     "output_type": "display_data"
    },
    {
     "name": "stdout",
     "output_type": "stream",
     "text": [
      "revtq 0.7373668199820942 0.2639081368325353 ['revtq', 'revt', 'ebitda', 'mvel1', 'pb']\n",
      "{'max_depth': 6, 'n_estimators': 500, 'num_leaves': 4}\n"
     ]
    },
    {
     "data": {
      "image/png": "[encoded data removed]",
      "text/plain": [
       "<Figure size 432x288 with 1 Axes>"
      ]
     },
     "metadata": {
      "needs_background": "light"
     },
     "output_type": "display_data"
    },
    {
     "name": "stdout",
     "output_type": "stream",
     "text": [
      "req 0.5289514137138164 0.5963819459999875 ['req', 're', 'pb', 'mvel1', 'ebitda']\n",
      "{'max_depth': 6, 'n_estimators': 500, 'num_leaves': 4}\n"
     ]
    },
    {
     "data": {
      "image/png": "[encoded data removed]",
      "text/plain": [
       "<Figure size 432x288 with 1 Axes>"
      ]
     },
     "metadata": {
      "needs_background": "light"
     },
     "output_type": "display_data"
    },
    {
     "name": "stdout",
     "output_type": "stream",
     "text": [
      "epspiq 0.13559373473962721 0.19254352634086272 ['epspi', 'roaq_5o5', 'roe', 'epspiq', 'roavol']\n",
      "{'max_depth': 1, 'n_estimators': 100, 'num_leaves': 2}\n"
     ]
    },
    {
     "data": {
      "image/png": "[encoded data removed]",
      "text/plain": [
       "<Figure size 432x288 with 1 Axes>"
      ]
     },
     "metadata": {
      "needs_background": "light"
     },
     "output_type": "display_data"
    },
    {
     "name": "stdout",
     "output_type": "stream",
     "text": [
      "quickq 0.2298375397422967 0.08016259195350045 ['quickq', 'quick', 'quick', 'cashrrat', 'curratq']\n",
      "{'max_depth': 1, 'n_estimators': 100, 'num_leaves': 2}\n"
     ]
    },
    {
     "data": {
      "image/png": "[encoded data removed]",
      "text/plain": [
       "<Figure size 432x288 with 1 Axes>"
      ]
     },
     "metadata": {
      "needs_background": "light"
     },
     "output_type": "display_data"
    },
    {
     "name": "stdout",
     "output_type": "stream",
     "text": [
      "curratq 0.2398131410461627 0.07485791270105215 ['curratq', 'currat', 'quick', 'cashrrat', 'revt']\n",
      "{'max_depth': 1, 'n_estimators': 100, 'num_leaves': 2}\n"
     ]
    },
    {
     "data": {
      "image/png": "[encoded data removed]",
      "text/plain": [
       "<Figure size 432x288 with 1 Axes>"
      ]
     },
     "metadata": {
      "needs_background": "light"
     },
     "output_type": "display_data"
    },
    {
     "name": "stdout",
     "output_type": "stream",
     "text": [
      "cashrratq 0.18427133049887823 0.14081105742580094 ['cashrratq', 'cashrratq_qoq', 'cashrratq_5o5', 'cashrratq_aoa', 'ebit_med']\n",
      "{'max_depth': 1, 'n_estimators': 100, 'num_leaves': 2}\n"
     ]
    },
    {
     "data": {
      "image/png": "[encoded data removed]",
      "text/plain": [
       "<Figure size 432x288 with 1 Axes>"
      ]
     },
     "metadata": {
      "needs_background": "light"
     },
     "output_type": "display_data"
    },
    {
     "name": "stdout",
     "output_type": "stream",
     "text": [
      "peq -0.00010050781812331877 5.247452378919991 ['peq', 'dy', 'pb_5o5', 'pe_5o5', 'pe']\n",
      "{'max_depth': 1, 'n_estimators': 20, 'num_leaves': 2}\n"
     ]
    },
    {
     "data": {
      "image/png": "[encoded data removed]",
      "text/plain": [
       "<Figure size 432x288 with 1 Axes>"
      ]
     },
     "metadata": {
      "needs_background": "light"
     },
     "output_type": "display_data"
    },
    {
     "name": "stdout",
     "output_type": "stream",
     "text": [
      "roeq -6.390122670341114e-06 -0.14668618628742824 ['chpmia', 'roeq', 'tang', 'rsup', 'roeq_aoa']\n",
      "{'max_depth': 1, 'n_estimators': 20, 'num_leaves': 2}\n"
     ]
    },
    {
     "data": {
      "image/png": "[encoded data removed]",
      "text/plain": [
       "<Figure size 432x288 with 1 Axes>"
      ]
     },
     "metadata": {
      "needs_background": "light"
     },
     "output_type": "display_data"
    },
    {
     "name": "stdout",
     "output_type": "stream",
     "text": [
      "roaq -0.0004637005791900961 -16.894898289996117 ['pb_aoa', 'pb', 'roa', 'lev', 'lev_aoa']\n",
      "{'max_depth': 1, 'n_estimators': 20, 'num_leaves': 2}\n"
     ]
    }
   ],
   "source": [
    "# level prediction\n",
    "\n",
    "for item in y_tr.columns:\n",
    "    if '_5o5' in item or '_qoq' in item or '_aoa' in item:\n",
    "        continue    \n",
    "    param_test = {'max_depth': [1, 6], 'num_leaves': [2, 4], 'n_estimators': [20, 100, 500]}\n",
    "    mod = LGBMRegressor(objective='regression_l2', zero_as_missing=True)\n",
    "    clf = sklearn.model_selection.GridSearchCV(mod , param_grid = param_test, scoring='r2', cv=5)\n",
    "    clf.fit(x_tr.values, y_tr[item].values)\n",
    "    predictions = clf.predict(x_ts.values)\n",
    "    y_true = y_ts[item].values \n",
    "    plt.bar(range(len(clf.best_estimator_.feature_importances_)), clf.best_estimator_.feature_importances_)\n",
    "    plt.show()\n",
    "    max_fea = []\n",
    "    max_5 = clf.best_estimator_.feature_importances_.argsort()[-5:][::-1]\n",
    "    for index in max_5:\n",
    "        max_fea.append(x_tr.columns[index])\n",
    "    oosr2[item] = sklearn.metrics.r2_score(y_true, predictions)\n",
    "    try:\n",
    "        sig_feature_oosr2 = single_feature_oosr2(item, param_test=param_test)\n",
    "        enhancement = (oosr2[item] - sig_feature_oosr2)/sig_feature_oosr2\n",
    "        print(item, oosr2[item], enhancement, max_fea)\n",
    "        print(clf.best_params_)\n",
    "    except KeyError:\n",
    "        print(item, oosr2[item], max_fea)\n",
    "        print(clf.best_params_)"
   ]
  },
  {
   "cell_type": "code",
   "execution_count": 9,
   "metadata": {
    "scrolled": false
   },
   "outputs": [
    {
     "data": {
      "image/png": "[encoded data removed]",
      "text/plain": [
       "<Figure size 432x288 with 1 Axes>"
      ]
     },
     "metadata": {
      "needs_background": "light"
     },
     "output_type": "display_data"
    },
    {
     "name": "stdout",
     "output_type": "stream",
     "text": [
      "revtq_aoa 0.00030353198789734304 -0.13393507320215775 ['revtq_aoa', 'cinvest', 'pchgm_pchsale', 'revt_aoa', 'cftrr']\n",
      "{'max_depth': 1, 'n_estimators': 20, 'num_leaves': 2}\n"
     ]
    },
    {
     "data": {
      "image/png": "[encoded data removed]",
      "text/plain": [
       "<Figure size 432x288 with 1 Axes>"
      ]
     },
     "metadata": {
      "needs_background": "light"
     },
     "output_type": "display_data"
    },
    {
     "name": "stdout",
     "output_type": "stream",
     "text": [
      "req_aoa 0.0005412755287242943 -2.670405714818526 ['re_aoa', 'quick', 'req_aoa', 'pe_med_5o5', 'peq']\n",
      "{'max_depth': 1, 'n_estimators': 20, 'num_leaves': 2}\n"
     ]
    },
    {
     "data": {
      "image/png": "[encoded data removed]",
      "text/plain": [
       "<Figure size 432x288 with 1 Axes>"
      ]
     },
     "metadata": {
      "needs_background": "light"
     },
     "output_type": "display_data"
    },
    {
     "name": "stdout",
     "output_type": "stream",
     "text": [
      "epspiq_aoa 0.0010778196896431558 1.0639105843235834 ['epspiq_aoa', 'chcsho', 'roa_aoa', 'dy', 'epspi_5o5']\n",
      "{'max_depth': 1, 'n_estimators': 100, 'num_leaves': 2}\n"
     ]
    },
    {
     "data": {
      "image/png": "[encoded data removed]",
      "text/plain": [
       "<Figure size 432x288 with 1 Axes>"
      ]
     },
     "metadata": {
      "needs_background": "light"
     },
     "output_type": "display_data"
    },
    {
     "name": "stdout",
     "output_type": "stream",
     "text": [
      "quickq_aoa 0.02775364832780669 -0.008947427467273556 ['quickq_aoa', 'quick_aoa', 'currat_aoa', 'curratq_aoa', 'pchquick']\n",
      "{'max_depth': 1, 'n_estimators': 20, 'num_leaves': 2}\n"
     ]
    },
    {
     "data": {
      "image/png": "[encoded data removed]",
      "text/plain": [
       "<Figure size 432x288 with 1 Axes>"
      ]
     },
     "metadata": {
      "needs_background": "light"
     },
     "output_type": "display_data"
    },
    {
     "name": "stdout",
     "output_type": "stream",
     "text": [
      "curratq_aoa 0.02909180293172231 0.2695009252476065 ['curratq_aoa', 'currat_aoa', 'curratq_qoq', 'revt', 'cashrrat_aoa']\n",
      "{'max_depth': 1, 'n_estimators': 100, 'num_leaves': 2}\n"
     ]
    },
    {
     "data": {
      "image/png": "[encoded data removed]",
      "text/plain": [
       "<Figure size 432x288 with 1 Axes>"
      ]
     },
     "metadata": {
      "needs_background": "light"
     },
     "output_type": "display_data"
    },
    {
     "name": "stdout",
     "output_type": "stream",
     "text": [
      "cashrratq_aoa 0.003225074536969741 0.07961755569713705 ['cashrratq', 'cashrratq_aoa', 'cashrratq_qoq', 'cashrratq_5o5', 'lev_med_5o5']\n",
      "{'max_depth': 1, 'n_estimators': 100, 'num_leaves': 2}\n"
     ]
    },
    {
     "data": {
      "image/png": "[encoded data removed]",
      "text/plain": [
       "<Figure size 432x288 with 1 Axes>"
      ]
     },
     "metadata": {
      "needs_background": "light"
     },
     "output_type": "display_data"
    },
    {
     "name": "stdout",
     "output_type": "stream",
     "text": [
      "peq_aoa -0.011422414646825585 810.0282085748241 ['pb_aoa', 'roavol', 'epspi', 'ebit_5o5', 'roic']\n",
      "{'max_depth': 1, 'n_estimators': 20, 'num_leaves': 2}\n"
     ]
    },
    {
     "data": {
      "image/png": "[encoded data removed]",
      "text/plain": [
       "<Figure size 432x288 with 1 Axes>"
      ]
     },
     "metadata": {
      "needs_background": "light"
     },
     "output_type": "display_data"
    },
    {
     "name": "stdout",
     "output_type": "stream",
     "text": [
      "roeq_aoa -6.559025646835082e-06 0.001986772946598475 ['roeq_aoa', 'dy', 'egr', 'epspi_aoa', 'chpmia']\n",
      "{'max_depth': 1, 'n_estimators': 20, 'num_leaves': 2}\n"
     ]
    },
    {
     "data": {
      "image/png": "[encoded data removed]",
      "text/plain": [
       "<Figure size 432x288 with 1 Axes>"
      ]
     },
     "metadata": {
      "needs_background": "light"
     },
     "output_type": "display_data"
    },
    {
     "name": "stdout",
     "output_type": "stream",
     "text": [
      "roaq_aoa -0.07084389875476615 101.76765994029297 ['pb_aoa', 'pb', 'roe_med_5o5', 'ebitda_sum', 'lev_aoa']\n",
      "{'max_depth': 1, 'n_estimators': 20, 'num_leaves': 2}\n"
     ]
    }
   ],
   "source": [
    "# year on year growth prediction\n",
    "\n",
    "for item in y_tr.columns:\n",
    "    if '_aoa' not in item:\n",
    "        continue    \n",
    "    param_test = {'max_depth': [1, 6], 'num_leaves': [2, 4], 'n_estimators': [20, 100, 500]}\n",
    "#     param_test = {'max_depth': [1], 'num_leaves': [2], 'n_estimators': [20, 100, 500]}\n",
    "    mod = LGBMRegressor(objective='regression_l2', zero_as_missing=True)\n",
    "    clf = sklearn.model_selection.GridSearchCV(mod , param_grid = param_test, scoring='r2', cv=5)\n",
    "    clf.fit(x_tr.values, y_tr[item].values)\n",
    "    predictions = clf.predict(x_ts.values)\n",
    "    y_true = y_ts[item].values \n",
    "    plt.bar(range(len(clf.best_estimator_.feature_importances_)), clf.best_estimator_.feature_importances_)\n",
    "    plt.show()\n",
    "    max_fea = []\n",
    "    max_5 = clf.best_estimator_.feature_importances_.argsort()[-5:][::-1]\n",
    "    for index in max_5:\n",
    "        max_fea.append(x_tr.columns[index])\n",
    "    oosr2[item] = sklearn.metrics.r2_score(y_true, predictions)\n",
    "    try:\n",
    "        sig_feature_oosr2 = single_feature_oosr2(item, param_test=param_test)\n",
    "        enhancement = (oosr2[item] - sig_feature_oosr2)/sig_feature_oosr2\n",
    "        print(item, oosr2[item], enhancement, max_fea)\n",
    "        print(clf.best_params_)\n",
    "    except KeyError:\n",
    "        print(item, oosr2[item], max_fea)\n",
    "        print(clf.best_params_)"
   ]
  }
 ],
 "metadata": {
  "kernelspec": {
   "display_name": "Python 3",
   "language": "python",
   "name": "python3"
  },
  "language_info": {
   "codemirror_mode": {
    "name": "ipython",
    "version": 3
   },
   "file_extension": ".py",
   "mimetype": "text/x-python",
   "name": "python",
   "nbconvert_exporter": "python",
   "pygments_lexer": "ipython3",
   "version": "3.7.5"
  },
  "pycharm": {
   "stem_cell": {
    "cell_type": "raw",
    "metadata": {
     "collapsed": false
    },
    "source": []
   }
  }
 },
 "nbformat": 4,
 "nbformat_minor": 2
}
