{
 "cells": [
  {
   "cell_type": "code",
   "execution_count": 1,
   "metadata": {
    "pycharm": {
     "is_executing": false,
     "name": "#%%\n"
    }
   },
   "outputs": [],
   "source": [
    "import pickle\n",
    "from lightgbm import LGBMRegressor\n",
    "import numpy as np \n",
    "import matplotlib.pyplot as plt\n",
    "import sklearn\n",
    "\n",
    "xy_data_dir = '/Users/mmw/Documents/GitHub/ml_val/data_all/xy_data'\n",
    "\n",
    "with open(xy_data_dir + '/x_a_1_0_tr.pkl', 'rb') as handle:\n",
    "    x_tr = pickle.load(handle).iloc[:,5:]\n",
    "    x_tr.replace([np.inf, -np.inf, 'inf', '-inf'], np.NaN, inplace=True)\n",
    "    x_tr = x_tr.fillna(0).astype('float32')\n",
    "    \n",
    "with open(xy_data_dir + '/y_a_1_0_tr.pkl', 'rb') as handle:\n",
    "    y_tr = pickle.load(handle).iloc[:,5:]\n",
    "    y_tr.replace([np.inf, -np.inf, 'inf', '-inf'], np.NaN, inplace=True)\n",
    "    y_tr = y_tr.fillna(0).astype('float32')\n",
    "    \n",
    "with open(xy_data_dir + '/x_a_1_0_ts.pkl', 'rb') as handle:\n",
    "    x_ts = pickle.load(handle).iloc[:,5:]\n",
    "    x_ts.replace([np.inf, -np.inf, 'inf', '-inf'], np.NaN, inplace=True)\n",
    "    x_ts = x_ts.fillna(0).astype('float32')\n",
    "    \n",
    "with open(xy_data_dir + '/y_a_1_0_ts.pkl', 'rb') as handle:\n",
    "    y_ts = pickle.load(handle).iloc[:,5:]\n",
    "    y_ts.replace([np.inf, -np.inf, 'inf', '-inf'], np.NaN, inplace=True)\n",
    "    y_ts = y_ts.fillna(0).astype('float32')"
   ]
  },
  {
   "cell_type": "code",
   "execution_count": 2,
   "metadata": {},
   "outputs": [
    {
     "name": "stdout",
     "output_type": "stream",
     "text": [
      "(84667, 283) (45773, 283)\n"
     ]
    }
   ],
   "source": [
    "print(x_tr.shape, x_ts.shape)"
   ]
  },
  {
   "cell_type": "code",
   "execution_count": 3,
   "metadata": {
    "scrolled": true
   },
   "outputs": [
    {
     "name": "stdout",
     "output_type": "stream",
     "text": [
      "0 absacc\n",
      "1 acc\n",
      "2 agr\n",
      "3 bm_ia\n",
      "4 cashdebt\n",
      "5 cashpr\n",
      "6 cfp\n",
      "7 cfp_ia\n",
      "8 chatoia\n",
      "9 chcsho\n",
      "10 chempia\n",
      "11 chinv\n",
      "12 chpmia\n",
      "13 convind\n",
      "14 currat\n",
      "15 currat\n",
      "16 depr\n",
      "17 divi\n",
      "18 divo\n",
      "19 dy\n",
      "20 egr\n",
      "21 ep\n",
      "22 gma\n",
      "23 grcapx\n",
      "24 grltnoa\n",
      "25 herf\n",
      "26 hire\n",
      "27 invest\n",
      "28 lev\n",
      "29 lgr\n",
      "30 mve_ia\n",
      "31 operprof\n",
      "32 orgcap\n",
      "33 pchcapx_ia\n",
      "34 pchcurrat\n",
      "35 pchdepr\n",
      "36 pchgm_pchsale\n",
      "37 pchquick\n",
      "38 pchsale_pchinvt\n",
      "39 pchsale_pchrect\n",
      "40 pchsale_pchxsga\n",
      "41 pchsaleinv\n",
      "42 pctacc\n",
      "43 ps\n",
      "44 quick\n",
      "45 rd\n",
      "46 rd_mve\n",
      "47 rd_sale\n",
      "48 realestate\n",
      "49 roic\n",
      "50 salecash\n",
      "51 saleinv\n",
      "52 salerec\n",
      "53 secured\n",
      "54 securedind\n",
      "55 sgr\n",
      "56 sin\n",
      "57 sp\n",
      "58 tang\n",
      "59 tb\n",
      "60 aeavol\n",
      "61 cash\n",
      "62 chtx\n",
      "63 cinvest\n",
      "64 ear\n",
      "65 roaq\n",
      "66 roavol\n",
      "67 roeq\n",
      "68 rsup\n",
      "69 stdacc\n",
      "70 stdcf\n",
      "71 chmom\n",
      "72 dolvol\n",
      "73 mom12m\n",
      "74 mom1m\n",
      "75 mom36m\n",
      "76 mom6m\n",
      "77 mvel1\n",
      "78 turn\n",
      "79 revt\n",
      "80 ebit\n",
      "81 ebitda\n",
      "82 re\n",
      "83 epspi\n",
      "84 gma\n",
      "85 operprof\n",
      "86 quick\n",
      "87 currat\n",
      "88 cashrrat\n",
      "89 cftrr\n",
      "90 dpr\n",
      "91 pe\n",
      "92 pb\n",
      "93 roe\n",
      "94 roa\n",
      "95 roic\n",
      "96 cod\n",
      "97 capint\n",
      "98 lev\n",
      "99 revt_aoa\n",
      "100 ebit_aoa\n",
      "101 ebitda_aoa\n",
      "102 re_aoa\n",
      "103 epspi_aoa\n",
      "104 gma_aoa\n",
      "105 operprof_aoa\n",
      "106 quick_aoa\n",
      "107 currat_aoa\n",
      "108 cashrrat_aoa\n",
      "109 cftrr_aoa\n",
      "110 dpr_aoa\n",
      "111 pe_aoa\n",
      "112 pb_aoa\n",
      "113 roe_aoa\n",
      "114 roa_aoa\n",
      "115 roic_aoa\n",
      "116 cod_aoa\n",
      "117 capint_aoa\n",
      "118 lev_aoa\n",
      "119 revt_5o5\n",
      "120 ebit_5o5\n",
      "121 ebitda_5o5\n",
      "122 re_5o5\n",
      "123 epspi_5o5\n",
      "124 gma_5o5\n",
      "125 operprof_5o5\n",
      "126 quick_5o5\n",
      "127 currat_5o5\n",
      "128 cashrrat_5o5\n",
      "129 cftrr_5o5\n",
      "130 dpr_5o5\n",
      "131 pe_5o5\n",
      "132 pb_5o5\n",
      "133 roe_5o5\n",
      "134 roa_5o5\n",
      "135 roic_5o5\n",
      "136 cod_5o5\n",
      "137 capint_5o5\n",
      "138 lev_5o5\n",
      "139 revt_sum\n",
      "140 ebit_sum\n",
      "141 ebitda_sum\n",
      "142 re_sum\n",
      "143 revt_med\n",
      "144 ebit_med\n",
      "145 ebitda_med\n",
      "146 re_med\n",
      "147 epspi_med\n",
      "148 gma_med\n",
      "149 operprof_med\n",
      "150 quick_med\n",
      "151 currat_med\n",
      "152 cashrrat_med\n",
      "153 cftrr_med\n",
      "154 dpr_med\n",
      "155 pe_med\n",
      "156 pb_med\n",
      "157 roe_med\n",
      "158 roa_med\n",
      "159 roic_med\n",
      "160 cod_med\n",
      "161 capint_med\n",
      "162 lev_med\n",
      "163 revt_sum_aoa\n",
      "164 ebit_sum_aoa\n",
      "165 ebitda_sum_aoa\n",
      "166 re_sum_aoa\n",
      "167 revt_med_aoa\n",
      "168 ebit_med_aoa\n",
      "169 ebitda_med_aoa\n",
      "170 re_med_aoa\n",
      "171 epspi_med_aoa\n",
      "172 gma_med_aoa\n",
      "173 operprof_med_aoa\n",
      "174 quick_med_aoa\n",
      "175 currat_med_aoa\n",
      "176 cashrrat_med_aoa\n",
      "177 cftrr_med_aoa\n",
      "178 dpr_med_aoa\n",
      "179 pe_med_aoa\n",
      "180 pb_med_aoa\n",
      "181 roe_med_aoa\n",
      "182 roa_med_aoa\n",
      "183 roic_med_aoa\n",
      "184 cod_med_aoa\n",
      "185 capint_med_aoa\n",
      "186 lev_med_aoa\n",
      "187 revt_sum_5o5\n",
      "188 ebit_sum_5o5\n",
      "189 ebitda_sum_5o5\n",
      "190 re_sum_5o5\n",
      "191 revt_med_5o5\n",
      "192 ebit_med_5o5\n",
      "193 ebitda_med_5o5\n",
      "194 re_med_5o5\n",
      "195 epspi_med_5o5\n",
      "196 gma_med_5o5\n",
      "197 operprof_med_5o5\n",
      "198 quick_med_5o5\n",
      "199 currat_med_5o5\n",
      "200 cashrrat_med_5o5\n",
      "201 cftrr_med_5o5\n",
      "202 dpr_med_5o5\n",
      "203 pe_med_5o5\n",
      "204 pb_med_5o5\n",
      "205 roe_med_5o5\n",
      "206 roa_med_5o5\n",
      "207 roic_med_5o5\n",
      "208 cod_med_5o5\n",
      "209 capint_med_5o5\n",
      "210 lev_med_5o5\n",
      "211 revt_sum\n",
      "212 ebit_sum\n",
      "213 ebitda_sum\n",
      "214 re_sum\n",
      "215 revt_med\n",
      "216 ebit_med\n",
      "217 ebitda_med\n",
      "218 re_med\n",
      "219 epspi_med\n",
      "220 gma_med\n",
      "221 operprof_med\n",
      "222 quick_med\n",
      "223 currat_med\n",
      "224 cashrrat_med\n",
      "225 cftrr_med\n",
      "226 dpr_med\n",
      "227 pe_med\n",
      "228 pb_med\n",
      "229 roe_med\n",
      "230 roa_med\n",
      "231 roic_med\n",
      "232 cod_med\n",
      "233 capint_med\n",
      "234 lev_med\n",
      "235 revt_sum_aoa\n",
      "236 ebit_sum_aoa\n",
      "237 ebitda_sum_aoa\n",
      "238 re_sum_aoa\n",
      "239 revt_med_aoa\n",
      "240 ebit_med_aoa\n",
      "241 ebitda_med_aoa\n",
      "242 re_med_aoa\n",
      "243 epspi_med_aoa\n",
      "244 gma_med_aoa\n",
      "245 operprof_med_aoa\n",
      "246 quick_med_aoa\n",
      "247 currat_med_aoa\n",
      "248 cashrrat_med_aoa\n",
      "249 cftrr_med_aoa\n",
      "250 dpr_med_aoa\n",
      "251 pe_med_aoa\n",
      "252 pb_med_aoa\n",
      "253 roe_med_aoa\n",
      "254 roa_med_aoa\n",
      "255 roic_med_aoa\n",
      "256 cod_med_aoa\n",
      "257 capint_med_aoa\n",
      "258 lev_med_aoa\n",
      "259 revt_sum_5o5\n",
      "260 ebit_sum_5o5\n",
      "261 ebitda_sum_5o5\n",
      "262 re_sum_5o5\n",
      "263 revt_med_5o5\n",
      "264 ebit_med_5o5\n",
      "265 ebitda_med_5o5\n",
      "266 re_med_5o5\n",
      "267 epspi_med_5o5\n",
      "268 gma_med_5o5\n",
      "269 operprof_med_5o5\n",
      "270 quick_med_5o5\n",
      "271 currat_med_5o5\n",
      "272 cashrrat_med_5o5\n",
      "273 cftrr_med_5o5\n",
      "274 dpr_med_5o5\n",
      "275 pe_med_5o5\n",
      "276 pb_med_5o5\n",
      "277 roe_med_5o5\n",
      "278 roa_med_5o5\n",
      "279 roic_med_5o5\n",
      "280 cod_med_5o5\n",
      "281 capint_med_5o5\n",
      "282 lev_med_5o5\n"
     ]
    }
   ],
   "source": [
    "for index, item in enumerate(x_tr.columns):\n",
    "    print(index, item)"
   ]
  },
  {
   "cell_type": "code",
   "execution_count": 4,
   "metadata": {
    "scrolled": true
   },
   "outputs": [
    {
     "data": {
      "text/plain": [
       "['revt',\n",
       " 'ebit',\n",
       " 'ebitda',\n",
       " 're',\n",
       " 'epspi',\n",
       " 'gma',\n",
       " 'operprof',\n",
       " 'quick',\n",
       " 'currat',\n",
       " 'cashrrat',\n",
       " 'cftrr',\n",
       " 'dpr',\n",
       " 'pe',\n",
       " 'pb',\n",
       " 'roe',\n",
       " 'roa',\n",
       " 'roic',\n",
       " 'cod',\n",
       " 'capint',\n",
       " 'lev',\n",
       " 'revt_aoa',\n",
       " 'ebit_aoa',\n",
       " 'ebitda_aoa',\n",
       " 're_aoa',\n",
       " 'epspi_aoa',\n",
       " 'gma_aoa',\n",
       " 'operprof_aoa',\n",
       " 'quick_aoa',\n",
       " 'currat_aoa',\n",
       " 'cashrrat_aoa',\n",
       " 'cftrr_aoa',\n",
       " 'dpr_aoa',\n",
       " 'pe_aoa',\n",
       " 'pb_aoa',\n",
       " 'roe_aoa',\n",
       " 'roa_aoa',\n",
       " 'roic_aoa',\n",
       " 'cod_aoa',\n",
       " 'capint_aoa',\n",
       " 'lev_aoa',\n",
       " 'revt_5o5',\n",
       " 'ebit_5o5',\n",
       " 'ebitda_5o5',\n",
       " 're_5o5',\n",
       " 'epspi_5o5',\n",
       " 'gma_5o5',\n",
       " 'operprof_5o5',\n",
       " 'quick_5o5',\n",
       " 'currat_5o5',\n",
       " 'cashrrat_5o5',\n",
       " 'cftrr_5o5',\n",
       " 'dpr_5o5',\n",
       " 'pe_5o5',\n",
       " 'pb_5o5',\n",
       " 'roe_5o5',\n",
       " 'roa_5o5',\n",
       " 'roic_5o5',\n",
       " 'cod_5o5',\n",
       " 'capint_5o5',\n",
       " 'lev_5o5']"
      ]
     },
     "execution_count": 4,
     "metadata": {},
     "output_type": "execute_result"
    }
   ],
   "source": [
    "list(y_tr.columns)"
   ]
  },
  {
   "cell_type": "code",
   "execution_count": 5,
   "metadata": {
    "pycharm": {
     "is_executing": true,
     "name": "#%%\n"
    },
    "scrolled": true
   },
   "outputs": [],
   "source": [
    "oosr2 = {}\n",
    "\n",
    "def single_feature_oosr2(item, x_tr=x_tr, y_tr=y_tr, x_ts=x_ts, y_ts=y_ts, \n",
    "                         param_test = {'max_depth': [1]}):\n",
    "    try:\n",
    "        _ = x_tr[item].values.shape[1]\n",
    "        x_tr_single = x_tr[item].values[:, 0].reshape(-1, 1)\n",
    "        y_tr_single = y_tr[item].values\n",
    "        x_ts_single = x_ts[item].values[:, 0].reshape(-1, 1)\n",
    "        y_ts_single = y_ts[item].values\n",
    "    except IndexError:\n",
    "        x_tr_single = x_tr[item].values.reshape(-1, 1)\n",
    "        y_tr_single = y_tr[item].values\n",
    "        x_ts_single = x_ts[item].values.reshape(-1, 1)\n",
    "        y_ts_single = y_ts[item].values\n",
    "    \n",
    "    mod = LGBMRegressor(objective='regression_l2', zero_as_missing=True)\n",
    "    clf = sklearn.model_selection.GridSearchCV(mod , param_grid = param_test, scoring='r2', cv=5)\n",
    "    clf.fit(x_tr_single, y_tr_single)\n",
    "    predictions = clf.predict(x_ts_single)\n",
    "\n",
    "    return sklearn.metrics.r2_score(y_ts_single, predictions)"
   ]
  },
  {
   "cell_type": "code",
   "execution_count": 6,
   "metadata": {
    "scrolled": false
   },
   "outputs": [
    {
     "data": {
      "image/png": "[encoded data removed]",
      "text/plain": [
       "<Figure size 432x288 with 1 Axes>"
      ]
     },
     "metadata": {
      "needs_background": "light"
     },
     "output_type": "display_data"
    },
    {
     "name": "stdout",
     "output_type": "stream",
     "text": [
      "revt 0.7476413309618097 0.29219091531668673 ['revt', 'mvel1', 'ebitda', 'rsup', 'pb']\n",
      "{'max_depth': 6, 'n_estimators': 500, 'num_leaves': 4}\n"
     ]
    },
    {
     "data": {
      "image/png": "[encoded data removed]",
      "text/plain": [
       "<Figure size 432x288 with 1 Axes>"
      ]
     },
     "metadata": {
      "needs_background": "light"
     },
     "output_type": "display_data"
    },
    {
     "name": "stdout",
     "output_type": "stream",
     "text": [
      "ebit 0.5936911264843271 0.17808792584831154 ['ebit', 'ebitda', 'revt', 'mvel1', 'pb']\n",
      "{'max_depth': 6, 'n_estimators': 500, 'num_leaves': 4}\n"
     ]
    },
    {
     "data": {
      "image/png": "[encoded data removed]",
      "text/plain": [
       "<Figure size 432x288 with 1 Axes>"
      ]
     },
     "metadata": {
      "needs_background": "light"
     },
     "output_type": "display_data"
    },
    {
     "name": "stdout",
     "output_type": "stream",
     "text": [
      "ebitda 0.6602286867569451 0.18724459135701768 ['ebitda', 'mvel1', 'revt', 'pb', 'ebit']\n",
      "{'max_depth': 6, 'n_estimators': 500, 'num_leaves': 4}\n"
     ]
    },
    {
     "data": {
      "image/png": "[encoded data removed]",
      "text/plain": [
       "<Figure size 432x288 with 1 Axes>"
      ]
     },
     "metadata": {
      "needs_background": "light"
     },
     "output_type": "display_data"
    },
    {
     "name": "stdout",
     "output_type": "stream",
     "text": [
      "re 0.5280372814395746 0.4796863620898838 ['re', 'pb', 'mvel1', 'revt', 'ebitda']\n",
      "{'max_depth': 6, 'n_estimators': 500, 'num_leaves': 4}\n"
     ]
    },
    {
     "data": {
      "image/png": "[encoded data removed]",
      "text/plain": [
       "<Figure size 432x288 with 1 Axes>"
      ]
     },
     "metadata": {
      "needs_background": "light"
     },
     "output_type": "display_data"
    },
    {
     "name": "stdout",
     "output_type": "stream",
     "text": [
      "epspi 0.026014719460249247 -0.05880300626895988 ['epspi', 'roe', 'ep', 'ebit', 'sp']\n",
      "{'max_depth': 1, 'n_estimators': 100, 'num_leaves': 2}\n"
     ]
    },
    {
     "data": {
      "image/png": "[encoded data removed]",
      "text/plain": [
       "<Figure size 432x288 with 1 Axes>"
      ]
     },
     "metadata": {
      "needs_background": "light"
     },
     "output_type": "display_data"
    },
    {
     "name": "stdout",
     "output_type": "stream",
     "text": [
      "gma 0.015334552170920945 2.3126051344595835 ['sp', 'cftrr_5o5', 'cash', 'cftrr', 'stdcf']\n",
      "{'max_depth': 1, 'n_estimators': 20, 'num_leaves': 2}\n"
     ]
    },
    {
     "data": {
      "image/png": "[encoded data removed]",
      "text/plain": [
       "<Figure size 432x288 with 1 Axes>"
      ]
     },
     "metadata": {
      "needs_background": "light"
     },
     "output_type": "display_data"
    },
    {
     "name": "stdout",
     "output_type": "stream",
     "text": [
      "operprof 1.0 0.0 ['lev_med_5o5', 'cod', 'dpr', 'pe', 'pb']\n",
      "{'max_depth': 1, 'n_estimators': 20, 'num_leaves': 2}\n"
     ]
    },
    {
     "data": {
      "image/png": "[encoded data removed]",
      "text/plain": [
       "<Figure size 432x288 with 1 Axes>"
      ]
     },
     "metadata": {
      "needs_background": "light"
     },
     "output_type": "display_data"
    },
    {
     "name": "stdout",
     "output_type": "stream",
     "text": [
      "quick 0.3950580535400783 1.5015527612291077 ['quick', 'cashdebt', 'currat', 'currat_aoa', 'currat']\n",
      "{'max_depth': 1, 'n_estimators': 100, 'num_leaves': 2}\n"
     ]
    },
    {
     "data": {
      "image/png": "[encoded data removed]",
      "text/plain": [
       "<Figure size 432x288 with 1 Axes>"
      ]
     },
     "metadata": {
      "needs_background": "light"
     },
     "output_type": "display_data"
    },
    {
     "name": "stdout",
     "output_type": "stream",
     "text": [
      "currat 0.3537503380589915 1.2387126584489767 ['currat', 'quick', 'cashdebt', 'cod', 'dpr']\n",
      "{'max_depth': 1, 'n_estimators': 20, 'num_leaves': 2}\n"
     ]
    },
    {
     "data": {
      "image/png": "[encoded data removed]",
      "text/plain": [
       "<Figure size 432x288 with 1 Axes>"
      ]
     },
     "metadata": {
      "needs_background": "light"
     },
     "output_type": "display_data"
    },
    {
     "name": "stdout",
     "output_type": "stream",
     "text": [
      "cashrrat 0.3394821006617599 0.07038571343029916 ['cashrrat', 'currat', 'salecash', 'cashdebt', 'quick']\n",
      "{'max_depth': 1, 'n_estimators': 500, 'num_leaves': 2}\n"
     ]
    },
    {
     "data": {
      "image/png": "[encoded data removed]",
      "text/plain": [
       "<Figure size 432x288 with 1 Axes>"
      ]
     },
     "metadata": {
      "needs_background": "light"
     },
     "output_type": "display_data"
    },
    {
     "name": "stdout",
     "output_type": "stream",
     "text": [
      "cftrr 0.01843728390688304 0.005773775883367462 ['sp', 'cftrr', 'cftrr_5o5', 'stdcf', 'sgr']\n",
      "{'max_depth': 1, 'n_estimators': 20, 'num_leaves': 2}\n"
     ]
    },
    {
     "data": {
      "image/png": "[encoded data removed]",
      "text/plain": [
       "<Figure size 432x288 with 1 Axes>"
      ]
     },
     "metadata": {
      "needs_background": "light"
     },
     "output_type": "display_data"
    },
    {
     "name": "stdout",
     "output_type": "stream",
     "text": [
      "dpr 0.0006467710191160325 -0.16224175401263372 ['dpr', 'ebitda_aoa', 'cftrr_aoa', 'gma_5o5', 'pe_med']\n",
      "{'max_depth': 1, 'n_estimators': 20, 'num_leaves': 2}\n"
     ]
    },
    {
     "data": {
      "image/png": "[encoded data removed]",
      "text/plain": [
       "<Figure size 432x288 with 1 Axes>"
      ]
     },
     "metadata": {
      "needs_background": "light"
     },
     "output_type": "display_data"
    },
    {
     "name": "stdout",
     "output_type": "stream",
     "text": [
      "pe -1.0918670649617823e-05 -0.7098932567134016 ['cod', 'tang', 'roic_med_5o5', 'pe', 'epspi']\n",
      "{'max_depth': 1, 'n_estimators': 20, 'num_leaves': 2}\n"
     ]
    },
    {
     "data": {
      "image/png": "[encoded data removed]",
      "text/plain": [
       "<Figure size 432x288 with 1 Axes>"
      ]
     },
     "metadata": {
      "needs_background": "light"
     },
     "output_type": "display_data"
    },
    {
     "name": "stdout",
     "output_type": "stream",
     "text": [
      "pb 0.014190825909501048 -0.3816500935884052 ['pb', 'mvel1', 'revt_med', 'revt_5o5', 'revt']\n",
      "{'max_depth': 6, 'n_estimators': 20, 'num_leaves': 4}\n"
     ]
    },
    {
     "data": {
      "image/png": "[encoded data removed]",
      "text/plain": [
       "<Figure size 432x288 with 1 Axes>"
      ]
     },
     "metadata": {
      "needs_background": "light"
     },
     "output_type": "display_data"
    },
    {
     "name": "stdout",
     "output_type": "stream",
     "text": [
      "roe -0.001453304269756428 20.538653088520856 ['mve_ia', 'ebitda', 'pe_med', 'mvel1', 're']\n",
      "{'max_depth': 1, 'n_estimators': 20, 'num_leaves': 2}\n"
     ]
    },
    {
     "data": {
      "image/png": "[encoded data removed]",
      "text/plain": [
       "<Figure size 432x288 with 1 Axes>"
      ]
     },
     "metadata": {
      "needs_background": "light"
     },
     "output_type": "display_data"
    },
    {
     "name": "stdout",
     "output_type": "stream",
     "text": [
      "roa -0.01708702791086658 599.2502600515733 ['epspi_med', 'roic_med_5o5', 'herf', 'roaq', 'lev_med_5o5']\n",
      "{'max_depth': 1, 'n_estimators': 20, 'num_leaves': 2}\n"
     ]
    },
    {
     "data": {
      "image/png": "[encoded data removed]",
      "text/plain": [
       "<Figure size 432x288 with 1 Axes>"
      ]
     },
     "metadata": {
      "needs_background": "light"
     },
     "output_type": "display_data"
    },
    {
     "name": "stdout",
     "output_type": "stream",
     "text": [
      "roic -0.0010769853517860195 -5.462585280368985 ['egr', 'rsup', 'cashrrat_aoa', 'roe', 'roic']\n",
      "{'max_depth': 1, 'n_estimators': 20, 'num_leaves': 2}\n"
     ]
    },
    {
     "data": {
      "image/png": "[encoded data removed]",
      "text/plain": [
       "<Figure size 432x288 with 1 Axes>"
      ]
     },
     "metadata": {
      "needs_background": "light"
     },
     "output_type": "display_data"
    },
    {
     "name": "stdout",
     "output_type": "stream",
     "text": [
      "cod -0.03602247381665746 -0.3930701903850956 ['cod', 'cod_5o5', 'salerec', 'roic', 'cftrr']\n",
      "{'max_depth': 1, 'n_estimators': 20, 'num_leaves': 2}\n"
     ]
    },
    {
     "data": {
      "image/png": "[encoded data removed]",
      "text/plain": [
       "<Figure size 432x288 with 1 Axes>"
      ]
     },
     "metadata": {
      "needs_background": "light"
     },
     "output_type": "display_data"
    },
    {
     "name": "stdout",
     "output_type": "stream",
     "text": [
      "capint 0.6270043248595719 0.05560144263094421 ['capint', 'cinvest', 'operprof', 'capint_med', 'grcapx']\n",
      "{'max_depth': 6, 'n_estimators': 500, 'num_leaves': 4}\n"
     ]
    },
    {
     "data": {
      "image/png": "[encoded data removed]",
      "text/plain": [
       "<Figure size 432x288 with 1 Axes>"
      ]
     },
     "metadata": {
      "needs_background": "light"
     },
     "output_type": "display_data"
    },
    {
     "name": "stdout",
     "output_type": "stream",
     "text": [
      "lev -0.715418374930548 880.1703067695872 ['epspi_med', 'herf', 'roic_med_5o5', 'lev_med_5o5', 'dpr']\n",
      "{'max_depth': 1, 'n_estimators': 20, 'num_leaves': 2}\n"
     ]
    }
   ],
   "source": [
    "# level prediction\n",
    "\n",
    "for item in y_tr.columns:\n",
    "    if '_5o5' in item or '_qoq' in item or '_aoa' in item:\n",
    "        continue    \n",
    "    param_test = {'max_depth': [1, 6], 'num_leaves': [2, 4], 'n_estimators': [20, 100, 500]}\n",
    "    mod = LGBMRegressor(objective='regression_l2', zero_as_missing=True)\n",
    "    clf = sklearn.model_selection.GridSearchCV(mod , param_grid = param_test, scoring='r2', cv=5)\n",
    "    clf.fit(x_tr.values, y_tr[item].values)\n",
    "    predictions = clf.predict(x_ts.values)\n",
    "    y_true = y_ts[item].values \n",
    "    plt.bar(range(len(clf.best_estimator_.feature_importances_)), clf.best_estimator_.feature_importances_)\n",
    "    plt.show()\n",
    "    max_fea = []\n",
    "    max_5 = clf.best_estimator_.feature_importances_.argsort()[-5:][::-1]\n",
    "    for index in max_5:\n",
    "        max_fea.append(x_tr.columns[index])\n",
    "    oosr2[item] = sklearn.metrics.r2_score(y_true, predictions)\n",
    "    try:\n",
    "        sig_feature_oosr2 = single_feature_oosr2(item, param_test=param_test)\n",
    "        enhancement = (oosr2[item] - sig_feature_oosr2)/sig_feature_oosr2\n",
    "        print(item, oosr2[item], enhancement, max_fea)\n",
    "        print(clf.best_params_)\n",
    "    except KeyError:\n",
    "        print(item, oosr2[item], max_fea)\n",
    "        print(clf.best_params_)"
   ]
  },
  {
   "cell_type": "code",
   "execution_count": 7,
   "metadata": {
    "scrolled": false
   },
   "outputs": [
    {
     "data": {
      "image/png": "[encoded data removed]",
      "text/plain": [
       "<Figure size 432x288 with 1 Axes>"
      ]
     },
     "metadata": {
      "needs_background": "light"
     },
     "output_type": "display_data"
    },
    {
     "name": "stdout",
     "output_type": "stream",
     "text": [
      "revt_aoa 0.0029644389331462406 -2.0099214293588266 ['roe_med_aoa', 'chatoia', 'gma_aoa', 'chpmia', 'revt_5o5']\n",
      "{'max_depth': 1, 'n_estimators': 20, 'num_leaves': 2}\n"
     ]
    },
    {
     "data": {
      "image/png": "[encoded data removed]",
      "text/plain": [
       "<Figure size 432x288 with 1 Axes>"
      ]
     },
     "metadata": {
      "needs_background": "light"
     },
     "output_type": "display_data"
    },
    {
     "name": "stdout",
     "output_type": "stream",
     "text": [
      "ebit_aoa -0.008352118595239544 223.57459102641042 ['ebit_5o5', 'pctacc', 'pe', 'pe_aoa', 'tb']\n",
      "{'max_depth': 1, 'n_estimators': 20, 'num_leaves': 2}\n"
     ]
    },
    {
     "data": {
      "image/png": "[encoded data removed]",
      "text/plain": [
       "<Figure size 432x288 with 1 Axes>"
      ]
     },
     "metadata": {
      "needs_background": "light"
     },
     "output_type": "display_data"
    },
    {
     "name": "stdout",
     "output_type": "stream",
     "text": [
      "ebitda_aoa 0.003994158572367956 -3.9519498183048953 ['ebitda_5o5', 'ebit_sum_aoa', 'mom36m', 'chtx', 'dpr_med_aoa']\n",
      "{'max_depth': 1, 'n_estimators': 20, 'num_leaves': 2}\n"
     ]
    },
    {
     "data": {
      "image/png": "[encoded data removed]",
      "text/plain": [
       "<Figure size 432x288 with 1 Axes>"
      ]
     },
     "metadata": {
      "needs_background": "light"
     },
     "output_type": "display_data"
    },
    {
     "name": "stdout",
     "output_type": "stream",
     "text": [
      "re_aoa -0.08615867028917101 -202.55144179336918 ['rd_mve', 'pe', 're_sum_aoa', 'chcsho', 'lev_med_5o5']\n",
      "{'max_depth': 1, 'n_estimators': 20, 'num_leaves': 2}\n"
     ]
    },
    {
     "data": {
      "image/png": "[encoded data removed]",
      "text/plain": [
       "<Figure size 432x288 with 1 Axes>"
      ]
     },
     "metadata": {
      "needs_background": "light"
     },
     "output_type": "display_data"
    },
    {
     "name": "stdout",
     "output_type": "stream",
     "text": [
      "epspi_aoa 0.001757602278285031 -3.542542140246488 ['pe_5o5', 'pe', 'dpr_aoa', 'pe_aoa', 'epspi_5o5']\n",
      "{'max_depth': 1, 'n_estimators': 20, 'num_leaves': 2}\n"
     ]
    },
    {
     "data": {
      "image/png": "[encoded data removed]",
      "text/plain": [
       "<Figure size 432x288 with 1 Axes>"
      ]
     },
     "metadata": {
      "needs_background": "light"
     },
     "output_type": "display_data"
    },
    {
     "name": "stdout",
     "output_type": "stream",
     "text": [
      "gma_aoa -0.015828272476124283 26.440629902566975 ['stdacc', 'dy', 'roavol', 'cashrrat', 'pchdepr']\n",
      "{'max_depth': 1, 'n_estimators': 20, 'num_leaves': 2}\n"
     ]
    },
    {
     "data": {
      "image/png": "[encoded data removed]",
      "text/plain": [
       "<Figure size 432x288 with 1 Axes>"
      ]
     },
     "metadata": {
      "needs_background": "light"
     },
     "output_type": "display_data"
    },
    {
     "name": "stdout",
     "output_type": "stream",
     "text": [
      "operprof_aoa 1.0 0.0 ['lev_med_5o5', 'cod', 'dpr', 'pe', 'pb']\n",
      "{'max_depth': 1, 'n_estimators': 20, 'num_leaves': 2}\n"
     ]
    },
    {
     "data": {
      "image/png": "[encoded data removed]",
      "text/plain": [
       "<Figure size 432x288 with 1 Axes>"
      ]
     },
     "metadata": {
      "needs_background": "light"
     },
     "output_type": "display_data"
    },
    {
     "name": "stdout",
     "output_type": "stream",
     "text": [
      "quick_aoa 0.059692426004147814 0.32911721459076887 ['currat', 'quick_5o5', 'quick', 'quick_aoa', 'currat_aoa']\n",
      "{'max_depth': 1, 'n_estimators': 20, 'num_leaves': 2}\n"
     ]
    },
    {
     "data": {
      "image/png": "[encoded data removed]",
      "text/plain": [
       "<Figure size 432x288 with 1 Axes>"
      ]
     },
     "metadata": {
      "needs_background": "light"
     },
     "output_type": "display_data"
    },
    {
     "name": "stdout",
     "output_type": "stream",
     "text": [
      "currat_aoa 0.06483564477629677 0.2779596298813925 ['currat', 'currat_aoa', 'currat_5o5', 'quick_5o5', 'quick']\n",
      "{'max_depth': 1, 'n_estimators': 20, 'num_leaves': 2}\n"
     ]
    },
    {
     "data": {
      "image/png": "[encoded data removed]",
      "text/plain": [
       "<Figure size 432x288 with 1 Axes>"
      ]
     },
     "metadata": {
      "needs_background": "light"
     },
     "output_type": "display_data"
    },
    {
     "name": "stdout",
     "output_type": "stream",
     "text": [
      "cashrrat_aoa 0.024455122752953806 3.4774374022636287 ['cashrrat', 'cashpr', 'currat', 'pb', 'quick_5o5']\n",
      "{'max_depth': 1, 'n_estimators': 100, 'num_leaves': 2}\n"
     ]
    },
    {
     "data": {
      "image/png": "[encoded data removed]",
      "text/plain": [
       "<Figure size 432x288 with 1 Axes>"
      ]
     },
     "metadata": {
      "needs_background": "light"
     },
     "output_type": "display_data"
    },
    {
     "name": "stdout",
     "output_type": "stream",
     "text": [
      "cftrr_aoa -0.2719469535510304 56.88774461036449 ['pb_aoa', 'cod_5o5', 'stdcf', 'rsup', 'cinvest']\n",
      "{'max_depth': 1, 'n_estimators': 20, 'num_leaves': 2}\n"
     ]
    },
    {
     "data": {
      "image/png": "[encoded data removed]",
      "text/plain": [
       "<Figure size 432x288 with 1 Axes>"
      ]
     },
     "metadata": {
      "needs_background": "light"
     },
     "output_type": "display_data"
    },
    {
     "name": "stdout",
     "output_type": "stream",
     "text": [
      "dpr_aoa -0.007778194954373374 38.24632041946272 ['aeavol', 're_5o5', 'ear', 'cashdebt', 'chempia']\n",
      "{'max_depth': 1, 'n_estimators': 20, 'num_leaves': 2}\n"
     ]
    },
    {
     "data": {
      "image/png": "[encoded data removed]",
      "text/plain": [
       "<Figure size 432x288 with 1 Axes>"
      ]
     },
     "metadata": {
      "needs_background": "light"
     },
     "output_type": "display_data"
    },
    {
     "name": "stdout",
     "output_type": "stream",
     "text": [
      "pe_aoa -0.0010454328601643414 5.167095753657504 ['pchdepr', 're_5o5', 'ebit_sum_aoa', 're', 'pb_aoa']\n",
      "{'max_depth': 1, 'n_estimators': 20, 'num_leaves': 2}\n"
     ]
    },
    {
     "data": {
      "image/png": "[encoded data removed]",
      "text/plain": [
       "<Figure size 432x288 with 1 Axes>"
      ]
     },
     "metadata": {
      "needs_background": "light"
     },
     "output_type": "display_data"
    },
    {
     "name": "stdout",
     "output_type": "stream",
     "text": [
      "pb_aoa -0.03048344546207571 0.21331258701883976 ['rd_mve', 'roavol', 'grltnoa', 're_aoa', 'lev']\n",
      "{'max_depth': 1, 'n_estimators': 20, 'num_leaves': 2}\n"
     ]
    },
    {
     "data": {
      "image/png": "[encoded data removed]",
      "text/plain": [
       "<Figure size 432x288 with 1 Axes>"
      ]
     },
     "metadata": {
      "needs_background": "light"
     },
     "output_type": "display_data"
    },
    {
     "name": "stdout",
     "output_type": "stream",
     "text": [
      "roe_aoa -0.053558987192897645 177.82688039781016 ['mve_ia', 'ebitda', 'pe_med', 'mvel1', 're']\n",
      "{'max_depth': 1, 'n_estimators': 20, 'num_leaves': 2}\n"
     ]
    },
    {
     "data": {
      "image/png": "[encoded data removed]",
      "text/plain": [
       "<Figure size 432x288 with 1 Axes>"
      ]
     },
     "metadata": {
      "needs_background": "light"
     },
     "output_type": "display_data"
    },
    {
     "name": "stdout",
     "output_type": "stream",
     "text": [
      "roa_aoa -0.7693001425197328 -11685.66701190626 ['epspi_med', 'pe', 'grcapx', 'roa_5o5', 'lev_med_5o5']\n",
      "{'max_depth': 1, 'n_estimators': 20, 'num_leaves': 2}\n"
     ]
    },
    {
     "data": {
      "image/png": "[encoded data removed]",
      "text/plain": [
       "<Figure size 432x288 with 1 Axes>"
      ]
     },
     "metadata": {
      "needs_background": "light"
     },
     "output_type": "display_data"
    },
    {
     "name": "stdout",
     "output_type": "stream",
     "text": [
      "roic_aoa -0.0007378720278550244 -4.374480059907819 ['cashrrat_med_5o5', 'saleinv', 'roa_5o5', 'pe_aoa', 'pchsaleinv']\n",
      "{'max_depth': 1, 'n_estimators': 20, 'num_leaves': 2}\n"
     ]
    },
    {
     "data": {
      "image/png": "[encoded data removed]",
      "text/plain": [
       "<Figure size 432x288 with 1 Axes>"
      ]
     },
     "metadata": {
      "needs_background": "light"
     },
     "output_type": "display_data"
    },
    {
     "name": "stdout",
     "output_type": "stream",
     "text": [
      "cod_aoa -0.01060933733926217 8.2425805906765 ['lev_aoa', 'gma_5o5', 're_med_5o5', 'stdcf', 'epspi_aoa']\n",
      "{'max_depth': 1, 'n_estimators': 20, 'num_leaves': 2}\n"
     ]
    },
    {
     "data": {
      "image/png": "[encoded data removed]",
      "text/plain": [
       "<Figure size 432x288 with 1 Axes>"
      ]
     },
     "metadata": {
      "needs_background": "light"
     },
     "output_type": "display_data"
    },
    {
     "name": "stdout",
     "output_type": "stream",
     "text": [
      "capint_aoa -0.017703047128830418 -5.258826165084876 ['capint', 'capint_5o5', 'grcapx', 'mom6m', 'chmom']\n",
      "{'max_depth': 1, 'n_estimators': 20, 'num_leaves': 2}\n"
     ]
    },
    {
     "data": {
      "image/png": "[encoded data removed]",
      "text/plain": [
       "<Figure size 432x288 with 1 Axes>"
      ]
     },
     "metadata": {
      "needs_background": "light"
     },
     "output_type": "display_data"
    },
    {
     "name": "stdout",
     "output_type": "stream",
     "text": [
      "lev_aoa 0.001669849235928389 10.307318835438032 ['lev', 'lev_aoa', 'cashdebt', 'pb_5o5', 'epspi_med']\n",
      "{'max_depth': 1, 'n_estimators': 500, 'num_leaves': 2}\n"
     ]
    }
   ],
   "source": [
    "# year on year growth prediction\n",
    "\n",
    "for item in y_tr.columns:\n",
    "    if '_aoa' not in item:\n",
    "        continue    \n",
    "#     param_test = {'max_depth': [1, 6], 'num_leaves': [2, 4], 'n_estimators': [20, 100, 500]}\n",
    "    param_test = {'max_depth': [1], 'num_leaves': [2], 'n_estimators': [20, 100, 500]}\n",
    "    mod = LGBMRegressor(objective='regression_l2', zero_as_missing=True)\n",
    "    clf = sklearn.model_selection.GridSearchCV(mod , param_grid = param_test, scoring='r2', cv=5)\n",
    "    clf.fit(x_tr.values, y_tr[item].values)\n",
    "    predictions = clf.predict(x_ts.values)\n",
    "    y_true = y_ts[item].values \n",
    "    plt.bar(range(len(clf.best_estimator_.feature_importances_)), clf.best_estimator_.feature_importances_)\n",
    "    plt.show()\n",
    "    max_fea = []\n",
    "    max_5 = clf.best_estimator_.feature_importances_.argsort()[-5:][::-1]\n",
    "    for index in max_5:\n",
    "        max_fea.append(x_tr.columns[index])\n",
    "    oosr2[item] = sklearn.metrics.r2_score(y_true, predictions)\n",
    "    try:\n",
    "        sig_feature_oosr2 = single_feature_oosr2(item, param_test=param_test)\n",
    "        enhancement = (oosr2[item] - sig_feature_oosr2)/sig_feature_oosr2\n",
    "        print(item, oosr2[item], enhancement, max_fea)\n",
    "        print(clf.best_params_)\n",
    "    except KeyError:\n",
    "        print(item, oosr2[item], max_fea)\n",
    "        print(clf.best_params_)"
   ]
  },
  {
   "cell_type": "code",
   "execution_count": null,
   "metadata": {},
   "outputs": [],
   "source": [
    "ssh -N -f -L localhost:9999:localhost:3821 mingweim@rapid-omi-13.oxford-man.ox.ac.uk\n",
    "\n"
   ]
  }
 ],
 "metadata": {
  "kernelspec": {
   "display_name": "Python 3",
   "language": "python",
   "name": "python3"
  },
  "language_info": {
   "codemirror_mode": {
    "name": "ipython",
    "version": 3
   },
   "file_extension": ".py",
   "mimetype": "text/x-python",
   "name": "python",
   "nbconvert_exporter": "python",
   "pygments_lexer": "ipython3",
   "version": "3.7.5"
  },
  "pycharm": {
   "stem_cell": {
    "cell_type": "raw",
    "metadata": {
     "collapsed": false
    },
    "source": []
   }
  }
 },
 "nbformat": 4,
 "nbformat_minor": 2
}
