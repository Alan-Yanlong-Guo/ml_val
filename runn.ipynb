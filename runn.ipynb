{
 "cells": [
  {
   "cell_type": "code",
   "execution_count": 3,
   "metadata": {},
   "outputs": [],
   "source": [
    "import os \n",
    "import pickle\n",
    "import numpy as np \n",
    "\n",
    "def year_count(year): \n",
    "    for root, dirs, files in os.walk(\"/Users/mingyu/Desktop/data/annual_x\"):\n",
    "        count = 0\n",
    "    for i in range(len(files)):\n",
    "        with open(os.path.join(root, files[i]), 'rb') as handle: \n",
    "            content = pickle.load(handle)\n",
    "        content.reset_index(inplace=True)\n",
    "        count += np.shape(content[content['fyear'] == year])[0]\n",
    "    return count"
   ]
  },
  {
   "cell_type": "code",
   "execution_count": 4,
   "metadata": {},
   "outputs": [
    {
     "name": "stdout",
     "output_type": "stream",
     "text": [
      "1970  company count: 1938\n",
      "1971  company count: 2238\n",
      "1972  company count: 3288\n",
      "1973  company count: 3324\n",
      "1974  company count: 3352\n",
      "1975  company count: 3330\n",
      "1976  company count: 3299\n",
      "1977  company count: 3218\n",
      "1978  company count: 3388\n",
      "1979  company count: 3671\n",
      "1980  company count: 3767\n",
      "1981  company count: 4048\n",
      "1982  company count: 4156\n",
      "1983  company count: 4491\n",
      "1984  company count: 4529\n",
      "1985  company count: 4583\n",
      "1986  company count: 4830\n",
      "1987  company count: 5022\n",
      "1988  company count: 4917\n",
      "1989  company count: 4844\n",
      "1990  company count: 4836\n",
      "1991  company count: 4891\n",
      "1992  company count: 5167\n",
      "1993  company count: 6221\n",
      "1994  company count: 6558\n",
      "1995  company count: 6791\n",
      "1996  company count: 7251\n",
      "1997  company count: 7166\n",
      "1998  company count: 6776\n",
      "1999  company count: 6695\n",
      "2000  company count: 6337\n",
      "2001  company count: 5826\n",
      "2002  company count: 5459\n",
      "2003  company count: 5215\n",
      "2004  company count: 5167\n",
      "2005  company count: 5092\n",
      "2006  company count: 4940\n",
      "2007  company count: 4833\n",
      "2008  company count: 4570\n",
      "2009  company count: 4377\n",
      "2010  company count: 4286\n",
      "2011  company count: 4249\n",
      "2012  company count: 4192\n",
      "2013  company count: 4287\n",
      "2014  company count: 4430\n",
      "2015  company count: 4388\n",
      "2016  company count: 4290\n",
      "2017  company count: 4281\n",
      "2018  company count: 4344\n",
      "4676.489795918367\n"
     ]
    }
   ],
   "source": [
    "count_all = 0\n",
    "n = 0\n",
    "for year in range(1970, 2019): \n",
    "    count = year_count(year)\n",
    "    print(year, ' company count:',count)\n",
    "    count_all += count\n",
    "    n += 1\n",
    "print(count_all/n)"
   ]
  },
  {
   "cell_type": "code",
   "execution_count": 2,
   "metadata": {},
   "outputs": [
    {
     "data": {
      "text/plain": [
       "'001690'"
      ]
     },
     "execution_count": 2,
     "metadata": {},
     "output_type": "execute_result"
    }
   ],
   "source": [
    "from global_settings import conn\n",
    "from tools.utils import permno_to_gvkey\n",
    "permno_to_gvkey(14593)"
   ]
  },
  {
   "cell_type": "code",
   "execution_count": 6,
   "metadata": {},
   "outputs": [],
   "source": [
    "compq = conn.raw_sql(f\"\"\"\n",
    "                     select \n",
    "                     fyearq, fqtr, apdedateq, datadate, pdateq, fdateq, f.gvkey, REVTQ, REQ, EPSPIQ, ACTQ, \n",
    "                     INVTQ, LCTQ, CHQ, CSHOQ, abs(PRCCQ) as PRCCQ, NIQ, ATQ, LTQ, GDWLQ, OPEPSQ, OIADPQ, OIBDPQ, \n",
    "                     PIQ, CEQQ\n",
    "                     from comp.fundq as f\n",
    "                     where f.gvkey = '001690'\n",
    "                     and REVTQ != 'NaN'\n",
    "                     \"\"\")"
   ]
  },
  {
   "cell_type": "code",
   "execution_count": 9,
   "metadata": {},
   "outputs": [
    {
     "data": {
      "text/plain": [
       "0             NaN\n",
       "1             NaN\n",
       "2             NaN\n",
       "3             NaN\n",
       "4       34.124969\n",
       "5       24.499985\n",
       "6       25.999985\n",
       "7       15.249996\n",
       "8       22.124985\n",
       "9       16.874985\n",
       "10      12.749996\n",
       "11      18.249985\n",
       "12      29.875000\n",
       "13      42.250000\n",
       "14      48.875000\n",
       "15      23.125000\n",
       "16      24.375000\n",
       "17      24.750000\n",
       "18      26.500000\n",
       "19      25.125000\n",
       "20      29.125000\n",
       "21      22.125000\n",
       "22      18.000000\n",
       "23      15.750000\n",
       "24      22.000000\n",
       "25      28.250000\n",
       "26      35.875000\n",
       "27      33.500000\n",
       "28      40.500000\n",
       "29      64.500000\n",
       "          ...    \n",
       "131    667.105000\n",
       "132    532.172900\n",
       "133    442.660000\n",
       "134    396.530000\n",
       "135    476.750000\n",
       "136    561.020000\n",
       "137    536.740000\n",
       "138     92.930000\n",
       "139    100.750000\n",
       "140    110.380000\n",
       "141    124.430000\n",
       "142    125.425000\n",
       "143    110.300000\n",
       "144    105.260000\n",
       "145    108.990000\n",
       "146     95.600000\n",
       "147    113.050000\n",
       "148    115.820000\n",
       "149    143.660000\n",
       "150    144.020000\n",
       "151    154.120000\n",
       "152    169.230000\n",
       "153    167.780000\n",
       "154    185.110000\n",
       "155    225.740000\n",
       "156    157.740000\n",
       "157    189.950000\n",
       "158    197.920000\n",
       "159    223.970000\n",
       "160    293.650000\n",
       "Name: prccq, Length: 161, dtype: float64"
      ]
     },
     "execution_count": 9,
     "metadata": {},
     "output_type": "execute_result"
    }
   ],
   "source": [
    "compq['prccq']"
   ]
  },
  {
   "cell_type": "code",
   "execution_count": null,
   "metadata": {},
   "outputs": [],
   "source": []
  }
 ],
 "metadata": {
  "kernelspec": {
   "display_name": "Python 3",
   "language": "python",
   "name": "python3"
  },
  "language_info": {
   "codemirror_mode": {
    "name": "ipython",
    "version": 3
   },
   "file_extension": ".py",
   "mimetype": "text/x-python",
   "name": "python",
   "nbconvert_exporter": "python",
   "pygments_lexer": "ipython3",
   "version": "3.7.3"
  }
 },
 "nbformat": 4,
 "nbformat_minor": 2
}
