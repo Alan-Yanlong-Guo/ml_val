{
 "cells": [
  {
   "cell_type": "code",
   "execution_count": 1,
   "metadata": {},
   "outputs": [],
   "source": [
    "import pickle \n",
    "with open('/Users/mingyu/Desktop/data/annual_y/y_A.pkl', 'rb') as handle: \n",
    "    content = pickle.load(handle)"
   ]
  },
  {
   "cell_type": "code",
   "execution_count": null,
   "metadata": {},
   "outputs": [
    {
     "name": "stdout",
     "output_type": "stream",
     "text": [
      "2020-03-24 22:42:17.775099 Working on year 1987\n",
      "2020-03-24 22:42:17.775693 Working on group A\n",
      "2020-03-24 22:42:30.723492 Working on group B\n",
      "2020-03-24 22:42:39.447887 Working on group C\n",
      "2020-03-24 22:42:54.271353 Working on group D\n",
      "2020-03-24 22:43:00.874921 Working on group E\n",
      "2020-03-24 22:43:10.184341 Working on group F\n",
      "2020-03-24 22:43:19.131914 Working on group G\n",
      "2020-03-24 22:43:26.203956 Working on group H\n",
      "2020-03-24 22:43:32.868078 Working on group I\n",
      "2020-03-24 22:43:42.582388 Working on group J\n",
      "2020-03-24 22:43:45.543998 Working on group K\n",
      "2020-03-24 22:43:48.609860 Working on group L\n",
      "2020-03-24 22:43:53.166579 Working on group M\n",
      "2020-03-24 22:44:03.422473 Working on group N\n",
      "2020-03-24 22:44:11.096146 Working on group O\n",
      "2020-03-24 22:44:14.895191 Working on group P\n",
      "2020-03-24 22:44:25.920864 Working on group Q\n",
      "2020-03-24 22:44:28.028162 Working on group R\n",
      "2020-03-24 22:44:34.726321 Working on group S\n",
      "2020-03-24 22:44:48.252105 Working on group T\n",
      "2020-03-24 22:44:56.133920 Working on group U\n"
     ]
    }
   ],
   "source": [
    "from data.build_xy import run_build_xy\n",
    "run_build_xy(1, 0)"
   ]
  },
  {
   "cell_type": "code",
   "execution_count": null,
   "metadata": {},
   "outputs": [],
   "source": []
  }
 ],
 "metadata": {
  "kernelspec": {
   "display_name": "Python 3",
   "language": "python",
   "name": "python3"
  },
  "language_info": {
   "codemirror_mode": {
    "name": "ipython",
    "version": 3
   },
   "file_extension": ".py",
   "mimetype": "text/x-python",
   "name": "python",
   "nbconvert_exporter": "python",
   "pygments_lexer": "ipython3",
   "version": "3.7.3"
  }
 },
 "nbformat": 4,
 "nbformat_minor": 2
}
