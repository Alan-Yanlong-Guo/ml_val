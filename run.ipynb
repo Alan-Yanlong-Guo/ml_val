{
 "cells": [
  {
   "cell_type": "code",
   "execution_count": 9,
   "metadata": {
    "pycharm": {
     "is_executing": false,
     "name": "#%%\n"
    }
   },
   "outputs": [],
   "source": [
    "import pickle\n",
    "import xgboost as xgb\n",
    "\n",
    "xy_data_dir = '/Users/mmw/Documents/GitHub/ml_val/data_all/xy_data'\n",
    "with open(xy_data_dir + '/x_tr.pkl', 'rb') as handle:\n",
    "    x_tr = pickle.load(handle).fillna(0).iloc[:,5:]\n",
    "with open(xy_data_dir + '/y_tr.pkl', 'rb') as handle:\n",
    "    y_tr = pickle.load(handle).fillna(0).iloc[:,5:]\n",
    "with open(xy_data_dir + '/x_val.pkl', 'rb') as handle:\n",
    "    x_val = pickle.load(handle).fillna(0).iloc[:,5:]\n",
    "with open(xy_data_dir + '/y_val.pkl', 'rb') as handle:\n",
    "    y_val = pickle.load(handle).fillna(0).iloc[:,5:]\n",
    "# with open(xy_data_dir + '/x_ts.pkl', 'rb') as handle:\n",
    "#     x_ts = pickle.load(handle).fillna(0).iloc[:,5:]\n",
    "# with open(xy_data_dir + '/y_ts.pkl', 'rb') as handle:\n",
    "#     y_ts = pickle.load(handle).fillna(0).iloc[:,5:]\n",
    "# "
   ]
  },
  {
   "cell_type": "code",
   "execution_count": 10,
   "metadata": {
    "scrolled": false
   },
   "outputs": [
    {
     "name": "stdout",
     "output_type": "stream",
     "text": [
      "0 gvkey\n",
      "1 absacc\n",
      "2 acc\n",
      "3 agr\n",
      "4 bm_ia\n",
      "5 cashdebt\n",
      "6 cashpr\n",
      "7 cfp\n",
      "8 cfp_ia\n",
      "9 chatoia\n",
      "10 chcsho\n",
      "11 chempia\n",
      "12 chinv\n",
      "13 chpmia\n",
      "14 convind\n",
      "15 currat\n",
      "16 currat\n",
      "17 depr\n",
      "18 divi\n",
      "19 divo\n",
      "20 dy\n",
      "21 egr\n",
      "22 ep\n",
      "23 gma\n",
      "24 grcapx\n",
      "25 grltnoa\n",
      "26 herf\n",
      "27 hire\n",
      "28 invest\n",
      "29 lev\n",
      "30 lgr\n",
      "31 mve_ia\n",
      "32 operprof\n",
      "33 orgcap\n",
      "34 pchcapx_ia\n",
      "35 pchcurrat\n",
      "36 pchdepr\n",
      "37 pchgm_pchsale\n",
      "38 pchquick\n",
      "39 pchsale_pchinvt\n",
      "40 pchsale_pchrect\n",
      "41 pchsale_pchxsga\n",
      "42 pchsaleinv\n",
      "43 pctacc\n",
      "44 ps\n",
      "45 quick\n",
      "46 rd\n",
      "47 rd_mve\n",
      "48 rd_sale\n",
      "49 realestate\n",
      "50 roic\n",
      "51 salecash\n",
      "52 saleinv\n",
      "53 salerec\n",
      "54 secured\n",
      "55 securedind\n",
      "56 sgr\n",
      "57 sin\n",
      "58 sp\n",
      "59 tang\n",
      "60 tb\n",
      "61 aeavol\n",
      "62 cash\n",
      "63 chtx\n",
      "64 cinvest\n",
      "65 ear\n",
      "66 roaq\n",
      "67 roavol\n",
      "68 roeq\n",
      "69 rsup\n",
      "70 stdacc\n",
      "71 stdcf\n",
      "72 chmom\n",
      "73 dolvol\n",
      "74 mom12m\n",
      "75 mom1m\n",
      "76 mom36m\n",
      "77 mom6m\n",
      "78 mvel1\n",
      "79 turn\n",
      "80 revtq\n",
      "81 req\n",
      "82 epspiq\n",
      "83 quickq\n",
      "84 curratq\n",
      "85 cashrratq\n",
      "86 peq\n",
      "87 roeq\n",
      "88 roaq\n",
      "89 revtq_aoa\n",
      "90 req_aoa\n",
      "91 epspiq_aoa\n",
      "92 quickq_aoa\n",
      "93 curratq_aoa\n",
      "94 cashrratq_aoa\n",
      "95 peq_aoa\n",
      "96 roeq_aoa\n",
      "97 roaq_aoa\n",
      "98 revtq_5o5\n",
      "99 req_5o5\n",
      "100 epspiq_5o5\n",
      "101 quickq_5o5\n",
      "102 curratq_5o5\n",
      "103 cashrratq_5o5\n",
      "104 peq_5o5\n",
      "105 roeq_5o5\n",
      "106 roaq_5o5\n"
     ]
    }
   ],
   "source": [
    "for index, item in enumerate(x_tr.columns):\n",
    "    print(index, item)"
   ]
  },
  {
   "cell_type": "code",
   "execution_count": 6,
   "metadata": {
    "scrolled": true
   },
   "outputs": [
    {
     "data": {
      "text/plain": [
       "['gvkey',\n",
       " 'revt',\n",
       " 'ebit',\n",
       " 'ebitda',\n",
       " 're',\n",
       " 'epspi',\n",
       " 'gma',\n",
       " 'operprof',\n",
       " 'quick',\n",
       " 'currat',\n",
       " 'cashrrat',\n",
       " 'cftrr',\n",
       " 'dpr',\n",
       " 'pe',\n",
       " 'pb',\n",
       " 'roe',\n",
       " 'roa',\n",
       " 'roic',\n",
       " 'cod',\n",
       " 'capint',\n",
       " 'lev',\n",
       " 'revt_aoa',\n",
       " 'ebit_aoa',\n",
       " 'ebitda_aoa',\n",
       " 're_aoa',\n",
       " 'epspi_aoa',\n",
       " 'gma_aoa',\n",
       " 'operprof_aoa',\n",
       " 'quick_aoa',\n",
       " 'currat_aoa',\n",
       " 'cashrrat_aoa',\n",
       " 'cftrr_aoa',\n",
       " 'dpr_aoa',\n",
       " 'pe_aoa',\n",
       " 'pb_aoa',\n",
       " 'roe_aoa',\n",
       " 'roa_aoa',\n",
       " 'roic_aoa',\n",
       " 'cod_aoa',\n",
       " 'capint_aoa',\n",
       " 'lev_aoa',\n",
       " 'revt_5o5',\n",
       " 'ebit_5o5',\n",
       " 'ebitda_5o5',\n",
       " 're_5o5',\n",
       " 'epspi_5o5',\n",
       " 'gma_5o5',\n",
       " 'operprof_5o5',\n",
       " 'quick_5o5',\n",
       " 'currat_5o5',\n",
       " 'cashrrat_5o5',\n",
       " 'cftrr_5o5',\n",
       " 'dpr_5o5',\n",
       " 'pe_5o5',\n",
       " 'pb_5o5',\n",
       " 'roe_5o5',\n",
       " 'roa_5o5',\n",
       " 'roic_5o5',\n",
       " 'cod_5o5',\n",
       " 'capint_5o5',\n",
       " 'lev_5o5',\n",
       " 'revtq',\n",
       " 'req',\n",
       " 'epspiq',\n",
       " 'quickq',\n",
       " 'curratq',\n",
       " 'cashrratq',\n",
       " 'peq',\n",
       " 'roeq',\n",
       " 'roaq',\n",
       " 'revtq_qoq',\n",
       " 'req_qoq',\n",
       " 'epspiq_qoq',\n",
       " 'quickq_qoq',\n",
       " 'curratq_qoq',\n",
       " 'cashrratq_qoq',\n",
       " 'peq_qoq',\n",
       " 'roeq_qoq',\n",
       " 'roaq_qoq',\n",
       " 'revtq_aoa',\n",
       " 'req_aoa',\n",
       " 'epspiq_aoa',\n",
       " 'quickq_aoa',\n",
       " 'curratq_aoa',\n",
       " 'cashrratq_aoa',\n",
       " 'peq_aoa',\n",
       " 'roeq_aoa',\n",
       " 'roaq_aoa',\n",
       " 'revtq_5o5',\n",
       " 'req_5o5',\n",
       " 'epspiq_5o5',\n",
       " 'quickq_5o5',\n",
       " 'curratq_5o5',\n",
       " 'cashrratq_5o5',\n",
       " 'peq_5o5',\n",
       " 'roeq_5o5',\n",
       " 'roaq_5o5']"
      ]
     },
     "execution_count": 6,
     "metadata": {},
     "output_type": "execute_result"
    }
   ],
   "source": [
    "list(y_tr.columns)"
   ]
  },
  {
   "cell_type": "code",
   "execution_count": 8,
   "metadata": {
    "pycharm": {
     "is_executing": true,
     "name": "#%%\n"
    }
   },
   "outputs": [
    {
     "name": "stdout",
     "output_type": "stream",
     "text": [
      "[12:51:37] WARNING: src/objective/regression_obj.cu:152: reg:linear is now deprecated in favor of reg:squarederror.\n"
     ]
    },
    {
     "ename": "XGBoostError",
     "evalue": "[12:51:37] src/objective/regression_obj.cu:65: Check failed: preds.Size() == info.labels_.Size() (99382 vs. 99285) : labels are not correctly providedpreds.size=99382, label.size=99285\nStack trace:\n  [bt] (0) 1   libxgboost.dylib                    0x00000001356b4a89 dmlc::LogMessageFatal::~LogMessageFatal() + 57\n  [bt] (1) 2   libxgboost.dylib                    0x000000013571ad67 xgboost::obj::RegLossObj<xgboost::obj::LinearSquareLoss>::GetGradient(xgboost::HostDeviceVector<float> const&, xgboost::MetaInfo const&, int, xgboost::HostDeviceVector<xgboost::detail::GradientPairInternal<float> >*) + 647\n  [bt] (2) 3   libxgboost.dylib                    0x00000001356b0803 xgboost::LearnerImpl::UpdateOneIter(int, xgboost::DMatrix*) + 1795\n  [bt] (3) 4   libxgboost.dylib                    0x00000001357848cc XGBoosterUpdateOneIter + 172\n  [bt] (4) 5   _ctypes.cpython-37m-darwin.so       0x000000010bea7177 ffi_call_unix64 + 79\n  [bt] (5) 6   ???                                 0x00007ffee474d1f0 0x0 + 140732731281904\n\n",
     "output_type": "error",
     "traceback": [
      "\u001b[0;31m---------------------------------------------------------------------------\u001b[0m",
      "\u001b[0;31mXGBoostError\u001b[0m                              Traceback (most recent call last)",
      "\u001b[0;32m<ipython-input-8-54d8edfd7d1a>\u001b[0m in \u001b[0;36m<module>\u001b[0;34m\u001b[0m\n\u001b[1;32m     10\u001b[0m \u001b[0;32mfor\u001b[0m \u001b[0mitem\u001b[0m \u001b[0;32min\u001b[0m \u001b[0my_tr\u001b[0m\u001b[0;34m.\u001b[0m\u001b[0mcolumns\u001b[0m\u001b[0;34m:\u001b[0m\u001b[0;34m\u001b[0m\u001b[0;34m\u001b[0m\u001b[0m\n\u001b[1;32m     11\u001b[0m \u001b[0;31m#     try:\u001b[0m\u001b[0;34m\u001b[0m\u001b[0;34m\u001b[0m\u001b[0;34m\u001b[0m\u001b[0m\n\u001b[0;32m---> 12\u001b[0;31m     \u001b[0mmod\u001b[0m\u001b[0;34m.\u001b[0m\u001b[0mfit\u001b[0m\u001b[0;34m(\u001b[0m\u001b[0mx_tr\u001b[0m\u001b[0;34m.\u001b[0m\u001b[0mvalues\u001b[0m\u001b[0;34m,\u001b[0m \u001b[0my_tr\u001b[0m\u001b[0;34m[\u001b[0m\u001b[0mitem\u001b[0m\u001b[0;34m]\u001b[0m\u001b[0;34m.\u001b[0m\u001b[0mvalues\u001b[0m\u001b[0;34m)\u001b[0m\u001b[0;34m\u001b[0m\u001b[0;34m\u001b[0m\u001b[0m\n\u001b[0m\u001b[1;32m     13\u001b[0m     \u001b[0mpredictions\u001b[0m \u001b[0;34m=\u001b[0m \u001b[0mmod\u001b[0m\u001b[0;34m.\u001b[0m\u001b[0mpredict\u001b[0m\u001b[0;34m(\u001b[0m\u001b[0mx_val\u001b[0m\u001b[0;34m.\u001b[0m\u001b[0mvalues\u001b[0m\u001b[0;34m)\u001b[0m\u001b[0;34m\u001b[0m\u001b[0;34m\u001b[0m\u001b[0m\n\u001b[1;32m     14\u001b[0m     \u001b[0my_true\u001b[0m \u001b[0;34m=\u001b[0m \u001b[0my_val\u001b[0m\u001b[0;34m[\u001b[0m\u001b[0mitem\u001b[0m\u001b[0;34m]\u001b[0m\u001b[0;34m.\u001b[0m\u001b[0mvalues\u001b[0m\u001b[0;34m\u001b[0m\u001b[0;34m\u001b[0m\u001b[0m\n",
      "\u001b[0;32m~/Documents/Virtualenvs/rloe/lib/python3.7/site-packages/xgboost/sklearn.py\u001b[0m in \u001b[0;36mfit\u001b[0;34m(self, X, y, sample_weight, eval_set, eval_metric, early_stopping_rounds, verbose, xgb_model, sample_weight_eval_set, callbacks)\u001b[0m\n\u001b[1;32m    394\u001b[0m                               \u001b[0mevals_result\u001b[0m\u001b[0;34m=\u001b[0m\u001b[0mevals_result\u001b[0m\u001b[0;34m,\u001b[0m \u001b[0mobj\u001b[0m\u001b[0;34m=\u001b[0m\u001b[0mobj\u001b[0m\u001b[0;34m,\u001b[0m \u001b[0mfeval\u001b[0m\u001b[0;34m=\u001b[0m\u001b[0mfeval\u001b[0m\u001b[0;34m,\u001b[0m\u001b[0;34m\u001b[0m\u001b[0;34m\u001b[0m\u001b[0m\n\u001b[1;32m    395\u001b[0m                               \u001b[0mverbose_eval\u001b[0m\u001b[0;34m=\u001b[0m\u001b[0mverbose\u001b[0m\u001b[0;34m,\u001b[0m \u001b[0mxgb_model\u001b[0m\u001b[0;34m=\u001b[0m\u001b[0mxgb_model\u001b[0m\u001b[0;34m,\u001b[0m\u001b[0;34m\u001b[0m\u001b[0;34m\u001b[0m\u001b[0m\n\u001b[0;32m--> 396\u001b[0;31m                               callbacks=callbacks)\n\u001b[0m\u001b[1;32m    397\u001b[0m \u001b[0;34m\u001b[0m\u001b[0m\n\u001b[1;32m    398\u001b[0m         \u001b[0;32mif\u001b[0m \u001b[0mevals_result\u001b[0m\u001b[0;34m:\u001b[0m\u001b[0;34m\u001b[0m\u001b[0;34m\u001b[0m\u001b[0m\n",
      "\u001b[0;32m~/Documents/Virtualenvs/rloe/lib/python3.7/site-packages/xgboost/training.py\u001b[0m in \u001b[0;36mtrain\u001b[0;34m(params, dtrain, num_boost_round, evals, obj, feval, maximize, early_stopping_rounds, evals_result, verbose_eval, xgb_model, callbacks, learning_rates)\u001b[0m\n\u001b[1;32m    214\u001b[0m                            \u001b[0mevals\u001b[0m\u001b[0;34m=\u001b[0m\u001b[0mevals\u001b[0m\u001b[0;34m,\u001b[0m\u001b[0;34m\u001b[0m\u001b[0;34m\u001b[0m\u001b[0m\n\u001b[1;32m    215\u001b[0m                            \u001b[0mobj\u001b[0m\u001b[0;34m=\u001b[0m\u001b[0mobj\u001b[0m\u001b[0;34m,\u001b[0m \u001b[0mfeval\u001b[0m\u001b[0;34m=\u001b[0m\u001b[0mfeval\u001b[0m\u001b[0;34m,\u001b[0m\u001b[0;34m\u001b[0m\u001b[0;34m\u001b[0m\u001b[0m\n\u001b[0;32m--> 216\u001b[0;31m                            xgb_model=xgb_model, callbacks=callbacks)\n\u001b[0m\u001b[1;32m    217\u001b[0m \u001b[0;34m\u001b[0m\u001b[0m\n\u001b[1;32m    218\u001b[0m \u001b[0;34m\u001b[0m\u001b[0m\n",
      "\u001b[0;32m~/Documents/Virtualenvs/rloe/lib/python3.7/site-packages/xgboost/training.py\u001b[0m in \u001b[0;36m_train_internal\u001b[0;34m(params, dtrain, num_boost_round, evals, obj, feval, xgb_model, callbacks)\u001b[0m\n\u001b[1;32m     72\u001b[0m         \u001b[0;31m# Skip the first update if it is a recovery step.\u001b[0m\u001b[0;34m\u001b[0m\u001b[0;34m\u001b[0m\u001b[0;34m\u001b[0m\u001b[0m\n\u001b[1;32m     73\u001b[0m         \u001b[0;32mif\u001b[0m \u001b[0mversion\u001b[0m \u001b[0;34m%\u001b[0m \u001b[0;36m2\u001b[0m \u001b[0;34m==\u001b[0m \u001b[0;36m0\u001b[0m\u001b[0;34m:\u001b[0m\u001b[0;34m\u001b[0m\u001b[0;34m\u001b[0m\u001b[0m\n\u001b[0;32m---> 74\u001b[0;31m             \u001b[0mbst\u001b[0m\u001b[0;34m.\u001b[0m\u001b[0mupdate\u001b[0m\u001b[0;34m(\u001b[0m\u001b[0mdtrain\u001b[0m\u001b[0;34m,\u001b[0m \u001b[0mi\u001b[0m\u001b[0;34m,\u001b[0m \u001b[0mobj\u001b[0m\u001b[0;34m)\u001b[0m\u001b[0;34m\u001b[0m\u001b[0;34m\u001b[0m\u001b[0m\n\u001b[0m\u001b[1;32m     75\u001b[0m             \u001b[0mbst\u001b[0m\u001b[0;34m.\u001b[0m\u001b[0msave_rabit_checkpoint\u001b[0m\u001b[0;34m(\u001b[0m\u001b[0;34m)\u001b[0m\u001b[0;34m\u001b[0m\u001b[0;34m\u001b[0m\u001b[0m\n\u001b[1;32m     76\u001b[0m             \u001b[0mversion\u001b[0m \u001b[0;34m+=\u001b[0m \u001b[0;36m1\u001b[0m\u001b[0;34m\u001b[0m\u001b[0;34m\u001b[0m\u001b[0m\n",
      "\u001b[0;32m~/Documents/Virtualenvs/rloe/lib/python3.7/site-packages/xgboost/core.py\u001b[0m in \u001b[0;36mupdate\u001b[0;34m(self, dtrain, iteration, fobj)\u001b[0m\n\u001b[1;32m   1107\u001b[0m         \u001b[0;32mif\u001b[0m \u001b[0mfobj\u001b[0m \u001b[0;32mis\u001b[0m \u001b[0;32mNone\u001b[0m\u001b[0;34m:\u001b[0m\u001b[0;34m\u001b[0m\u001b[0;34m\u001b[0m\u001b[0m\n\u001b[1;32m   1108\u001b[0m             _check_call(_LIB.XGBoosterUpdateOneIter(self.handle, ctypes.c_int(iteration),\n\u001b[0;32m-> 1109\u001b[0;31m                                                     dtrain.handle))\n\u001b[0m\u001b[1;32m   1110\u001b[0m         \u001b[0;32melse\u001b[0m\u001b[0;34m:\u001b[0m\u001b[0;34m\u001b[0m\u001b[0;34m\u001b[0m\u001b[0m\n\u001b[1;32m   1111\u001b[0m             \u001b[0mpred\u001b[0m \u001b[0;34m=\u001b[0m \u001b[0mself\u001b[0m\u001b[0;34m.\u001b[0m\u001b[0mpredict\u001b[0m\u001b[0;34m(\u001b[0m\u001b[0mdtrain\u001b[0m\u001b[0;34m)\u001b[0m\u001b[0;34m\u001b[0m\u001b[0;34m\u001b[0m\u001b[0m\n",
      "\u001b[0;32m~/Documents/Virtualenvs/rloe/lib/python3.7/site-packages/xgboost/core.py\u001b[0m in \u001b[0;36m_check_call\u001b[0;34m(ret)\u001b[0m\n\u001b[1;32m    174\u001b[0m     \"\"\"\n\u001b[1;32m    175\u001b[0m     \u001b[0;32mif\u001b[0m \u001b[0mret\u001b[0m \u001b[0;34m!=\u001b[0m \u001b[0;36m0\u001b[0m\u001b[0;34m:\u001b[0m\u001b[0;34m\u001b[0m\u001b[0;34m\u001b[0m\u001b[0m\n\u001b[0;32m--> 176\u001b[0;31m         \u001b[0;32mraise\u001b[0m \u001b[0mXGBoostError\u001b[0m\u001b[0;34m(\u001b[0m\u001b[0mpy_str\u001b[0m\u001b[0;34m(\u001b[0m\u001b[0m_LIB\u001b[0m\u001b[0;34m.\u001b[0m\u001b[0mXGBGetLastError\u001b[0m\u001b[0;34m(\u001b[0m\u001b[0;34m)\u001b[0m\u001b[0;34m)\u001b[0m\u001b[0;34m)\u001b[0m\u001b[0;34m\u001b[0m\u001b[0;34m\u001b[0m\u001b[0m\n\u001b[0m\u001b[1;32m    177\u001b[0m \u001b[0;34m\u001b[0m\u001b[0m\n\u001b[1;32m    178\u001b[0m \u001b[0;34m\u001b[0m\u001b[0m\n",
      "\u001b[0;31mXGBoostError\u001b[0m: [12:51:37] src/objective/regression_obj.cu:65: Check failed: preds.Size() == info.labels_.Size() (99382 vs. 99285) : labels are not correctly providedpreds.size=99382, label.size=99285\nStack trace:\n  [bt] (0) 1   libxgboost.dylib                    0x00000001356b4a89 dmlc::LogMessageFatal::~LogMessageFatal() + 57\n  [bt] (1) 2   libxgboost.dylib                    0x000000013571ad67 xgboost::obj::RegLossObj<xgboost::obj::LinearSquareLoss>::GetGradient(xgboost::HostDeviceVector<float> const&, xgboost::MetaInfo const&, int, xgboost::HostDeviceVector<xgboost::detail::GradientPairInternal<float> >*) + 647\n  [bt] (2) 3   libxgboost.dylib                    0x00000001356b0803 xgboost::LearnerImpl::UpdateOneIter(int, xgboost::DMatrix*) + 1795\n  [bt] (3) 4   libxgboost.dylib                    0x00000001357848cc XGBoosterUpdateOneIter + 172\n  [bt] (4) 5   _ctypes.cpython-37m-darwin.so       0x000000010bea7177 ffi_call_unix64 + 79\n  [bt] (5) 6   ???                                 0x00007ffee474d1f0 0x0 + 140732731281904\n\n"
     ]
    }
   ],
   "source": [
    "mod = xgb.XGBRegressor(\n",
    "    max_depth=6,\n",
    "    n_estimators=100, \n",
    "    min_child_weight=5,\n",
    "    gamma=0.1,\n",
    "    learning_rate=0.1\n",
    ") \n",
    "\n",
    "oosr2 = {}\n",
    "for item in y_tr.columns:\n",
    "#     try:\n",
    "    mod.fit(x_tr.values, y_tr[item].values)\n",
    "    predictions = mod.predict(x_val.values)\n",
    "    y_true = y_val[item].values \n",
    "    # plot\n",
    "    plt.bar(range(len(mod.feature_importances_)), mod.feature_importances_)\n",
    "    plt.show()\n",
    "    y_true[y_true==np.inf] = 0\n",
    "    y_true[y_true==np.NINF] = 0\n",
    "    y_true[y_true==np.NaN] = 0\n",
    "    oosr2[item] = sklearn.metrics.r2_score(y_true, predictions)\n",
    "    print(item, sklearn.metrics.r2_score(y_true, predictions))\n",
    "#     except:\n",
    "#         print(f'Cannot do {item}!')"
   ]
  },
  {
   "cell_type": "code",
   "execution_count": 33,
   "metadata": {},
   "outputs": [],
   "source": [
    "with open('/Users/mingyu/Downloads/y_A.pkl', 'rb') as handle: \n",
    "    contnet = pickle.load(handle)"
   ]
  },
  {
   "cell_type": "code",
   "execution_count": null,
   "metadata": {},
   "outputs": [],
   "source": []
  }
 ],
 "metadata": {
  "kernelspec": {
   "display_name": "Python 3",
   "language": "python",
   "name": "python3"
  },
  "language_info": {
   "codemirror_mode": {
    "name": "ipython",
    "version": 3
   },
   "file_extension": ".py",
   "mimetype": "text/x-python",
   "name": "python",
   "nbconvert_exporter": "python",
   "pygments_lexer": "ipython3",
   "version": "3.7.5"
  },
  "pycharm": {
   "stem_cell": {
    "cell_type": "raw",
    "metadata": {
     "collapsed": false
    },
    "source": []
   }
  }
 },
 "nbformat": 4,
 "nbformat_minor": 2
}
