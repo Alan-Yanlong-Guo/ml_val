{
 "cells": [
  {
   "cell_type": "code",
   "execution_count": 1,
   "metadata": {
    "pycharm": {
     "is_executing": false,
     "name": "#%%\n"
    }
   },
   "outputs": [],
   "source": [
    "import pickle\n",
    "from lightgbm import LGBMRegressor\n",
    "import numpy as np \n",
    "import matplotlib.pyplot as plt\n",
    "import sklearn\n",
    "\n",
    "xy_data_dir = '/Users/mmw/Documents/GitHub/ml_val/data_all/xy_data'\n",
    "\n",
    "with open(xy_data_dir + '/x_tr.pkl', 'rb') as handle:\n",
    "    x_tr = pickle.load(handle).iloc[:,5:]\n",
    "    x_tr.replace([np.inf, -np.inf, 'inf', '-inf'], np.NaN, inplace=True)\n",
    "    x_tr = x_tr.fillna(0).astype('float32')\n",
    "    \n",
    "with open(xy_data_dir + '/y_tr.pkl', 'rb') as handle:\n",
    "    y_tr = pickle.load(handle).iloc[:,5:]\n",
    "    y_tr.replace([np.inf, -np.inf, 'inf', '-inf'], np.NaN, inplace=True)\n",
    "    y_tr = y_tr.fillna(0).astype('float32')\n",
    "    \n",
    "with open(xy_data_dir + '/x_ts.pkl', 'rb') as handle:\n",
    "    x_ts = pickle.load(handle).iloc[:,5:]\n",
    "    x_ts.replace([np.inf, -np.inf, 'inf', '-inf'], np.NaN, inplace=True)\n",
    "    x_ts = x_ts.fillna(0).astype('float32')\n",
    "    \n",
    "with open(xy_data_dir + '/y_ts.pkl', 'rb') as handle:\n",
    "    y_ts = pickle.load(handle).iloc[:,5:]\n",
    "    y_ts.replace([np.inf, -np.inf, 'inf', '-inf'], np.NaN, inplace=True)\n",
    "    y_ts = y_ts.fillna(0).astype('float32')"
   ]
  },
  {
   "cell_type": "code",
   "execution_count": 2,
   "metadata": {
    "scrolled": true
   },
   "outputs": [
    {
     "name": "stdout",
     "output_type": "stream",
     "text": [
      "0 absacc\n",
      "1 acc\n",
      "2 agr\n",
      "3 bm_ia\n",
      "4 cashdebt\n",
      "5 cashpr\n",
      "6 cfp\n",
      "7 cfp_ia\n",
      "8 chatoia\n",
      "9 chcsho\n",
      "10 chempia\n",
      "11 chinv\n",
      "12 chpmia\n",
      "13 convind\n",
      "14 currat\n",
      "15 currat\n",
      "16 depr\n",
      "17 divi\n",
      "18 divo\n",
      "19 dy\n",
      "20 egr\n",
      "21 ep\n",
      "22 gma\n",
      "23 grcapx\n",
      "24 grltnoa\n",
      "25 herf\n",
      "26 hire\n",
      "27 invest\n",
      "28 lev\n",
      "29 lgr\n",
      "30 mve_ia\n",
      "31 operprof\n",
      "32 orgcap\n",
      "33 pchcapx_ia\n",
      "34 pchcurrat\n",
      "35 pchdepr\n",
      "36 pchgm_pchsale\n",
      "37 pchquick\n",
      "38 pchsale_pchinvt\n",
      "39 pchsale_pchrect\n",
      "40 pchsale_pchxsga\n",
      "41 pchsaleinv\n",
      "42 pctacc\n",
      "43 ps\n",
      "44 quick\n",
      "45 rd\n",
      "46 rd_mve\n",
      "47 rd_sale\n",
      "48 realestate\n",
      "49 roic\n",
      "50 salecash\n",
      "51 saleinv\n",
      "52 salerec\n",
      "53 secured\n",
      "54 securedind\n",
      "55 sgr\n",
      "56 sin\n",
      "57 sp\n",
      "58 tang\n",
      "59 tb\n",
      "60 aeavol\n",
      "61 cash\n",
      "62 chtx\n",
      "63 cinvest\n",
      "64 ear\n",
      "65 roaq\n",
      "66 roavol\n",
      "67 roeq\n",
      "68 rsup\n",
      "69 stdacc\n",
      "70 stdcf\n",
      "71 chmom\n",
      "72 dolvol\n",
      "73 mom12m\n",
      "74 mom1m\n",
      "75 mom36m\n",
      "76 mom6m\n",
      "77 mvel1\n",
      "78 turn\n",
      "79 revt\n",
      "80 ebit\n",
      "81 ebitda\n",
      "82 re\n",
      "83 epspi\n",
      "84 gma\n",
      "85 operprof\n",
      "86 quick\n",
      "87 currat\n",
      "88 cashrrat\n",
      "89 cftrr\n",
      "90 dpr\n",
      "91 pe\n",
      "92 pb\n",
      "93 roe\n",
      "94 roa\n",
      "95 roic\n",
      "96 cod\n",
      "97 capint\n",
      "98 lev\n",
      "99 revt_aoa\n",
      "100 ebit_aoa\n",
      "101 ebitda_aoa\n",
      "102 re_aoa\n",
      "103 epspi_aoa\n",
      "104 gma_aoa\n",
      "105 operprof_aoa\n",
      "106 quick_aoa\n",
      "107 currat_aoa\n",
      "108 cashrrat_aoa\n",
      "109 cftrr_aoa\n",
      "110 dpr_aoa\n",
      "111 pe_aoa\n",
      "112 pb_aoa\n",
      "113 roe_aoa\n",
      "114 roa_aoa\n",
      "115 roic_aoa\n",
      "116 cod_aoa\n",
      "117 capint_aoa\n",
      "118 lev_aoa\n",
      "119 revt_5o5\n",
      "120 ebit_5o5\n",
      "121 ebitda_5o5\n",
      "122 re_5o5\n",
      "123 epspi_5o5\n",
      "124 gma_5o5\n",
      "125 operprof_5o5\n",
      "126 quick_5o5\n",
      "127 currat_5o5\n",
      "128 cashrrat_5o5\n",
      "129 cftrr_5o5\n",
      "130 dpr_5o5\n",
      "131 pe_5o5\n",
      "132 pb_5o5\n",
      "133 roe_5o5\n",
      "134 roa_5o5\n",
      "135 roic_5o5\n",
      "136 cod_5o5\n",
      "137 capint_5o5\n",
      "138 lev_5o5\n",
      "139 revt_sum\n",
      "140 ebit_sum\n",
      "141 ebitda_sum\n",
      "142 re_sum\n",
      "143 revt_med\n",
      "144 ebit_med\n",
      "145 ebitda_med\n",
      "146 re_med\n",
      "147 epspi_med\n",
      "148 gma_med\n",
      "149 operprof_med\n",
      "150 quick_med\n",
      "151 currat_med\n",
      "152 cashrrat_med\n",
      "153 cftrr_med\n",
      "154 dpr_med\n",
      "155 pe_med\n",
      "156 pb_med\n",
      "157 roe_med\n",
      "158 roa_med\n",
      "159 roic_med\n",
      "160 cod_med\n",
      "161 capint_med\n",
      "162 lev_med\n",
      "163 revt_sum_aoa\n",
      "164 ebit_sum_aoa\n",
      "165 ebitda_sum_aoa\n",
      "166 re_sum_aoa\n",
      "167 revt_med_aoa\n",
      "168 ebit_med_aoa\n",
      "169 ebitda_med_aoa\n",
      "170 re_med_aoa\n",
      "171 epspi_med_aoa\n",
      "172 gma_med_aoa\n",
      "173 operprof_med_aoa\n",
      "174 quick_med_aoa\n",
      "175 currat_med_aoa\n",
      "176 cashrrat_med_aoa\n",
      "177 cftrr_med_aoa\n",
      "178 dpr_med_aoa\n",
      "179 pe_med_aoa\n",
      "180 pb_med_aoa\n",
      "181 roe_med_aoa\n",
      "182 roa_med_aoa\n",
      "183 roic_med_aoa\n",
      "184 cod_med_aoa\n",
      "185 capint_med_aoa\n",
      "186 lev_med_aoa\n",
      "187 revt_sum_5o5\n",
      "188 ebit_sum_5o5\n",
      "189 ebitda_sum_5o5\n",
      "190 re_sum_5o5\n",
      "191 revt_med_5o5\n",
      "192 ebit_med_5o5\n",
      "193 ebitda_med_5o5\n",
      "194 re_med_5o5\n",
      "195 epspi_med_5o5\n",
      "196 gma_med_5o5\n",
      "197 operprof_med_5o5\n",
      "198 quick_med_5o5\n",
      "199 currat_med_5o5\n",
      "200 cashrrat_med_5o5\n",
      "201 cftrr_med_5o5\n",
      "202 dpr_med_5o5\n",
      "203 pe_med_5o5\n",
      "204 pb_med_5o5\n",
      "205 roe_med_5o5\n",
      "206 roa_med_5o5\n",
      "207 roic_med_5o5\n",
      "208 cod_med_5o5\n",
      "209 capint_med_5o5\n",
      "210 lev_med_5o5\n"
     ]
    }
   ],
   "source": [
    "for index, item in enumerate(x_tr.columns):\n",
    "    print(index, item)"
   ]
  },
  {
   "cell_type": "code",
   "execution_count": 3,
   "metadata": {
    "scrolled": true
   },
   "outputs": [
    {
     "data": {
      "text/plain": [
       "['revt',\n",
       " 'ebit',\n",
       " 'ebitda',\n",
       " 're',\n",
       " 'epspi',\n",
       " 'gma',\n",
       " 'operprof',\n",
       " 'quick',\n",
       " 'currat',\n",
       " 'cashrrat',\n",
       " 'cftrr',\n",
       " 'dpr',\n",
       " 'pe',\n",
       " 'pb',\n",
       " 'roe',\n",
       " 'roa',\n",
       " 'roic',\n",
       " 'cod',\n",
       " 'capint',\n",
       " 'lev',\n",
       " 'revt_aoa',\n",
       " 'ebit_aoa',\n",
       " 'ebitda_aoa',\n",
       " 're_aoa',\n",
       " 'epspi_aoa',\n",
       " 'gma_aoa',\n",
       " 'operprof_aoa',\n",
       " 'quick_aoa',\n",
       " 'currat_aoa',\n",
       " 'cashrrat_aoa',\n",
       " 'cftrr_aoa',\n",
       " 'dpr_aoa',\n",
       " 'pe_aoa',\n",
       " 'pb_aoa',\n",
       " 'roe_aoa',\n",
       " 'roa_aoa',\n",
       " 'roic_aoa',\n",
       " 'cod_aoa',\n",
       " 'capint_aoa',\n",
       " 'lev_aoa',\n",
       " 'revt_5o5',\n",
       " 'ebit_5o5',\n",
       " 'ebitda_5o5',\n",
       " 're_5o5',\n",
       " 'epspi_5o5',\n",
       " 'gma_5o5',\n",
       " 'operprof_5o5',\n",
       " 'quick_5o5',\n",
       " 'currat_5o5',\n",
       " 'cashrrat_5o5',\n",
       " 'cftrr_5o5',\n",
       " 'dpr_5o5',\n",
       " 'pe_5o5',\n",
       " 'pb_5o5',\n",
       " 'roe_5o5',\n",
       " 'roa_5o5',\n",
       " 'roic_5o5',\n",
       " 'cod_5o5',\n",
       " 'capint_5o5',\n",
       " 'lev_5o5',\n",
       " 'revtq',\n",
       " 'req',\n",
       " 'epspiq',\n",
       " 'quickq',\n",
       " 'curratq',\n",
       " 'cashrratq',\n",
       " 'peq',\n",
       " 'roeq',\n",
       " 'roaq',\n",
       " 'revtq_qoq',\n",
       " 'req_qoq',\n",
       " 'epspiq_qoq',\n",
       " 'quickq_qoq',\n",
       " 'curratq_qoq',\n",
       " 'cashrratq_qoq',\n",
       " 'peq_qoq',\n",
       " 'roeq_qoq',\n",
       " 'roaq_qoq',\n",
       " 'revtq_aoa',\n",
       " 'req_aoa',\n",
       " 'epspiq_aoa',\n",
       " 'quickq_aoa',\n",
       " 'curratq_aoa',\n",
       " 'cashrratq_aoa',\n",
       " 'peq_aoa',\n",
       " 'roeq_aoa',\n",
       " 'roaq_aoa',\n",
       " 'revtq_5o5',\n",
       " 'req_5o5',\n",
       " 'epspiq_5o5',\n",
       " 'quickq_5o5',\n",
       " 'curratq_5o5',\n",
       " 'cashrratq_5o5',\n",
       " 'peq_5o5',\n",
       " 'roeq_5o5',\n",
       " 'roaq_5o5']"
      ]
     },
     "execution_count": 3,
     "metadata": {},
     "output_type": "execute_result"
    }
   ],
   "source": [
    "list(y_tr.columns)"
   ]
  },
  {
   "cell_type": "code",
   "execution_count": 15,
   "metadata": {
    "pycharm": {
     "is_executing": true,
     "name": "#%%\n"
    },
    "scrolled": true
   },
   "outputs": [
    {
     "data": {
      "image/png": "[encoded data removed]",
      "text/plain": [
       "<Figure size 432x288 with 1 Axes>"
      ]
     },
     "metadata": {
      "needs_background": "light"
     },
     "output_type": "display_data"
    },
    {
     "name": "stdout",
     "output_type": "stream",
     "text": [
      "revt_aoa 0.011298883337165222 0.044615725086469646 ['revt_aoa', 'chatoia', 'pchgm_pchsale', 'chpmia', 'lev_5o5']\n",
      "{'max_depth': 1, 'n_estimators': 20, 'num_leaves': 2}\n"
     ]
    },
    {
     "data": {
      "image/png": "[encoded data removed]",
      "text/plain": [
       "<Figure size 432x288 with 1 Axes>"
      ]
     },
     "metadata": {
      "needs_background": "light"
     },
     "output_type": "display_data"
    },
    {
     "name": "stdout",
     "output_type": "stream",
     "text": [
      "ebit_aoa 0.040663705454804466 -0.18319276858162656 ['ebit_aoa', 'lev_med_5o5', 'roaq', 'mom36m', 'mom1m']\n",
      "{'max_depth': 1, 'n_estimators': 20, 'num_leaves': 2}\n"
     ]
    },
    {
     "data": {
      "image/png": "[encoded data removed]",
      "text/plain": [
       "<Figure size 432x288 with 1 Axes>"
      ]
     },
     "metadata": {
      "needs_background": "light"
     },
     "output_type": "display_data"
    },
    {
     "name": "stdout",
     "output_type": "stream",
     "text": [
      "ebitda_aoa 0.034779845157711264 0.004352798093021414 ['ebitda_aoa', 'lev_med_5o5', 'roaq', 'mom36m', 'mom1m']\n",
      "{'max_depth': 1, 'n_estimators': 20, 'num_leaves': 2}\n"
     ]
    },
    {
     "data": {
      "image/png": "[encoded data removed]",
      "text/plain": [
       "<Figure size 432x288 with 1 Axes>"
      ]
     },
     "metadata": {
      "needs_background": "light"
     },
     "output_type": "display_data"
    },
    {
     "name": "stdout",
     "output_type": "stream",
     "text": [
      "re_aoa 0.14397169250571173 0.8534240778330758 ['re_aoa', 'lev_med_5o5', 'roaq', 'mom36m', 'mom1m']\n",
      "{'max_depth': 1, 'n_estimators': 20, 'num_leaves': 2}\n"
     ]
    },
    {
     "data": {
      "image/png": "[encoded data removed]",
      "text/plain": [
       "<Figure size 432x288 with 1 Axes>"
      ]
     },
     "metadata": {
      "needs_background": "light"
     },
     "output_type": "display_data"
    },
    {
     "name": "stdout",
     "output_type": "stream",
     "text": [
      "epspi_aoa 0.18272225278917342 -0.053857193001667594 ['epspi_aoa', 'pe_aoa', 'quick_5o5', 'roe_aoa', 'roa_aoa']\n",
      "{'max_depth': 2, 'n_estimators': 20, 'num_leaves': 4}\n"
     ]
    },
    {
     "data": {
      "image/png": "[encoded data removed]",
      "text/plain": [
       "<Figure size 432x288 with 1 Axes>"
      ]
     },
     "metadata": {
      "needs_background": "light"
     },
     "output_type": "display_data"
    },
    {
     "name": "stdout",
     "output_type": "stream",
     "text": [
      "gma_aoa 0.005214282607662324 -0.8542800984573207 ['cftrr_5o5', 'gma_aoa', 'roavol', 'pchgm_pchsale', 'stdacc']\n",
      "{'max_depth': 1, 'n_estimators': 20, 'num_leaves': 2}\n"
     ]
    },
    {
     "data": {
      "image/png": "[encoded data removed]",
      "text/plain": [
       "<Figure size 432x288 with 1 Axes>"
      ]
     },
     "metadata": {
      "needs_background": "light"
     },
     "output_type": "display_data"
    },
    {
     "name": "stdout",
     "output_type": "stream",
     "text": [
      "operprof_aoa 1.0 0.0 ['lev_med_5o5', 'salerec', 'mom6m', 'mom36m', 'mom1m']\n",
      "{'max_depth': 1, 'n_estimators': 20, 'num_leaves': 2}\n"
     ]
    },
    {
     "data": {
      "image/png": "[encoded data removed]",
      "text/plain": [
       "<Figure size 432x288 with 1 Axes>"
      ]
     },
     "metadata": {
      "needs_background": "light"
     },
     "output_type": "display_data"
    },
    {
     "name": "stdout",
     "output_type": "stream",
     "text": [
      "quick_aoa 0.07906728149888864 0.5496371766945819 ['cashrrat_aoa', 'quick_aoa', 'currat_aoa', 'herf', 'revt']\n",
      "{'max_depth': 1, 'n_estimators': 20, 'num_leaves': 2}\n"
     ]
    },
    {
     "data": {
      "image/png": "[encoded data removed]",
      "text/plain": [
       "<Figure size 432x288 with 1 Axes>"
      ]
     },
     "metadata": {
      "needs_background": "light"
     },
     "output_type": "display_data"
    },
    {
     "name": "stdout",
     "output_type": "stream",
     "text": [
      "currat_aoa 0.11300606774001065 0.9961762024399244 ['currat_aoa', 'cashrrat_aoa', 'quick_aoa', 'herf', 'revt']\n",
      "{'max_depth': 1, 'n_estimators': 20, 'num_leaves': 2}\n"
     ]
    },
    {
     "data": {
      "image/png": "[encoded data removed]",
      "text/plain": [
       "<Figure size 432x288 with 1 Axes>"
      ]
     },
     "metadata": {
      "needs_background": "light"
     },
     "output_type": "display_data"
    },
    {
     "name": "stdout",
     "output_type": "stream",
     "text": [
      "cashrrat_aoa 0.052630581164910706 0.168158689162591 ['cashrrat_aoa', 'cashrrat', 'ebit', 'herf', 'sp']\n",
      "{'max_depth': 2, 'n_estimators': 20, 'num_leaves': 4}\n"
     ]
    },
    {
     "data": {
      "image/png": "[encoded data removed]",
      "text/plain": [
       "<Figure size 432x288 with 1 Axes>"
      ]
     },
     "metadata": {
      "needs_background": "light"
     },
     "output_type": "display_data"
    },
    {
     "name": "stdout",
     "output_type": "stream",
     "text": [
      "cftrr_aoa 0.05831013923093109 0.2697767038951013 ['cftrr_aoa', 'chatoia', 'chpmia', 'pb_aoa', 'revt_5o5']\n",
      "{'max_depth': 1, 'n_estimators': 20, 'num_leaves': 2}\n"
     ]
    },
    {
     "data": {
      "image/png": "[encoded data removed]",
      "text/plain": [
       "<Figure size 432x288 with 1 Axes>"
      ]
     },
     "metadata": {
      "needs_background": "light"
     },
     "output_type": "display_data"
    },
    {
     "name": "stdout",
     "output_type": "stream",
     "text": [
      "dpr_aoa 0.02645034378674782 0.17332674500621323 ['dpr_aoa', 'dpr_5o5', 'roaq', 'mom6m', 'mom36m']\n",
      "{'max_depth': 1, 'n_estimators': 20, 'num_leaves': 2}\n"
     ]
    },
    {
     "data": {
      "image/png": "[encoded data removed]",
      "text/plain": [
       "<Figure size 432x288 with 1 Axes>"
      ]
     },
     "metadata": {
      "needs_background": "light"
     },
     "output_type": "display_data"
    },
    {
     "name": "stdout",
     "output_type": "stream",
     "text": [
      "pe_aoa 0.035215037725804255 -0.22806772083188315 ['pe_aoa', 'roic_5o5', 'lev_med_5o5', 'roaq', 'mom36m']\n",
      "{'max_depth': 1, 'n_estimators': 20, 'num_leaves': 2}\n"
     ]
    },
    {
     "data": {
      "image/png": "[encoded data removed]",
      "text/plain": [
       "<Figure size 432x288 with 1 Axes>"
      ]
     },
     "metadata": {
      "needs_background": "light"
     },
     "output_type": "display_data"
    },
    {
     "name": "stdout",
     "output_type": "stream",
     "text": [
      "pb_aoa 0.050147445378163624 -2.565180068622103 ['pb_aoa', 'roavol', 'roic_5o5', 'epspi', 'ebit_5o5']\n",
      "{'max_depth': 1, 'n_estimators': 20, 'num_leaves': 2}\n"
     ]
    },
    {
     "data": {
      "image/png": "[encoded data removed]",
      "text/plain": [
       "<Figure size 432x288 with 1 Axes>"
      ]
     },
     "metadata": {
      "needs_background": "light"
     },
     "output_type": "display_data"
    },
    {
     "name": "stdout",
     "output_type": "stream",
     "text": [
      "roe_aoa 0.003138852282480009 -0.21908449417909054 ['roe_aoa', 'roa_aoa', 'roic_aoa', 'saleinv', 'lev']\n",
      "{'max_depth': 1, 'n_estimators': 20, 'num_leaves': 2}\n"
     ]
    },
    {
     "data": {
      "image/png": "[encoded data removed]",
      "text/plain": [
       "<Figure size 432x288 with 1 Axes>"
      ]
     },
     "metadata": {
      "needs_background": "light"
     },
     "output_type": "display_data"
    },
    {
     "name": "stdout",
     "output_type": "stream",
     "text": [
      "roa_aoa -1.8091674803762325 81.7715186164405 ['pb_aoa', 'pb', 'roa_aoa', 'cashrrat_med_aoa', 'bm_ia']\n",
      "{'max_depth': 2, 'n_estimators': 20, 'num_leaves': 4}\n"
     ]
    },
    {
     "data": {
      "image/png": "[encoded data removed]",
      "text/plain": [
       "<Figure size 432x288 with 1 Axes>"
      ]
     },
     "metadata": {
      "needs_background": "light"
     },
     "output_type": "display_data"
    },
    {
     "name": "stdout",
     "output_type": "stream",
     "text": [
      "roic_aoa 0.012592500133279394 -0.23230430074357136 ['roic_aoa', 'lev_med_5o5', 'roaq', 'mom6m', 'mom36m']\n",
      "{'max_depth': 1, 'n_estimators': 20, 'num_leaves': 2}\n"
     ]
    },
    {
     "data": {
      "image/png": "[encoded data removed]",
      "text/plain": [
       "<Figure size 432x288 with 1 Axes>"
      ]
     },
     "metadata": {
      "needs_background": "light"
     },
     "output_type": "display_data"
    },
    {
     "name": "stdout",
     "output_type": "stream",
     "text": [
      "cod_aoa 0.060887419972159074 -1.9251497255887224 ['cod_aoa', 'cod_5o5', 'cod', 'lev_med_5o5', 'roaq']\n",
      "{'max_depth': 1, 'n_estimators': 20, 'num_leaves': 2}\n"
     ]
    },
    {
     "data": {
      "image/png": "[encoded data removed]",
      "text/plain": [
       "<Figure size 432x288 with 1 Axes>"
      ]
     },
     "metadata": {
      "needs_background": "light"
     },
     "output_type": "display_data"
    },
    {
     "name": "stdout",
     "output_type": "stream",
     "text": [
      "capint_aoa 0.04336774815408728 -0.07960212531569136 ['capint_aoa', 'pchcapx_ia', 'roavol', 'mom6m', 'mom36m']\n",
      "{'max_depth': 1, 'n_estimators': 20, 'num_leaves': 2}\n"
     ]
    },
    {
     "data": {
      "image/png": "[encoded data removed]",
      "text/plain": [
       "<Figure size 432x288 with 1 Axes>"
      ]
     },
     "metadata": {
      "needs_background": "light"
     },
     "output_type": "display_data"
    },
    {
     "name": "stdout",
     "output_type": "stream",
     "text": [
      "lev_aoa 0.004574377802293084 -0.3020172184944409 ['lev_aoa', 'pb_aoa', 'pb', 'ear', 'mom36m']\n",
      "{'max_depth': 1, 'n_estimators': 20, 'num_leaves': 2}\n"
     ]
    },
    {
     "data": {
      "image/png": "[encoded data removed]",
      "text/plain": [
       "<Figure size 432x288 with 1 Axes>"
      ]
     },
     "metadata": {
      "needs_background": "light"
     },
     "output_type": "display_data"
    },
    {
     "name": "stdout",
     "output_type": "stream",
     "text": [
      "revtq_aoa 0.00017075170756686298 ['sp', 'revt_5o5', 'revt', 'chatoia', 'gma_aoa']\n",
      "{'max_depth': 1, 'n_estimators': 20, 'num_leaves': 2}\n"
     ]
    },
    {
     "data": {
      "image/png": "[encoded data removed]",
      "text/plain": [
       "<Figure size 432x288 with 1 Axes>"
      ]
     },
     "metadata": {
      "needs_background": "light"
     },
     "output_type": "display_data"
    },
    {
     "name": "stdout",
     "output_type": "stream",
     "text": [
      "req_aoa -0.00012262448718858288 ['quick', 'capint_med_aoa', 'roa_aoa', 're_aoa', 'rd_mve']\n",
      "{'max_depth': 1, 'n_estimators': 20, 'num_leaves': 2}\n"
     ]
    },
    {
     "data": {
      "image/png": "[encoded data removed]",
      "text/plain": [
       "<Figure size 432x288 with 1 Axes>"
      ]
     },
     "metadata": {
      "needs_background": "light"
     },
     "output_type": "display_data"
    },
    {
     "name": "stdout",
     "output_type": "stream",
     "text": [
      "epspiq_aoa -0.00016269879000230247 ['mvel1', 'cftrr_aoa', 'lgr', 'ebitda_aoa', 'revt']\n",
      "{'max_depth': 1, 'n_estimators': 20, 'num_leaves': 2}\n"
     ]
    },
    {
     "data": {
      "image/png": "[encoded data removed]",
      "text/plain": [
       "<Figure size 432x288 with 1 Axes>"
      ]
     },
     "metadata": {
      "needs_background": "light"
     },
     "output_type": "display_data"
    },
    {
     "name": "stdout",
     "output_type": "stream",
     "text": [
      "quickq_aoa -1.7855783916917178 ['herf', 'rd_mve', 'currat', 'currat_aoa', 'tang']\n",
      "{'max_depth': 1, 'n_estimators': 20, 'num_leaves': 2}\n"
     ]
    },
    {
     "data": {
      "image/png": "[encoded data removed]",
      "text/plain": [
       "<Figure size 432x288 with 1 Axes>"
      ]
     },
     "metadata": {
      "needs_background": "light"
     },
     "output_type": "display_data"
    },
    {
     "name": "stdout",
     "output_type": "stream",
     "text": [
      "curratq_aoa -1.9063744137809961 ['herf', 'rd_mve', 'currat', 'currat_aoa', 'tang']\n",
      "{'max_depth': 1, 'n_estimators': 20, 'num_leaves': 2}\n"
     ]
    },
    {
     "data": {
      "image/png": "[encoded data removed]",
      "text/plain": [
       "<Figure size 432x288 with 1 Axes>"
      ]
     },
     "metadata": {
      "needs_background": "light"
     },
     "output_type": "display_data"
    },
    {
     "name": "stdout",
     "output_type": "stream",
     "text": [
      "cashrratq_aoa 7.042474548057953e-05 ['cash', 'ebitda_med', 'currat', 'orgcap', 'cod_5o5']\n",
      "{'max_depth': 1, 'n_estimators': 20, 'num_leaves': 2}\n"
     ]
    },
    {
     "data": {
      "image/png": "[encoded data removed]",
      "text/plain": [
       "<Figure size 432x288 with 1 Axes>"
      ]
     },
     "metadata": {
      "needs_background": "light"
     },
     "output_type": "display_data"
    },
    {
     "name": "stdout",
     "output_type": "stream",
     "text": [
      "peq_aoa -0.0021441845017582395 ['roavol', 'roaq', 're_aoa', 'grltnoa', 'lev']\n",
      "{'max_depth': 1, 'n_estimators': 20, 'num_leaves': 2}\n"
     ]
    },
    {
     "data": {
      "image/png": "[encoded data removed]",
      "text/plain": [
       "<Figure size 432x288 with 1 Axes>"
      ]
     },
     "metadata": {
      "needs_background": "light"
     },
     "output_type": "display_data"
    },
    {
     "name": "stdout",
     "output_type": "stream",
     "text": [
      "roeq_aoa -6.335656671296874e-06 ['chpmia', 'tang', 'cftrr_aoa', 'lev_med', 'realestate']\n",
      "{'max_depth': 1, 'n_estimators': 20, 'num_leaves': 2}\n"
     ]
    },
    {
     "data": {
      "image/png": "[encoded data removed]",
      "text/plain": [
       "<Figure size 432x288 with 1 Axes>"
      ]
     },
     "metadata": {
      "needs_background": "light"
     },
     "output_type": "display_data"
    },
    {
     "name": "stdout",
     "output_type": "stream",
     "text": [
      "roaq_aoa -0.0165885954770002 ['dpr_aoa', 'revt_med', 'herf', 'currat_med', 'ebit_sum_aoa']\n",
      "{'max_depth': 1, 'n_estimators': 20, 'num_leaves': 2}\n"
     ]
    }
   ],
   "source": [
    "oosr2 = {}\n",
    "\n",
    "\n",
    "def single_feature_oosr2(item, x_tr=x_tr, y_tr=y_tr, x_ts=x_ts, y_ts=y_ts):\n",
    "    clf = LGBMRegressor(objective='regression_l2', zero_as_missing=True)\n",
    "    clf.fit(x_tr[item].values.reshape(-1, 1), y_tr[item].values)\n",
    "    predictions = clf.predict(x_ts[item].values.reshape(-1, 1))\n",
    "    y_true = y_ts[item].values \n",
    "    return sklearn.metrics.r2_score(y_true, predictions)\n",
    "    \n",
    "    \n",
    "for item in y_tr.columns:\n",
    "    if '_aoa' not in item:\n",
    "        continue    \n",
    "    param_test = {'max_depth': [1, 2], 'num_leaves': [2, 4], 'n_estimators': [20]}\n",
    "    mod = LGBMRegressor(objective='regression_l2', zero_as_missing=True)\n",
    "    clf = sklearn.model_selection.GridSearchCV(mod , param_grid = param_test, scoring='r2', cv=5)\n",
    "    clf.fit(x_tr.values, y_tr[item].values)\n",
    "    predictions = clf.predict(x_ts.values)\n",
    "    y_true = y_ts[item].values \n",
    "    plt.bar(range(len(clf.best_estimator_.feature_importances_)), clf.best_estimator_.feature_importances_)\n",
    "    plt.show()\n",
    "    max_fea = []\n",
    "    max_5 = clf.best_estimator_.feature_importances_.argsort()[-5:][::-1]\n",
    "    for index in max_5:\n",
    "        max_fea.append(x_tr.columns[index])\n",
    "    oosr2[item] = sklearn.metrics.r2_score(y_true, predictions)\n",
    "    try:\n",
    "        sig_feature_oosr2 = single_feature_oosr2(item)\n",
    "        enhancement = (oosr2[item] - sig_feature_oosr2)/sig_feature_oosr2\n",
    "        print(item, oosr2[item], enhancement, max_fea)\n",
    "        print(clf.best_params_)\n",
    "    except KeyError:\n",
    "        print(item, oosr2[item], max_fea)\n",
    "        print(clf.best_params_)"
   ]
  },
  {
   "cell_type": "code",
   "execution_count": null,
   "metadata": {},
   "outputs": [],
   "source": []
  }
 ],
 "metadata": {
  "kernelspec": {
   "display_name": "Python 3",
   "language": "python",
   "name": "python3"
  },
  "language_info": {
   "codemirror_mode": {
    "name": "ipython",
    "version": 3
   },
   "file_extension": ".py",
   "mimetype": "text/x-python",
   "name": "python",
   "nbconvert_exporter": "python",
   "pygments_lexer": "ipython3",
   "version": "3.7.5"
  },
  "pycharm": {
   "stem_cell": {
    "cell_type": "raw",
    "metadata": {
     "collapsed": false
    },
    "source": []
   }
  }
 },
 "nbformat": 4,
 "nbformat_minor": 2
}
