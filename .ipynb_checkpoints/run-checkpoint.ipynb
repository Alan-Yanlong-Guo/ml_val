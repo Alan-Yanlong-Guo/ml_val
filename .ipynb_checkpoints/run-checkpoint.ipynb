{
 "cells": [
  {
   "cell_type": "code",
   "execution_count": 1,
   "metadata": {
    "pycharm": {
     "is_executing": false,
     "name": "#%%\n"
    }
   },
   "outputs": [],
   "source": [
    "import pickle\n",
    "import xgboost as xgb\n",
    "import matplotlib.pyplot as plt\n",
    "import sklearn\n",
    "import numpy as np\n",
    "import multiprocessing\n",
    "\n",
    "xy_data_dir = '/Users/mmw/Documents/GitHub/ml_val/data_all/xy_data'\n",
    "with open(xy_data_dir + '/x_tr.pkl', 'rb') as handle:\n",
    "    x_tr = pickle.load(handle).fillna(0).iloc[:,5:]\n",
    "with open(xy_data_dir + '/y_tr.pkl', 'rb') as handle:\n",
    "    y_tr = pickle.load(handle).fillna(0).iloc[:,5:]\n",
    "with open(xy_data_dir + '/x_val.pkl', 'rb') as handle:\n",
    "    x_val = pickle.load(handle).fillna(0).iloc[:,5:]\n",
    "with open(xy_data_dir + '/y_val.pkl', 'rb') as handle:\n",
    "    y_val = pickle.load(handle).fillna(0).iloc[:,5:]\n",
    "# with open(xy_data_dir + '/x_ts.pkl', 'rb') as handle:\n",
    "#     x_ts = pickle.load(handle).fillna(0).iloc[:,5:]\n",
    "# with open(xy_data_dir + '/y_ts.pkl', 'rb') as handle:\n",
    "#     y_ts = pickle.load(handle).fillna(0).iloc[:,5:]\n",
    "# "
   ]
  },
  {
   "cell_type": "code",
   "execution_count": 2,
   "metadata": {
    "scrolled": false
   },
   "outputs": [
    {
     "name": "stdout",
     "output_type": "stream",
     "text": [
      "0 absacc\n",
      "1 acc\n",
      "2 agr\n",
      "3 bm_ia\n",
      "4 cashdebt\n",
      "5 cashpr\n",
      "6 cfp\n",
      "7 cfp_ia\n",
      "8 chatoia\n",
      "9 chcsho\n",
      "10 chempia\n",
      "11 chinv\n",
      "12 chpmia\n",
      "13 convind\n",
      "14 currat\n",
      "15 currat\n",
      "16 depr\n",
      "17 divi\n",
      "18 divo\n",
      "19 dy\n",
      "20 egr\n",
      "21 ep\n",
      "22 gma\n",
      "23 grcapx\n",
      "24 grltnoa\n",
      "25 herf\n",
      "26 hire\n",
      "27 invest\n",
      "28 lev\n",
      "29 lgr\n",
      "30 mve_ia\n",
      "31 operprof\n",
      "32 orgcap\n",
      "33 pchcapx_ia\n",
      "34 pchcurrat\n",
      "35 pchdepr\n",
      "36 pchgm_pchsale\n",
      "37 pchquick\n",
      "38 pchsale_pchinvt\n",
      "39 pchsale_pchrect\n",
      "40 pchsale_pchxsga\n",
      "41 pchsaleinv\n",
      "42 pctacc\n",
      "43 ps\n",
      "44 quick\n",
      "45 rd\n",
      "46 rd_mve\n",
      "47 rd_sale\n",
      "48 realestate\n",
      "49 roic\n",
      "50 salecash\n",
      "51 saleinv\n",
      "52 salerec\n",
      "53 secured\n",
      "54 securedind\n",
      "55 sgr\n",
      "56 sin\n",
      "57 sp\n",
      "58 tang\n",
      "59 tb\n",
      "60 aeavol\n",
      "61 cash\n",
      "62 chtx\n",
      "63 cinvest\n",
      "64 ear\n",
      "65 roaq\n",
      "66 roavol\n",
      "67 roeq\n",
      "68 rsup\n",
      "69 stdacc\n",
      "70 stdcf\n",
      "71 chmom\n",
      "72 dolvol\n",
      "73 mom12m\n",
      "74 mom1m\n",
      "75 mom36m\n",
      "76 mom6m\n",
      "77 mvel1\n",
      "78 turn\n",
      "79 revtq\n",
      "80 req\n",
      "81 epspiq\n",
      "82 quickq\n",
      "83 curratq\n",
      "84 cashrratq\n",
      "85 peq\n",
      "86 roeq\n",
      "87 roaq\n",
      "88 revtq_aoa\n",
      "89 req_aoa\n",
      "90 epspiq_aoa\n",
      "91 quickq_aoa\n",
      "92 curratq_aoa\n",
      "93 cashrratq_aoa\n",
      "94 peq_aoa\n",
      "95 roeq_aoa\n",
      "96 roaq_aoa\n",
      "97 revtq_5o5\n",
      "98 req_5o5\n",
      "99 epspiq_5o5\n",
      "100 quickq_5o5\n",
      "101 curratq_5o5\n",
      "102 cashrratq_5o5\n",
      "103 peq_5o5\n",
      "104 roeq_5o5\n",
      "105 roaq_5o5\n"
     ]
    }
   ],
   "source": [
    "for index, item in enumerate(x_tr.columns):\n",
    "    print(index, item)"
   ]
  },
  {
   "cell_type": "code",
   "execution_count": 3,
   "metadata": {
    "scrolled": true
   },
   "outputs": [
    {
     "data": {
      "text/plain": [
       "['revt',\n",
       " 'ebit',\n",
       " 'ebitda',\n",
       " 're',\n",
       " 'epspi',\n",
       " 'gma',\n",
       " 'operprof',\n",
       " 'quick',\n",
       " 'currat',\n",
       " 'cashrrat',\n",
       " 'cftrr',\n",
       " 'dpr',\n",
       " 'pe',\n",
       " 'pb',\n",
       " 'roe',\n",
       " 'roa',\n",
       " 'roic',\n",
       " 'cod',\n",
       " 'capint',\n",
       " 'lev',\n",
       " 'revt_aoa',\n",
       " 'ebit_aoa',\n",
       " 'ebitda_aoa',\n",
       " 're_aoa',\n",
       " 'epspi_aoa',\n",
       " 'gma_aoa',\n",
       " 'operprof_aoa',\n",
       " 'quick_aoa',\n",
       " 'currat_aoa',\n",
       " 'cashrrat_aoa',\n",
       " 'cftrr_aoa',\n",
       " 'dpr_aoa',\n",
       " 'pe_aoa',\n",
       " 'pb_aoa',\n",
       " 'roe_aoa',\n",
       " 'roa_aoa',\n",
       " 'roic_aoa',\n",
       " 'cod_aoa',\n",
       " 'capint_aoa',\n",
       " 'lev_aoa',\n",
       " 'revt_5o5',\n",
       " 'ebit_5o5',\n",
       " 'ebitda_5o5',\n",
       " 're_5o5',\n",
       " 'epspi_5o5',\n",
       " 'gma_5o5',\n",
       " 'operprof_5o5',\n",
       " 'quick_5o5',\n",
       " 'currat_5o5',\n",
       " 'cashrrat_5o5',\n",
       " 'cftrr_5o5',\n",
       " 'dpr_5o5',\n",
       " 'pe_5o5',\n",
       " 'pb_5o5',\n",
       " 'roe_5o5',\n",
       " 'roa_5o5',\n",
       " 'roic_5o5',\n",
       " 'cod_5o5',\n",
       " 'capint_5o5',\n",
       " 'lev_5o5',\n",
       " 'revtq',\n",
       " 'req',\n",
       " 'epspiq',\n",
       " 'quickq',\n",
       " 'curratq',\n",
       " 'cashrratq',\n",
       " 'peq',\n",
       " 'roeq',\n",
       " 'roaq',\n",
       " 'revtq_qoq',\n",
       " 'req_qoq',\n",
       " 'epspiq_qoq',\n",
       " 'quickq_qoq',\n",
       " 'curratq_qoq',\n",
       " 'cashrratq_qoq',\n",
       " 'peq_qoq',\n",
       " 'roeq_qoq',\n",
       " 'roaq_qoq',\n",
       " 'revtq_aoa',\n",
       " 'req_aoa',\n",
       " 'epspiq_aoa',\n",
       " 'quickq_aoa',\n",
       " 'curratq_aoa',\n",
       " 'cashrratq_aoa',\n",
       " 'peq_aoa',\n",
       " 'roeq_aoa',\n",
       " 'roaq_aoa',\n",
       " 'revtq_5o5',\n",
       " 'req_5o5',\n",
       " 'epspiq_5o5',\n",
       " 'quickq_5o5',\n",
       " 'curratq_5o5',\n",
       " 'cashrratq_5o5',\n",
       " 'peq_5o5',\n",
       " 'roeq_5o5',\n",
       " 'roaq_5o5']"
      ]
     },
     "execution_count": 3,
     "metadata": {},
     "output_type": "execute_result"
    }
   ],
   "source": [
    "list(y_tr.columns)"
   ]
  },
  {
   "cell_type": "code",
   "execution_count": null,
   "metadata": {
    "pycharm": {
     "is_executing": true,
     "name": "#%%\n"
    }
   },
   "outputs": [
    {
     "name": "stdout",
     "output_type": "stream",
     "text": [
      "[15:10:15] WARNING: src/objective/regression_obj.cu:152: reg:linear is now deprecated in favor of reg:squarederror.\n"
     ]
    },
    {
     "data": {
      "image/png": "[encoded data removed]",
      "text/plain": [
       "<Figure size 432x288 with 1 Axes>"
      ]
     },
     "metadata": {
      "needs_background": "light"
     },
     "output_type": "display_data"
    },
    {
     "name": "stdout",
     "output_type": "stream",
     "text": [
      "revt 0.1041216050670325 ['revtq', 'secured', 'revtq_aoa']\n",
      "\n",
      "[15:10:49] WARNING: src/objective/regression_obj.cu:152: reg:linear is now deprecated in favor of reg:squarederror.\n",
      "Cannot do ebit!\n",
      "\n",
      "[15:11:16] WARNING: src/objective/regression_obj.cu:152: reg:linear is now deprecated in favor of reg:squarederror.\n"
     ]
    }
   ],
   "source": [
    "oosr2 = {}\n",
    "\n",
    "mod = xgb.XGBRegressor(max_depth=6,\n",
    "                            n_estimators=50, \n",
    "                            min_child_weight=5,\n",
    "                            gamma=0.1,\n",
    "                            learning_rate=0.1) \n",
    "\n",
    "for item in y_tr.columns:\n",
    "    try:\n",
    "        mod.fit(x_tr.values, y_tr[item].values)\n",
    "        predictions = mod.predict(x_val.values)\n",
    "        y_true = y_val[item].values \n",
    "        # plot\n",
    "        plt.bar(range(len(mod.feature_importances_)), mod.feature_importances_)\n",
    "        max_fea = []\n",
    "        max_3 = mod.feature_importances_.argsort()[-3:][::-1]\n",
    "        for index in max_3:\n",
    "            max_fea.append(x_tr.columns[index])\n",
    "        plt.show()\n",
    "        y_true[y_true==np.inf] = 0\n",
    "        y_true[y_true==np.NINF] = 0\n",
    "        y_true[y_true==np.NaN] = 0\n",
    "        oosr2[item] = sklearn.metrics.r2_score(y_true, predictions)\n",
    "        print(item, sklearn.metrics.r2_score(y_true, predictions), max_fea)\n",
    "        print('')\n",
    "    except:\n",
    "        print(f'Cannot do {item}!')\n",
    "        print('')"
   ]
  },
  {
   "cell_type": "code",
   "execution_count": 8,
   "metadata": {},
   "outputs": [],
   "source": [
    "x_tr.head"
   ]
  },
  {
   "cell_type": "code",
   "execution_count": null,
   "metadata": {},
   "outputs": [],
   "source": []
  }
 ],
 "metadata": {
  "kernelspec": {
   "display_name": "Python 3",
   "language": "python",
   "name": "python3"
  },
  "language_info": {
   "codemirror_mode": {
    "name": "ipython",
    "version": 3
   },
   "file_extension": ".py",
   "mimetype": "text/x-python",
   "name": "python",
   "nbconvert_exporter": "python",
   "pygments_lexer": "ipython3",
   "version": "3.7.5"
  },
  "pycharm": {
   "stem_cell": {
    "cell_type": "raw",
    "metadata": {
     "collapsed": false
    },
    "source": []
   }
  }
 },
 "nbformat": 4,
 "nbformat_minor": 2
}
