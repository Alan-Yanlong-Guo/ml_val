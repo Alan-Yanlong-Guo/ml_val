{
 "cells": [
  {
   "cell_type": "code",
   "execution_count": 108,
   "metadata": {
    "pycharm": {
     "is_executing": true,
     "name": "#%%\n"
    }
   },
   "outputs": [],
   "source": [
    "import pickle\n",
    "import numpy as np\n",
    "import xgboost as xgb\n",
    "import pandas as pd\n",
    "import sklearn\n",
    "import matplotlib.pyplot as plt"
   ]
  },
  {
   "cell_type": "code",
   "execution_count": 121,
   "metadata": {
    "pycharm": {
     "is_executing": false,
     "name": "#%%\n"
    }
   },
   "outputs": [
    {
     "data": {
      "text/plain": [
       "Index(['absacc', 'acc', 'agr', 'bm_ia', 'cashdebt', 'cashpr', 'cfp', 'cfp_ia',\n",
       "       'chatoia', 'chcsho', 'chempia', 'chinv', 'chpmia', 'convind', 'currat',\n",
       "       'currat', 'depr', 'divi', 'divo', 'dy', 'egr', 'ep', 'gma', 'grcapx',\n",
       "       'grltnoa', 'herf', 'hire', 'invest', 'lev', 'lgr', 'mve_ia', 'operprof',\n",
       "       'orgcap', 'pchcapx_ia', 'pchcurrat', 'pchdepr', 'pchgm_pchsale',\n",
       "       'pchquick', 'pchsale_pchinvt', 'pchsale_pchrect', 'pchsale_pchxsga',\n",
       "       'pchsaleinv', 'pctacc', 'ps', 'quick', 'rd', 'rd_mve', 'rd_sale',\n",
       "       'realestate', 'roic', 'salecash', 'saleinv', 'salerec', 'secured',\n",
       "       'securedind', 'sgr', 'sin', 'sp', 'tang', 'tb', 'aeavol', 'cash',\n",
       "       'chtx', 'cinvest', 'ear', 'roaq', 'roavol', 'roeq', 'rsup', 'stdacc',\n",
       "       'stdcf', 'chmom', 'dolvol', 'mom12m', 'mom1m', 'mom36m', 'mom6m',\n",
       "       'mvel1', 'turn'],\n",
       "      dtype='object')"
      ]
     },
     "execution_count": 121,
     "metadata": {},
     "output_type": "execute_result"
    }
   ],
   "source": [
    "xy_data_dir = '/Users/mmw/Documents/GitHub/ml_val/data_all/xy_data'\n",
    "with open(xy_data_dir + '/x_tr.pkl', 'rb') as handle:\n",
    "    x_tr = pickle.load(handle).fillna(0).iloc[:,5:]\n",
    "with open(xy_data_dir + '/y_tr.pkl', 'rb') as handle:\n",
    "    y_tr = pickle.load(handle).fillna(0).iloc[:,5:]\n",
    "with open(xy_data_dir + '/x_val.pkl', 'rb') as handle:\n",
    "    x_val = pickle.load(handle).fillna(0).iloc[:,5:]\n",
    "with open(xy_data_dir + '/y_val.pkl', 'rb') as handle:\n",
    "    y_val = pickle.load(handle).fillna(0).iloc[:,5:]\n",
    "# with open(xy_data_dir + '/x_ts.pkl', 'rb') as handle:\n",
    "#     x_ts = pickle.load(handle).fillna(0).iloc[:,5:]\n",
    "# with open(xy_data_dir + '/y_ts.pkl', 'rb') as handle:\n",
    "#     y_ts = pickle.load(handle).fillna(0).iloc[:,5:]\n",
    "# "
   ]
  },
  {
   "cell_type": "code",
   "execution_count": 138,
   "metadata": {},
   "outputs": [
    {
     "data": {
      "text/plain": [
       "Index(['absacc', 'acc', 'agr', 'bm_ia', 'cashdebt', 'cashpr', 'cfp', 'cfp_ia',\n",
       "       'chatoia', 'chcsho', 'chempia', 'chinv', 'chpmia', 'convind', 'currat',\n",
       "       'currat', 'depr', 'divi', 'divo', 'dy', 'egr', 'ep', 'gma', 'grcapx',\n",
       "       'grltnoa', 'herf', 'hire', 'invest', 'lev', 'lgr', 'mve_ia', 'operprof',\n",
       "       'orgcap', 'pchcapx_ia', 'pchcurrat', 'pchdepr', 'pchgm_pchsale',\n",
       "       'pchquick', 'pchsale_pchinvt', 'pchsale_pchrect', 'pchsale_pchxsga',\n",
       "       'pchsaleinv', 'pctacc', 'ps', 'quick', 'rd', 'rd_mve', 'rd_sale',\n",
       "       'realestate', 'roic', 'salecash', 'saleinv', 'salerec', 'secured',\n",
       "       'securedind', 'sgr', 'sin', 'sp', 'tang', 'tb', 'aeavol', 'cash',\n",
       "       'chtx', 'cinvest', 'ear', 'roaq', 'roavol', 'roeq', 'rsup', 'stdacc',\n",
       "       'stdcf', 'chmom', 'dolvol', 'mom12m', 'mom1m', 'mom36m', 'mom6m',\n",
       "       'mvel1', 'turn'],\n",
       "      dtype='object')"
      ]
     },
     "execution_count": 138,
     "metadata": {},
     "output_type": "execute_result"
    }
   ],
   "source": [
    "x_tr.columns"
   ]
  },
  {
   "cell_type": "code",
   "execution_count": 124,
   "metadata": {},
   "outputs": [
    {
     "data": {
      "text/plain": [
       "['revt',\n",
       " 'ebit',\n",
       " 'ebitda',\n",
       " 're',\n",
       " 'epspi',\n",
       " 'gp',\n",
       " 'opiti',\n",
       " 'act',\n",
       " 'invt',\n",
       " 'lct',\n",
       " 'ch',\n",
       " 'oancf',\n",
       " 'dvp',\n",
       " 'dvc',\n",
       " 'prstkc',\n",
       " 'ni',\n",
       " 'csho',\n",
       " 'prcc_f',\n",
       " 'mkvalt',\n",
       " 'bkvlps',\n",
       " 'at',\n",
       " 'lt',\n",
       " 'dvt',\n",
       " 'icapt',\n",
       " 'xint',\n",
       " 'dlcch',\n",
       " 'dltt',\n",
       " 'gdwl',\n",
       " 'gwo',\n",
       " 'capx',\n",
       " 'dlc',\n",
       " 'seq',\n",
       " 'gma',\n",
       " 'operprof',\n",
       " 'quick',\n",
       " 'currat',\n",
       " 'cashrrat',\n",
       " 'cftrr',\n",
       " 'dpr',\n",
       " 'pe',\n",
       " 'pb',\n",
       " 'roe',\n",
       " 'roa',\n",
       " 'roic',\n",
       " 'cod',\n",
       " 'capint',\n",
       " 'lev',\n",
       " 'revt_yoy',\n",
       " 'ebit_yoy',\n",
       " 'ebitda_yoy',\n",
       " 're_yoy',\n",
       " 'epspi_yoy',\n",
       " 'gp_yoy',\n",
       " 'opiti_yoy',\n",
       " 'act_yoy',\n",
       " 'invt_yoy',\n",
       " 'lct_yoy',\n",
       " 'ch_yoy',\n",
       " 'oancf_yoy',\n",
       " 'dvp_yoy',\n",
       " 'dvc_yoy',\n",
       " 'prstkc_yoy',\n",
       " 'ni_yoy',\n",
       " 'csho_yoy',\n",
       " 'prcc_f_yoy',\n",
       " 'mkvalt_yoy',\n",
       " 'bkvlps_yoy',\n",
       " 'at_yoy',\n",
       " 'lt_yoy',\n",
       " 'dvt_yoy',\n",
       " 'icapt_yoy',\n",
       " 'xint_yoy',\n",
       " 'dlcch_yoy',\n",
       " 'dltt_yoy',\n",
       " 'gdwl_yoy',\n",
       " 'gwo_yoy',\n",
       " 'capx_yoy',\n",
       " 'dlc_yoy',\n",
       " 'seq_yoy',\n",
       " 'gma_yoy',\n",
       " 'operprof_yoy',\n",
       " 'quick_yoy',\n",
       " 'currat_yoy',\n",
       " 'cashrrat_yoy',\n",
       " 'cftrr_yoy',\n",
       " 'dpr_yoy',\n",
       " 'pe_yoy',\n",
       " 'pb_yoy',\n",
       " 'roe_yoy',\n",
       " 'roa_yoy',\n",
       " 'roic_yoy',\n",
       " 'cod_yoy',\n",
       " 'capint_yoy',\n",
       " 'lev_yoy',\n",
       " 'revtq',\n",
       " 'req',\n",
       " 'epspiq',\n",
       " 'actq',\n",
       " 'invtq',\n",
       " 'lctq',\n",
       " 'chq',\n",
       " 'cshoq',\n",
       " 'prccq',\n",
       " 'niq',\n",
       " 'atq',\n",
       " 'ltq',\n",
       " 'gdwlq',\n",
       " 'quickq',\n",
       " 'curratq',\n",
       " 'cashrratq',\n",
       " 'peq',\n",
       " 'roeq',\n",
       " 'roaq',\n",
       " 'revtq_qoq',\n",
       " 'req_qoq',\n",
       " 'epspiq_qoq',\n",
       " 'actq_qoq',\n",
       " 'invtq_qoq',\n",
       " 'lctq_qoq',\n",
       " 'chq_qoq',\n",
       " 'cshoq_qoq',\n",
       " 'prccq_qoq',\n",
       " 'niq_qoq',\n",
       " 'atq_qoq',\n",
       " 'ltq_qoq',\n",
       " 'gdwlq_qoq',\n",
       " 'quickq_qoq',\n",
       " 'curratq_qoq',\n",
       " 'cashrratq_qoq',\n",
       " 'peq_qoq',\n",
       " 'roeq_qoq',\n",
       " 'roaq_qoq',\n",
       " 'revtq_aoa',\n",
       " 'req_aoa',\n",
       " 'epspiq_aoa',\n",
       " 'actq_aoa',\n",
       " 'invtq_aoa',\n",
       " 'lctq_aoa',\n",
       " 'chq_aoa',\n",
       " 'cshoq_aoa',\n",
       " 'prccq_aoa',\n",
       " 'niq_aoa',\n",
       " 'atq_aoa',\n",
       " 'ltq_aoa',\n",
       " 'gdwlq_aoa',\n",
       " 'quickq_aoa',\n",
       " 'curratq_aoa',\n",
       " 'cashrratq_aoa',\n",
       " 'peq_aoa',\n",
       " 'roeq_aoa',\n",
       " 'roaq_aoa']"
      ]
     },
     "execution_count": 124,
     "metadata": {},
     "output_type": "execute_result"
    }
   ],
   "source": [
    "list(y_tr.columns)"
   ]
  },
  {
   "cell_type": "code",
   "execution_count": null,
   "metadata": {
    "pycharm": {
     "is_executing": true,
     "name": "#%%\n"
    }
   },
   "outputs": [],
   "source": [
    "mod = xgb.XGBRegressor(\n",
    "    max_depth=6,\n",
    "    n_estimators=100, \n",
    "    min_child_weight=5,\n",
    "    gamma=0.1,\n",
    "    learning_rate=0.1\n",
    ") \n",
    "\n",
    "mod.fit(x_tr.values, y_tr['ebitda'].values)\n",
    "predictions = mod.predict(x_val.values)\n",
    "y_true = y_val['ebitda'].values \n",
    "# plot\n",
    "plt.bar(range(len(mod.feature_importances_)), mod.feature_importances_)\n",
    "plt.show()\n",
    "\n",
    "sklearn.metrics.r2_score(y_true, predictions)\n"
   ]
  },
  {
   "cell_type": "code",
   "execution_count": 145,
   "metadata": {},
   "outputs": [
    {
     "name": "stdout",
     "output_type": "stream",
     "text": [
      "[21:52:19] WARNING: src/objective/regression_obj.cu:152: reg:linear is now deprecated in favor of reg:squarederror.\n"
     ]
    },
    {
     "data": {
      "image/png": "[encoded data removed]",
      "text/plain": [
       "<Figure size 432x288 with 1 Axes>"
      ]
     },
     "metadata": {
      "needs_background": "light"
     },
     "output_type": "display_data"
    },
    {
     "data": {
      "text/plain": [
       "-0.23709485101257055"
      ]
     },
     "execution_count": 145,
     "metadata": {},
     "output_type": "execute_result"
    }
   ],
   "source": [
    "mod.fit(x_tr.values, y_tr['ebitda_yoy'].values)\n",
    "predictions = mod.predict(x_val.values)\n",
    "y_true = y_val['ebitda_yoy'].values \n",
    "# plot\n",
    "plt.bar(range(len(mod.feature_importances_)), mod.feature_importances_)\n",
    "plt.show()\n",
    "\n",
    "sklearn.metrics.r2_score(y_true, predictions)"
   ]
  },
  {
   "cell_type": "code",
   "execution_count": 146,
   "metadata": {},
   "outputs": [
    {
     "name": "stdout",
     "output_type": "stream",
     "text": [
      "[21:52:29] WARNING: src/objective/regression_obj.cu:152: reg:linear is now deprecated in favor of reg:squarederror.\n"
     ]
    },
    {
     "data": {
      "image/png": "[encoded data removed]",
      "text/plain": [
       "<Figure size 432x288 with 1 Axes>"
      ]
     },
     "metadata": {
      "needs_background": "light"
     },
     "output_type": "display_data"
    },
    {
     "data": {
      "text/plain": [
       "-0.5905017400221395"
      ]
     },
     "execution_count": 146,
     "metadata": {},
     "output_type": "execute_result"
    }
   ],
   "source": [
    "mod.fit(x_tr.values, y_tr['pe'].values)\n",
    "predictions = mod.predict(x_val.values)\n",
    "y_true = y_val['pe'].values \n",
    "# plot\n",
    "plt.bar(range(len(mod.feature_importances_)), mod.feature_importances_)\n",
    "plt.show()\n",
    "y_true[y_true==np.inf] = 0\n",
    "sklearn.metrics.r2_score(y_true, predictions)"
   ]
  },
  {
   "cell_type": "code",
   "execution_count": 147,
   "metadata": {
    "scrolled": true
   },
   "outputs": [
    {
     "name": "stdout",
     "output_type": "stream",
     "text": [
      "[21:52:38] WARNING: src/objective/regression_obj.cu:152: reg:linear is now deprecated in favor of reg:squarederror.\n"
     ]
    },
    {
     "data": {
      "image/png": "[encoded data removed]",
      "text/plain": [
       "<Figure size 432x288 with 1 Axes>"
      ]
     },
     "metadata": {
      "needs_background": "light"
     },
     "output_type": "display_data"
    },
    {
     "data": {
      "text/plain": [
       "-2.4280118914670004"
      ]
     },
     "execution_count": 147,
     "metadata": {},
     "output_type": "execute_result"
    }
   ],
   "source": [
    "mod.fit(x_tr.values, y_tr['pe_yoy'].values)\n",
    "predictions = mod.predict(x_val.values)\n",
    "y_true = y_val['pe_yoy'].values \n",
    "# plot\n",
    "plt.bar(range(len(mod.feature_importances_)), mod.feature_importances_)\n",
    "plt.show()\n",
    "\n",
    "sklearn.metrics.r2_score(y_true, predictions)"
   ]
  },
  {
   "cell_type": "code",
   "execution_count": 148,
   "metadata": {},
   "outputs": [
    {
     "name": "stdout",
     "output_type": "stream",
     "text": [
      "[21:52:48] WARNING: src/objective/regression_obj.cu:152: reg:linear is now deprecated in favor of reg:squarederror.\n"
     ]
    },
    {
     "data": {
      "image/png": "[encoded data removed]",
      "text/plain": [
       "<Figure size 432x288 with 1 Axes>"
      ]
     },
     "metadata": {
      "needs_background": "light"
     },
     "output_type": "display_data"
    },
    {
     "data": {
      "text/plain": [
       "0.0580440725440613"
      ]
     },
     "execution_count": 148,
     "metadata": {},
     "output_type": "execute_result"
    }
   ],
   "source": [
    "mod.fit(x_tr.values, y_tr['roe'].values)\n",
    "predictions = mod.predict(x_val.values)\n",
    "y_true = y_val['roe'].values \n",
    "# plot\n",
    "plt.bar(range(len(mod.feature_importances_)), mod.feature_importances_)\n",
    "plt.show()\n",
    "y_true[y_true==np.inf] = 0\n",
    "\n",
    "sklearn.metrics.r2_score(y_true, predictions)"
   ]
  },
  {
   "cell_type": "code",
   "execution_count": 149,
   "metadata": {},
   "outputs": [
    {
     "name": "stdout",
     "output_type": "stream",
     "text": [
      "[21:52:57] WARNING: src/objective/regression_obj.cu:152: reg:linear is now deprecated in favor of reg:squarederror.\n"
     ]
    },
    {
     "data": {
      "image/png": "[encoded data removed]",
      "text/plain": [
       "<Figure size 432x288 with 1 Axes>"
      ]
     },
     "metadata": {
      "needs_background": "light"
     },
     "output_type": "display_data"
    },
    {
     "data": {
      "text/plain": [
       "-0.0001755106853553734"
      ]
     },
     "execution_count": 149,
     "metadata": {},
     "output_type": "execute_result"
    }
   ],
   "source": [
    "mod.fit(x_tr.values, y_tr['roe_yoy'].values)\n",
    "predictions = mod.predict(x_val.values)\n",
    "y_true = y_val['roe_yoy'].values \n",
    "# plot\n",
    "plt.bar(range(len(mod.feature_importances_)), mod.feature_importances_)\n",
    "plt.show()\n",
    "y_true[y_true==np.inf] = 0\n",
    "\n",
    "sklearn.metrics.r2_score(y_true, predictions)"
   ]
  },
  {
   "cell_type": "code",
   "execution_count": null,
   "metadata": {},
   "outputs": [
    {
     "name": "stdout",
     "output_type": "stream",
     "text": [
      "[21:53:06] WARNING: src/objective/regression_obj.cu:152: reg:linear is now deprecated in favor of reg:squarederror.\n"
     ]
    }
   ],
   "source": [
    "mod.fit(x_tr.values, y_tr['quick'].values)\n",
    "predictions = mod.predict(x_val.values)\n",
    "y_true = y_val['quick'].values \n",
    "# plot\n",
    "plt.bar(range(len(mod.feature_importances_)), mod.feature_importances_)\n",
    "plt.show()\n",
    "y_true[y_true==np.inf] = 0\n",
    "\n",
    "sklearn.metrics.r2_score(y_true, predictions)"
   ]
  },
  {
   "cell_type": "code",
   "execution_count": null,
   "metadata": {},
   "outputs": [],
   "source": [
    "mod.fit(x_tr.values, y_tr['quick_yoy'].values)\n",
    "predictions = mod.predict(x_val.values)\n",
    "y_true = y_val['quick_yoy'].values \n",
    "# plot\n",
    "plt.bar(range(len(mod.feature_importances_)), mod.feature_importances_)\n",
    "plt.show()\n",
    "y_true[y_true==np.inf] = 0\n",
    "\n",
    "sklearn.metrics.r2_score(y_true, predictions)"
   ]
  },
  {
   "cell_type": "code",
   "execution_count": null,
   "metadata": {},
   "outputs": [],
   "source": [
    "mod.fit(x_tr.values, y_tr['pb'].values)\n",
    "predictions = mod.predict(x_val.values)\n",
    "y_true = y_val['pb'].values \n",
    "# plot\n",
    "plt.bar(range(len(mod.feature_importances_)), mod.feature_importances_)\n",
    "plt.show()\n",
    "y_true[y_true==np.inf] = 0\n",
    "\n",
    "sklearn.metrics.r2_score(y_true, predictions)"
   ]
  },
  {
   "cell_type": "code",
   "execution_count": null,
   "metadata": {},
   "outputs": [],
   "source": [
    "mod.fit(x_tr.values, y_tr['pb_yoy'].values)\n",
    "predictions = mod.predict(x_val.values)\n",
    "y_true = y_val['pb_yoy'].values \n",
    "# plot\n",
    "plt.bar(range(len(mod.feature_importances_)), mod.feature_importances_)\n",
    "plt.show()\n",
    "y_true[y_true==np.inf] = 0\n",
    "y_true[y_true==np.NINF] = 0\n",
    "y_true[y_true==np.NaN] = 0\n",
    "\n",
    "\n",
    "sklearn.metrics.r2_score(y_true, predictions)"
   ]
  },
  {
   "cell_type": "code",
   "execution_count": null,
   "metadata": {},
   "outputs": [],
   "source": []
  }
 ],
 "metadata": {
  "kernelspec": {
   "display_name": "Python 3",
   "language": "python",
   "name": "python3"
  },
  "language_info": {
   "codemirror_mode": {
    "name": "ipython",
    "version": 3
   },
   "file_extension": ".py",
   "mimetype": "text/x-python",
   "name": "python",
   "nbconvert_exporter": "python",
   "pygments_lexer": "ipython3",
   "version": "3.7.5"
  },
  "pycharm": {
   "stem_cell": {
    "cell_type": "raw",
    "metadata": {
     "collapsed": false
    },
    "source": []
   }
  }
 },
 "nbformat": 4,
 "nbformat_minor": 2
}
