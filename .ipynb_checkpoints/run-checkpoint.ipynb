{
 "cells": [
  {
   "cell_type": "code",
   "execution_count": 5,
   "metadata": {
    "pycharm": {
     "is_executing": false,
     "name": "#%%\n"
    }
   },
   "outputs": [],
   "source": [
    "import pickle\n",
    "from lightgbm import LGBMRegressor\n",
    "import numpy as np \n",
    "import matplotlib.pyplot as plt\n",
    "import sklearn\n",
    "\n",
    "xy_data_dir = '/Users/mmw/Documents/GitHub/ml_val/data_all/xy_data'\n",
    "\n",
    "with open(xy_data_dir + '/x_tr.pkl', 'rb') as handle:\n",
    "    x_tr = pickle.load(handle).iloc[:,5:]\n",
    "    x_tr = x_tr.iloc[:,5:]\n",
    "    x_tr.replace([np.inf, -np.inf, 'inf', '-inf'], np.NaN, inplace=True)\n",
    "    x_tr = x_tr.fillna(0).astype('float32')\n",
    "    \n",
    "with open(xy_data_dir + '/y_tr.pkl', 'rb') as handle:\n",
    "    y_tr = pickle.load(handle).iloc[:,5:]\n",
    "    y_tr.replace([np.inf, -np.inf, 'inf', '-inf'], np.NaN, inplace=True)\n",
    "    y_tr = y_tr.fillna(0).astype('float32')\n",
    "    \n",
    "with open(xy_data_dir + '/x_ts.pkl', 'rb') as handle:\n",
    "    x_ts = pickle.load(handle).iloc[:,5:]\n",
    "    x_ts.replace([np.inf, -np.inf, 'inf', '-inf'], np.NaN, inplace=True)\n",
    "    x_ts = x_ts.fillna(0).astype('float32')\n",
    "    \n",
    "with open(xy_data_dir + '/y_ts.pkl', 'rb') as handle:\n",
    "    y_ts = pickle.load(handle).iloc[:,5:]\n",
    "    y_ts.replace([np.inf, -np.inf, 'inf', '-inf'], np.NaN, inplace=True)\n",
    "    y_ts = y_ts.fillna(0).astype('float32')"
   ]
  },
  {
   "cell_type": "code",
   "execution_count": 6,
   "metadata": {
    "scrolled": true
   },
   "outputs": [
    {
     "name": "stdout",
     "output_type": "stream",
     "text": [
      "0 absacc\n",
      "1 acc\n",
      "2 agr\n",
      "3 bm_ia\n",
      "4 cashdebt\n",
      "5 cashpr\n",
      "6 cfp\n",
      "7 cfp_ia\n",
      "8 chatoia\n",
      "9 chcsho\n",
      "10 chempia\n",
      "11 chinv\n",
      "12 chpmia\n",
      "13 convind\n",
      "14 currat\n",
      "15 currat\n",
      "16 depr\n",
      "17 divi\n",
      "18 divo\n",
      "19 dy\n",
      "20 egr\n",
      "21 ep\n",
      "22 gma\n",
      "23 grcapx\n",
      "24 grltnoa\n",
      "25 herf\n",
      "26 hire\n",
      "27 invest\n",
      "28 lev\n",
      "29 lgr\n",
      "30 mve_ia\n",
      "31 operprof\n",
      "32 orgcap\n",
      "33 pchcapx_ia\n",
      "34 pchcurrat\n",
      "35 pchdepr\n",
      "36 pchgm_pchsale\n",
      "37 pchquick\n",
      "38 pchsale_pchinvt\n",
      "39 pchsale_pchrect\n",
      "40 pchsale_pchxsga\n",
      "41 pchsaleinv\n",
      "42 pctacc\n",
      "43 ps\n",
      "44 quick\n",
      "45 rd\n",
      "46 rd_mve\n",
      "47 rd_sale\n",
      "48 realestate\n",
      "49 roic\n",
      "50 salecash\n",
      "51 saleinv\n",
      "52 salerec\n",
      "53 secured\n",
      "54 securedind\n",
      "55 sgr\n",
      "56 sin\n",
      "57 sp\n",
      "58 tang\n",
      "59 tb\n",
      "60 aeavol\n",
      "61 cash\n",
      "62 chtx\n",
      "63 cinvest\n",
      "64 ear\n",
      "65 roaq\n",
      "66 roavol\n",
      "67 roeq\n",
      "68 rsup\n",
      "69 stdacc\n",
      "70 stdcf\n",
      "71 chmom\n",
      "72 dolvol\n",
      "73 mom12m\n",
      "74 mom1m\n",
      "75 mom36m\n",
      "76 mom6m\n",
      "77 mvel1\n",
      "78 turn\n",
      "79 revt\n",
      "80 ebit\n",
      "81 ebitda\n",
      "82 re\n",
      "83 epspi\n",
      "84 gma\n",
      "85 operprof\n",
      "86 quick\n",
      "87 currat\n",
      "88 cashrrat\n",
      "89 cftrr\n",
      "90 dpr\n",
      "91 pe\n",
      "92 pb\n",
      "93 roe\n",
      "94 roa\n",
      "95 roic\n",
      "96 cod\n",
      "97 capint\n",
      "98 lev\n",
      "99 revt_aoa\n",
      "100 ebit_aoa\n",
      "101 ebitda_aoa\n",
      "102 re_aoa\n",
      "103 epspi_aoa\n",
      "104 gma_aoa\n",
      "105 operprof_aoa\n",
      "106 quick_aoa\n",
      "107 currat_aoa\n",
      "108 cashrrat_aoa\n",
      "109 cftrr_aoa\n",
      "110 dpr_aoa\n",
      "111 pe_aoa\n",
      "112 pb_aoa\n",
      "113 roe_aoa\n",
      "114 roa_aoa\n",
      "115 roic_aoa\n",
      "116 cod_aoa\n",
      "117 capint_aoa\n",
      "118 lev_aoa\n",
      "119 revt_5o5\n",
      "120 ebit_5o5\n",
      "121 ebitda_5o5\n",
      "122 re_5o5\n",
      "123 epspi_5o5\n",
      "124 gma_5o5\n",
      "125 operprof_5o5\n",
      "126 quick_5o5\n",
      "127 currat_5o5\n",
      "128 cashrrat_5o5\n",
      "129 cftrr_5o5\n",
      "130 dpr_5o5\n",
      "131 pe_5o5\n",
      "132 pb_5o5\n",
      "133 roe_5o5\n",
      "134 roa_5o5\n",
      "135 roic_5o5\n",
      "136 cod_5o5\n",
      "137 capint_5o5\n",
      "138 lev_5o5\n",
      "139 revtq\n",
      "140 req\n",
      "141 epspiq\n",
      "142 quickq\n",
      "143 curratq\n",
      "144 cashrratq\n",
      "145 peq\n",
      "146 roeq\n",
      "147 roaq\n",
      "148 revtq_qoq\n",
      "149 req_qoq\n",
      "150 epspiq_qoq\n",
      "151 quickq_qoq\n",
      "152 curratq_qoq\n",
      "153 cashrratq_qoq\n",
      "154 peq_qoq\n",
      "155 roeq_qoq\n",
      "156 roaq_qoq\n",
      "157 revtq_aoa\n",
      "158 req_aoa\n",
      "159 epspiq_aoa\n",
      "160 quickq_aoa\n",
      "161 curratq_aoa\n",
      "162 cashrratq_aoa\n",
      "163 peq_aoa\n",
      "164 roeq_aoa\n",
      "165 roaq_aoa\n",
      "166 revtq_5o5\n",
      "167 req_5o5\n",
      "168 epspiq_5o5\n",
      "169 quickq_5o5\n",
      "170 curratq_5o5\n",
      "171 cashrratq_5o5\n",
      "172 peq_5o5\n",
      "173 roeq_5o5\n",
      "174 roaq_5o5\n",
      "175 revt_sum\n",
      "176 ebit_sum\n",
      "177 ebitda_sum\n",
      "178 re_sum\n",
      "179 revt_med\n",
      "180 ebit_med\n",
      "181 ebitda_med\n",
      "182 re_med\n",
      "183 epspi_med\n",
      "184 gma_med\n",
      "185 operprof_med\n",
      "186 quick_med\n",
      "187 currat_med\n",
      "188 cashrrat_med\n",
      "189 cftrr_med\n",
      "190 dpr_med\n",
      "191 pe_med\n",
      "192 pb_med\n",
      "193 roe_med\n",
      "194 roa_med\n",
      "195 roic_med\n",
      "196 cod_med\n",
      "197 capint_med\n",
      "198 lev_med\n",
      "199 revt_sum_aoa\n",
      "200 ebit_sum_aoa\n",
      "201 ebitda_sum_aoa\n",
      "202 re_sum_aoa\n",
      "203 revt_med_aoa\n",
      "204 ebit_med_aoa\n",
      "205 ebitda_med_aoa\n",
      "206 re_med_aoa\n",
      "207 epspi_med_aoa\n",
      "208 gma_med_aoa\n",
      "209 operprof_med_aoa\n",
      "210 quick_med_aoa\n",
      "211 currat_med_aoa\n",
      "212 cashrrat_med_aoa\n",
      "213 cftrr_med_aoa\n",
      "214 dpr_med_aoa\n",
      "215 pe_med_aoa\n",
      "216 pb_med_aoa\n",
      "217 roe_med_aoa\n",
      "218 roa_med_aoa\n",
      "219 roic_med_aoa\n",
      "220 cod_med_aoa\n",
      "221 capint_med_aoa\n",
      "222 lev_med_aoa\n",
      "223 revt_sum_5o5\n",
      "224 ebit_sum_5o5\n",
      "225 ebitda_sum_5o5\n",
      "226 re_sum_5o5\n",
      "227 revt_med_5o5\n",
      "228 ebit_med_5o5\n",
      "229 ebitda_med_5o5\n",
      "230 re_med_5o5\n",
      "231 epspi_med_5o5\n",
      "232 gma_med_5o5\n",
      "233 operprof_med_5o5\n",
      "234 quick_med_5o5\n",
      "235 currat_med_5o5\n",
      "236 cashrrat_med_5o5\n",
      "237 cftrr_med_5o5\n",
      "238 dpr_med_5o5\n",
      "239 pe_med_5o5\n",
      "240 pb_med_5o5\n",
      "241 roe_med_5o5\n",
      "242 roa_med_5o5\n",
      "243 roic_med_5o5\n",
      "244 cod_med_5o5\n",
      "245 capint_med_5o5\n",
      "246 lev_med_5o5\n"
     ]
    }
   ],
   "source": [
    "for index, item in enumerate(x_tr.columns):\n",
    "    print(index, item)"
   ]
  },
  {
   "cell_type": "code",
   "execution_count": 7,
   "metadata": {
    "scrolled": true
   },
   "outputs": [
    {
     "data": {
      "text/plain": [
       "['revt',\n",
       " 'ebit',\n",
       " 'ebitda',\n",
       " 're',\n",
       " 'epspi',\n",
       " 'gma',\n",
       " 'operprof',\n",
       " 'quick',\n",
       " 'currat',\n",
       " 'cashrrat',\n",
       " 'cftrr',\n",
       " 'dpr',\n",
       " 'pe',\n",
       " 'pb',\n",
       " 'roe',\n",
       " 'roa',\n",
       " 'roic',\n",
       " 'cod',\n",
       " 'capint',\n",
       " 'lev',\n",
       " 'revt_aoa',\n",
       " 'ebit_aoa',\n",
       " 'ebitda_aoa',\n",
       " 're_aoa',\n",
       " 'epspi_aoa',\n",
       " 'gma_aoa',\n",
       " 'operprof_aoa',\n",
       " 'quick_aoa',\n",
       " 'currat_aoa',\n",
       " 'cashrrat_aoa',\n",
       " 'cftrr_aoa',\n",
       " 'dpr_aoa',\n",
       " 'pe_aoa',\n",
       " 'pb_aoa',\n",
       " 'roe_aoa',\n",
       " 'roa_aoa',\n",
       " 'roic_aoa',\n",
       " 'cod_aoa',\n",
       " 'capint_aoa',\n",
       " 'lev_aoa',\n",
       " 'revt_5o5',\n",
       " 'ebit_5o5',\n",
       " 'ebitda_5o5',\n",
       " 're_5o5',\n",
       " 'epspi_5o5',\n",
       " 'gma_5o5',\n",
       " 'operprof_5o5',\n",
       " 'quick_5o5',\n",
       " 'currat_5o5',\n",
       " 'cashrrat_5o5',\n",
       " 'cftrr_5o5',\n",
       " 'dpr_5o5',\n",
       " 'pe_5o5',\n",
       " 'pb_5o5',\n",
       " 'roe_5o5',\n",
       " 'roa_5o5',\n",
       " 'roic_5o5',\n",
       " 'cod_5o5',\n",
       " 'capint_5o5',\n",
       " 'lev_5o5',\n",
       " 'revtq',\n",
       " 'req',\n",
       " 'epspiq',\n",
       " 'quickq',\n",
       " 'curratq',\n",
       " 'cashrratq',\n",
       " 'peq',\n",
       " 'roeq',\n",
       " 'roaq',\n",
       " 'revtq_qoq',\n",
       " 'req_qoq',\n",
       " 'epspiq_qoq',\n",
       " 'quickq_qoq',\n",
       " 'curratq_qoq',\n",
       " 'cashrratq_qoq',\n",
       " 'peq_qoq',\n",
       " 'roeq_qoq',\n",
       " 'roaq_qoq',\n",
       " 'revtq_aoa',\n",
       " 'req_aoa',\n",
       " 'epspiq_aoa',\n",
       " 'quickq_aoa',\n",
       " 'curratq_aoa',\n",
       " 'cashrratq_aoa',\n",
       " 'peq_aoa',\n",
       " 'roeq_aoa',\n",
       " 'roaq_aoa',\n",
       " 'revtq_5o5',\n",
       " 'req_5o5',\n",
       " 'epspiq_5o5',\n",
       " 'quickq_5o5',\n",
       " 'curratq_5o5',\n",
       " 'cashrratq_5o5',\n",
       " 'peq_5o5',\n",
       " 'roeq_5o5',\n",
       " 'roaq_5o5']"
      ]
     },
     "execution_count": 7,
     "metadata": {},
     "output_type": "execute_result"
    }
   ],
   "source": [
    "list(y_tr.columns)"
   ]
  },
  {
   "cell_type": "code",
   "execution_count": 8,
   "metadata": {
    "pycharm": {
     "is_executing": true,
     "name": "#%%\n"
    },
    "scrolled": false
   },
   "outputs": [
    {
     "data": {
      "image/png": "[encoded data removed]",
      "text/plain": [
       "<Figure size 432x288 with 1 Axes>"
      ]
     },
     "metadata": {
      "needs_background": "light"
     },
     "output_type": "display_data"
    },
    {
     "name": "stdout",
     "output_type": "stream",
     "text": [
      "revt_aoa 0.005337518887734705 0.29554230685403177 ['gma_aoa', 'revt', 'sp', 'gma', 'revtq_5o5']\n",
      "{'max_depth': 1, 'n_estimators': 20, 'num_leaves': 2}\n"
     ]
    },
    {
     "data": {
      "image/png": "[encoded data removed]",
      "text/plain": [
       "<Figure size 432x288 with 1 Axes>"
      ]
     },
     "metadata": {
      "needs_background": "light"
     },
     "output_type": "display_data"
    },
    {
     "name": "stdout",
     "output_type": "stream",
     "text": [
      "ebit_aoa -0.016655805247318245 0.7353608064450129 ['ebit_5o5', 'bm_ia', 'pe_5o5', 'ebitda_5o5', 'cftrr_aoa']\n",
      "{'max_depth': 2, 'n_estimators': 20, 'num_leaves': 4}\n"
     ]
    },
    {
     "data": {
      "image/png": "[encoded data removed]",
      "text/plain": [
       "<Figure size 432x288 with 1 Axes>"
      ]
     },
     "metadata": {
      "needs_background": "light"
     },
     "output_type": "display_data"
    },
    {
     "name": "stdout",
     "output_type": "stream",
     "text": [
      "ebitda_aoa 0.00026684988807601506 -1.0537038337174118 ['ebitda_5o5', 'ebitda', 'egr', 'roe_med_5o5', 'pe_5o5']\n",
      "{'max_depth': 1, 'n_estimators': 20, 'num_leaves': 2}\n"
     ]
    },
    {
     "data": {
      "image/png": "[encoded data removed]",
      "text/plain": [
       "<Figure size 432x288 with 1 Axes>"
      ]
     },
     "metadata": {
      "needs_background": "light"
     },
     "output_type": "display_data"
    },
    {
     "name": "stdout",
     "output_type": "stream",
     "text": [
      "re_aoa -0.06546344928351444 -4.080186961939336 ['rd_mve', 'pe', 'chcsho', 're_5o5', 'gma_med_aoa']\n",
      "{'max_depth': 1, 'n_estimators': 20, 'num_leaves': 2}\n"
     ]
    },
    {
     "data": {
      "image/png": "[encoded data removed]",
      "text/plain": [
       "<Figure size 432x288 with 1 Axes>"
      ]
     },
     "metadata": {
      "needs_background": "light"
     },
     "output_type": "display_data"
    },
    {
     "name": "stdout",
     "output_type": "stream",
     "text": [
      "epspi_aoa 0.003924841890634023 -1.673873894393539 ['pe', 'dpr_aoa', 'epspi_5o5', 'roe_5o5', 'pe_5o5']\n",
      "{'max_depth': 1, 'n_estimators': 20, 'num_leaves': 2}\n"
     ]
    },
    {
     "data": {
      "image/png": "[encoded data removed]",
      "text/plain": [
       "<Figure size 432x288 with 1 Axes>"
      ]
     },
     "metadata": {
      "needs_background": "light"
     },
     "output_type": "display_data"
    },
    {
     "name": "stdout",
     "output_type": "stream",
     "text": [
      "gma_aoa -0.0004189734795982947 0.5609887921803407 ['salerec', 'pchsale_pchrect', 're_aoa', 'ebit_sum', 'roe_aoa']\n",
      "{'max_depth': 1, 'n_estimators': 20, 'num_leaves': 2}\n"
     ]
    },
    {
     "data": {
      "image/png": "[encoded data removed]",
      "text/plain": [
       "<Figure size 432x288 with 1 Axes>"
      ]
     },
     "metadata": {
      "needs_background": "light"
     },
     "output_type": "display_data"
    },
    {
     "name": "stdout",
     "output_type": "stream",
     "text": [
      "operprof_aoa 1.0 0.0 ['lev_med_5o5', 'pe', 'cftrr', 'cashrrat', 'currat']\n",
      "{'max_depth': 1, 'n_estimators': 20, 'num_leaves': 2}\n"
     ]
    },
    {
     "data": {
      "image/png": "[encoded data removed]",
      "text/plain": [
       "<Figure size 432x288 with 1 Axes>"
      ]
     },
     "metadata": {
      "needs_background": "light"
     },
     "output_type": "display_data"
    },
    {
     "name": "stdout",
     "output_type": "stream",
     "text": [
      "quick_aoa -0.2563621402134688 -6.104503546622472 ['quick', 'quick_5o5', 'currat', 'pchquick', 'currat_aoa']\n",
      "{'max_depth': 2, 'n_estimators': 20, 'num_leaves': 4}\n"
     ]
    },
    {
     "data": {
      "image/png": "[encoded data removed]",
      "text/plain": [
       "<Figure size 432x288 with 1 Axes>"
      ]
     },
     "metadata": {
      "needs_background": "light"
     },
     "output_type": "display_data"
    },
    {
     "name": "stdout",
     "output_type": "stream",
     "text": [
      "currat_aoa 0.06964869525386486 3.5487761154611177 ['currat', 'currat_aoa', 'currat', 'currat_5o5', 'revtq_5o5']\n",
      "{'max_depth': 1, 'n_estimators': 20, 'num_leaves': 2}\n"
     ]
    },
    {
     "ename": "KeyboardInterrupt",
     "evalue": "",
     "output_type": "error",
     "traceback": [
      "\u001b[0;31m---------------------------------------------------------------------------\u001b[0m",
      "\u001b[0;31mKeyboardInterrupt\u001b[0m                         Traceback (most recent call last)",
      "\u001b[0;32m<ipython-input-8-78d56212c6a4>\u001b[0m in \u001b[0;36m<module>\u001b[0;34m\u001b[0m\n\u001b[1;32m     16\u001b[0m     \u001b[0mmod\u001b[0m \u001b[0;34m=\u001b[0m \u001b[0mLGBMRegressor\u001b[0m\u001b[0;34m(\u001b[0m\u001b[0mobjective\u001b[0m\u001b[0;34m=\u001b[0m\u001b[0;34m'regression_l2'\u001b[0m\u001b[0;34m,\u001b[0m \u001b[0mzero_as_missing\u001b[0m\u001b[0;34m=\u001b[0m\u001b[0;32mTrue\u001b[0m\u001b[0;34m)\u001b[0m\u001b[0;34m\u001b[0m\u001b[0;34m\u001b[0m\u001b[0m\n\u001b[1;32m     17\u001b[0m     \u001b[0mclf\u001b[0m \u001b[0;34m=\u001b[0m \u001b[0msklearn\u001b[0m\u001b[0;34m.\u001b[0m\u001b[0mmodel_selection\u001b[0m\u001b[0;34m.\u001b[0m\u001b[0mGridSearchCV\u001b[0m\u001b[0;34m(\u001b[0m\u001b[0mmod\u001b[0m \u001b[0;34m,\u001b[0m \u001b[0mparam_grid\u001b[0m \u001b[0;34m=\u001b[0m \u001b[0mparam_test\u001b[0m\u001b[0;34m,\u001b[0m \u001b[0mscoring\u001b[0m\u001b[0;34m=\u001b[0m\u001b[0;34m'r2'\u001b[0m\u001b[0;34m,\u001b[0m \u001b[0mcv\u001b[0m\u001b[0;34m=\u001b[0m\u001b[0;36m5\u001b[0m\u001b[0;34m)\u001b[0m\u001b[0;34m\u001b[0m\u001b[0;34m\u001b[0m\u001b[0m\n\u001b[0;32m---> 18\u001b[0;31m     \u001b[0mclf\u001b[0m\u001b[0;34m.\u001b[0m\u001b[0mfit\u001b[0m\u001b[0;34m(\u001b[0m\u001b[0mx_tr\u001b[0m\u001b[0;34m.\u001b[0m\u001b[0mvalues\u001b[0m\u001b[0;34m,\u001b[0m \u001b[0my_tr\u001b[0m\u001b[0;34m[\u001b[0m\u001b[0mitem\u001b[0m\u001b[0;34m]\u001b[0m\u001b[0;34m.\u001b[0m\u001b[0mvalues\u001b[0m\u001b[0;34m)\u001b[0m\u001b[0;34m\u001b[0m\u001b[0;34m\u001b[0m\u001b[0m\n\u001b[0m\u001b[1;32m     19\u001b[0m     \u001b[0mpredictions\u001b[0m \u001b[0;34m=\u001b[0m \u001b[0mclf\u001b[0m\u001b[0;34m.\u001b[0m\u001b[0mpredict\u001b[0m\u001b[0;34m(\u001b[0m\u001b[0mx_ts\u001b[0m\u001b[0;34m.\u001b[0m\u001b[0mvalues\u001b[0m\u001b[0;34m)\u001b[0m\u001b[0;34m\u001b[0m\u001b[0;34m\u001b[0m\u001b[0m\n\u001b[1;32m     20\u001b[0m     \u001b[0my_true\u001b[0m \u001b[0;34m=\u001b[0m \u001b[0my_ts\u001b[0m\u001b[0;34m[\u001b[0m\u001b[0mitem\u001b[0m\u001b[0;34m]\u001b[0m\u001b[0;34m.\u001b[0m\u001b[0mvalues\u001b[0m\u001b[0;34m\u001b[0m\u001b[0;34m\u001b[0m\u001b[0m\n",
      "\u001b[0;32m~/Documents/Virtualenvs/rloe/lib/python3.7/site-packages/sklearn/model_selection/_search.py\u001b[0m in \u001b[0;36mfit\u001b[0;34m(self, X, y, groups, **fit_params)\u001b[0m\n\u001b[1;32m    708\u001b[0m                 \u001b[0;32mreturn\u001b[0m \u001b[0mresults\u001b[0m\u001b[0;34m\u001b[0m\u001b[0;34m\u001b[0m\u001b[0m\n\u001b[1;32m    709\u001b[0m \u001b[0;34m\u001b[0m\u001b[0m\n\u001b[0;32m--> 710\u001b[0;31m             \u001b[0mself\u001b[0m\u001b[0;34m.\u001b[0m\u001b[0m_run_search\u001b[0m\u001b[0;34m(\u001b[0m\u001b[0mevaluate_candidates\u001b[0m\u001b[0;34m)\u001b[0m\u001b[0;34m\u001b[0m\u001b[0;34m\u001b[0m\u001b[0m\n\u001b[0m\u001b[1;32m    711\u001b[0m \u001b[0;34m\u001b[0m\u001b[0m\n\u001b[1;32m    712\u001b[0m         \u001b[0;31m# For multi-metric evaluation, store the best_index_, best_params_ and\u001b[0m\u001b[0;34m\u001b[0m\u001b[0;34m\u001b[0m\u001b[0;34m\u001b[0m\u001b[0m\n",
      "\u001b[0;32m~/Documents/Virtualenvs/rloe/lib/python3.7/site-packages/sklearn/model_selection/_search.py\u001b[0m in \u001b[0;36m_run_search\u001b[0;34m(self, evaluate_candidates)\u001b[0m\n\u001b[1;32m   1149\u001b[0m     \u001b[0;32mdef\u001b[0m \u001b[0m_run_search\u001b[0m\u001b[0;34m(\u001b[0m\u001b[0mself\u001b[0m\u001b[0;34m,\u001b[0m \u001b[0mevaluate_candidates\u001b[0m\u001b[0;34m)\u001b[0m\u001b[0;34m:\u001b[0m\u001b[0;34m\u001b[0m\u001b[0;34m\u001b[0m\u001b[0m\n\u001b[1;32m   1150\u001b[0m         \u001b[0;34m\"\"\"Search all candidates in param_grid\"\"\"\u001b[0m\u001b[0;34m\u001b[0m\u001b[0;34m\u001b[0m\u001b[0m\n\u001b[0;32m-> 1151\u001b[0;31m         \u001b[0mevaluate_candidates\u001b[0m\u001b[0;34m(\u001b[0m\u001b[0mParameterGrid\u001b[0m\u001b[0;34m(\u001b[0m\u001b[0mself\u001b[0m\u001b[0;34m.\u001b[0m\u001b[0mparam_grid\u001b[0m\u001b[0;34m)\u001b[0m\u001b[0;34m)\u001b[0m\u001b[0;34m\u001b[0m\u001b[0;34m\u001b[0m\u001b[0m\n\u001b[0m\u001b[1;32m   1152\u001b[0m \u001b[0;34m\u001b[0m\u001b[0m\n\u001b[1;32m   1153\u001b[0m \u001b[0;34m\u001b[0m\u001b[0m\n",
      "\u001b[0;32m~/Documents/Virtualenvs/rloe/lib/python3.7/site-packages/sklearn/model_selection/_search.py\u001b[0m in \u001b[0;36mevaluate_candidates\u001b[0;34m(candidate_params)\u001b[0m\n\u001b[1;32m    687\u001b[0m                                \u001b[0;32mfor\u001b[0m \u001b[0mparameters\u001b[0m\u001b[0;34m,\u001b[0m \u001b[0;34m(\u001b[0m\u001b[0mtrain\u001b[0m\u001b[0;34m,\u001b[0m \u001b[0mtest\u001b[0m\u001b[0;34m)\u001b[0m\u001b[0;34m\u001b[0m\u001b[0;34m\u001b[0m\u001b[0m\n\u001b[1;32m    688\u001b[0m                                in product(candidate_params,\n\u001b[0;32m--> 689\u001b[0;31m                                           cv.split(X, y, groups)))\n\u001b[0m\u001b[1;32m    690\u001b[0m \u001b[0;34m\u001b[0m\u001b[0m\n\u001b[1;32m    691\u001b[0m                 \u001b[0;32mif\u001b[0m \u001b[0mlen\u001b[0m\u001b[0;34m(\u001b[0m\u001b[0mout\u001b[0m\u001b[0;34m)\u001b[0m \u001b[0;34m<\u001b[0m \u001b[0;36m1\u001b[0m\u001b[0;34m:\u001b[0m\u001b[0;34m\u001b[0m\u001b[0;34m\u001b[0m\u001b[0m\n",
      "\u001b[0;32m~/Documents/Virtualenvs/rloe/lib/python3.7/site-packages/joblib/parallel.py\u001b[0m in \u001b[0;36m__call__\u001b[0;34m(self, iterable)\u001b[0m\n\u001b[1;32m   1005\u001b[0m                 \u001b[0mself\u001b[0m\u001b[0;34m.\u001b[0m\u001b[0m_iterating\u001b[0m \u001b[0;34m=\u001b[0m \u001b[0mself\u001b[0m\u001b[0;34m.\u001b[0m\u001b[0m_original_iterator\u001b[0m \u001b[0;32mis\u001b[0m \u001b[0;32mnot\u001b[0m \u001b[0;32mNone\u001b[0m\u001b[0;34m\u001b[0m\u001b[0;34m\u001b[0m\u001b[0m\n\u001b[1;32m   1006\u001b[0m \u001b[0;34m\u001b[0m\u001b[0m\n\u001b[0;32m-> 1007\u001b[0;31m             \u001b[0;32mwhile\u001b[0m \u001b[0mself\u001b[0m\u001b[0;34m.\u001b[0m\u001b[0mdispatch_one_batch\u001b[0m\u001b[0;34m(\u001b[0m\u001b[0miterator\u001b[0m\u001b[0;34m)\u001b[0m\u001b[0;34m:\u001b[0m\u001b[0;34m\u001b[0m\u001b[0;34m\u001b[0m\u001b[0m\n\u001b[0m\u001b[1;32m   1008\u001b[0m                 \u001b[0;32mpass\u001b[0m\u001b[0;34m\u001b[0m\u001b[0;34m\u001b[0m\u001b[0m\n\u001b[1;32m   1009\u001b[0m \u001b[0;34m\u001b[0m\u001b[0m\n",
      "\u001b[0;32m~/Documents/Virtualenvs/rloe/lib/python3.7/site-packages/joblib/parallel.py\u001b[0m in \u001b[0;36mdispatch_one_batch\u001b[0;34m(self, iterator)\u001b[0m\n\u001b[1;32m    833\u001b[0m                 \u001b[0;32mreturn\u001b[0m \u001b[0;32mFalse\u001b[0m\u001b[0;34m\u001b[0m\u001b[0;34m\u001b[0m\u001b[0m\n\u001b[1;32m    834\u001b[0m             \u001b[0;32melse\u001b[0m\u001b[0;34m:\u001b[0m\u001b[0;34m\u001b[0m\u001b[0;34m\u001b[0m\u001b[0m\n\u001b[0;32m--> 835\u001b[0;31m                 \u001b[0mself\u001b[0m\u001b[0;34m.\u001b[0m\u001b[0m_dispatch\u001b[0m\u001b[0;34m(\u001b[0m\u001b[0mtasks\u001b[0m\u001b[0;34m)\u001b[0m\u001b[0;34m\u001b[0m\u001b[0;34m\u001b[0m\u001b[0m\n\u001b[0m\u001b[1;32m    836\u001b[0m                 \u001b[0;32mreturn\u001b[0m \u001b[0;32mTrue\u001b[0m\u001b[0;34m\u001b[0m\u001b[0;34m\u001b[0m\u001b[0m\n\u001b[1;32m    837\u001b[0m \u001b[0;34m\u001b[0m\u001b[0m\n",
      "\u001b[0;32m~/Documents/Virtualenvs/rloe/lib/python3.7/site-packages/joblib/parallel.py\u001b[0m in \u001b[0;36m_dispatch\u001b[0;34m(self, batch)\u001b[0m\n\u001b[1;32m    752\u001b[0m         \u001b[0;32mwith\u001b[0m \u001b[0mself\u001b[0m\u001b[0;34m.\u001b[0m\u001b[0m_lock\u001b[0m\u001b[0;34m:\u001b[0m\u001b[0;34m\u001b[0m\u001b[0;34m\u001b[0m\u001b[0m\n\u001b[1;32m    753\u001b[0m             \u001b[0mjob_idx\u001b[0m \u001b[0;34m=\u001b[0m \u001b[0mlen\u001b[0m\u001b[0;34m(\u001b[0m\u001b[0mself\u001b[0m\u001b[0;34m.\u001b[0m\u001b[0m_jobs\u001b[0m\u001b[0;34m)\u001b[0m\u001b[0;34m\u001b[0m\u001b[0;34m\u001b[0m\u001b[0m\n\u001b[0;32m--> 754\u001b[0;31m             \u001b[0mjob\u001b[0m \u001b[0;34m=\u001b[0m \u001b[0mself\u001b[0m\u001b[0;34m.\u001b[0m\u001b[0m_backend\u001b[0m\u001b[0;34m.\u001b[0m\u001b[0mapply_async\u001b[0m\u001b[0;34m(\u001b[0m\u001b[0mbatch\u001b[0m\u001b[0;34m,\u001b[0m \u001b[0mcallback\u001b[0m\u001b[0;34m=\u001b[0m\u001b[0mcb\u001b[0m\u001b[0;34m)\u001b[0m\u001b[0;34m\u001b[0m\u001b[0;34m\u001b[0m\u001b[0m\n\u001b[0m\u001b[1;32m    755\u001b[0m             \u001b[0;31m# A job can complete so quickly than its callback is\u001b[0m\u001b[0;34m\u001b[0m\u001b[0;34m\u001b[0m\u001b[0;34m\u001b[0m\u001b[0m\n\u001b[1;32m    756\u001b[0m             \u001b[0;31m# called before we get here, causing self._jobs to\u001b[0m\u001b[0;34m\u001b[0m\u001b[0;34m\u001b[0m\u001b[0;34m\u001b[0m\u001b[0m\n",
      "\u001b[0;32m~/Documents/Virtualenvs/rloe/lib/python3.7/site-packages/joblib/_parallel_backends.py\u001b[0m in \u001b[0;36mapply_async\u001b[0;34m(self, func, callback)\u001b[0m\n\u001b[1;32m    207\u001b[0m     \u001b[0;32mdef\u001b[0m \u001b[0mapply_async\u001b[0m\u001b[0;34m(\u001b[0m\u001b[0mself\u001b[0m\u001b[0;34m,\u001b[0m \u001b[0mfunc\u001b[0m\u001b[0;34m,\u001b[0m \u001b[0mcallback\u001b[0m\u001b[0;34m=\u001b[0m\u001b[0;32mNone\u001b[0m\u001b[0;34m)\u001b[0m\u001b[0;34m:\u001b[0m\u001b[0;34m\u001b[0m\u001b[0;34m\u001b[0m\u001b[0m\n\u001b[1;32m    208\u001b[0m         \u001b[0;34m\"\"\"Schedule a func to be run\"\"\"\u001b[0m\u001b[0;34m\u001b[0m\u001b[0;34m\u001b[0m\u001b[0m\n\u001b[0;32m--> 209\u001b[0;31m         \u001b[0mresult\u001b[0m \u001b[0;34m=\u001b[0m \u001b[0mImmediateResult\u001b[0m\u001b[0;34m(\u001b[0m\u001b[0mfunc\u001b[0m\u001b[0;34m)\u001b[0m\u001b[0;34m\u001b[0m\u001b[0;34m\u001b[0m\u001b[0m\n\u001b[0m\u001b[1;32m    210\u001b[0m         \u001b[0;32mif\u001b[0m \u001b[0mcallback\u001b[0m\u001b[0;34m:\u001b[0m\u001b[0;34m\u001b[0m\u001b[0;34m\u001b[0m\u001b[0m\n\u001b[1;32m    211\u001b[0m             \u001b[0mcallback\u001b[0m\u001b[0;34m(\u001b[0m\u001b[0mresult\u001b[0m\u001b[0;34m)\u001b[0m\u001b[0;34m\u001b[0m\u001b[0;34m\u001b[0m\u001b[0m\n",
      "\u001b[0;32m~/Documents/Virtualenvs/rloe/lib/python3.7/site-packages/joblib/_parallel_backends.py\u001b[0m in \u001b[0;36m__init__\u001b[0;34m(self, batch)\u001b[0m\n\u001b[1;32m    588\u001b[0m         \u001b[0;31m# Don't delay the application, to avoid keeping the input\u001b[0m\u001b[0;34m\u001b[0m\u001b[0;34m\u001b[0m\u001b[0;34m\u001b[0m\u001b[0m\n\u001b[1;32m    589\u001b[0m         \u001b[0;31m# arguments in memory\u001b[0m\u001b[0;34m\u001b[0m\u001b[0;34m\u001b[0m\u001b[0;34m\u001b[0m\u001b[0m\n\u001b[0;32m--> 590\u001b[0;31m         \u001b[0mself\u001b[0m\u001b[0;34m.\u001b[0m\u001b[0mresults\u001b[0m \u001b[0;34m=\u001b[0m \u001b[0mbatch\u001b[0m\u001b[0;34m(\u001b[0m\u001b[0;34m)\u001b[0m\u001b[0;34m\u001b[0m\u001b[0;34m\u001b[0m\u001b[0m\n\u001b[0m\u001b[1;32m    591\u001b[0m \u001b[0;34m\u001b[0m\u001b[0m\n\u001b[1;32m    592\u001b[0m     \u001b[0;32mdef\u001b[0m \u001b[0mget\u001b[0m\u001b[0;34m(\u001b[0m\u001b[0mself\u001b[0m\u001b[0;34m)\u001b[0m\u001b[0;34m:\u001b[0m\u001b[0;34m\u001b[0m\u001b[0;34m\u001b[0m\u001b[0m\n",
      "\u001b[0;32m~/Documents/Virtualenvs/rloe/lib/python3.7/site-packages/joblib/parallel.py\u001b[0m in \u001b[0;36m__call__\u001b[0;34m(self)\u001b[0m\n\u001b[1;32m    254\u001b[0m         \u001b[0;32mwith\u001b[0m \u001b[0mparallel_backend\u001b[0m\u001b[0;34m(\u001b[0m\u001b[0mself\u001b[0m\u001b[0;34m.\u001b[0m\u001b[0m_backend\u001b[0m\u001b[0;34m,\u001b[0m \u001b[0mn_jobs\u001b[0m\u001b[0;34m=\u001b[0m\u001b[0mself\u001b[0m\u001b[0;34m.\u001b[0m\u001b[0m_n_jobs\u001b[0m\u001b[0;34m)\u001b[0m\u001b[0;34m:\u001b[0m\u001b[0;34m\u001b[0m\u001b[0;34m\u001b[0m\u001b[0m\n\u001b[1;32m    255\u001b[0m             return [func(*args, **kwargs)\n\u001b[0;32m--> 256\u001b[0;31m                     for func, args, kwargs in self.items]\n\u001b[0m\u001b[1;32m    257\u001b[0m \u001b[0;34m\u001b[0m\u001b[0m\n\u001b[1;32m    258\u001b[0m     \u001b[0;32mdef\u001b[0m \u001b[0m__len__\u001b[0m\u001b[0;34m(\u001b[0m\u001b[0mself\u001b[0m\u001b[0;34m)\u001b[0m\u001b[0;34m:\u001b[0m\u001b[0;34m\u001b[0m\u001b[0;34m\u001b[0m\u001b[0m\n",
      "\u001b[0;32m~/Documents/Virtualenvs/rloe/lib/python3.7/site-packages/joblib/parallel.py\u001b[0m in \u001b[0;36m<listcomp>\u001b[0;34m(.0)\u001b[0m\n\u001b[1;32m    254\u001b[0m         \u001b[0;32mwith\u001b[0m \u001b[0mparallel_backend\u001b[0m\u001b[0;34m(\u001b[0m\u001b[0mself\u001b[0m\u001b[0;34m.\u001b[0m\u001b[0m_backend\u001b[0m\u001b[0;34m,\u001b[0m \u001b[0mn_jobs\u001b[0m\u001b[0;34m=\u001b[0m\u001b[0mself\u001b[0m\u001b[0;34m.\u001b[0m\u001b[0m_n_jobs\u001b[0m\u001b[0;34m)\u001b[0m\u001b[0;34m:\u001b[0m\u001b[0;34m\u001b[0m\u001b[0;34m\u001b[0m\u001b[0m\n\u001b[1;32m    255\u001b[0m             return [func(*args, **kwargs)\n\u001b[0;32m--> 256\u001b[0;31m                     for func, args, kwargs in self.items]\n\u001b[0m\u001b[1;32m    257\u001b[0m \u001b[0;34m\u001b[0m\u001b[0m\n\u001b[1;32m    258\u001b[0m     \u001b[0;32mdef\u001b[0m \u001b[0m__len__\u001b[0m\u001b[0;34m(\u001b[0m\u001b[0mself\u001b[0m\u001b[0;34m)\u001b[0m\u001b[0;34m:\u001b[0m\u001b[0;34m\u001b[0m\u001b[0;34m\u001b[0m\u001b[0m\n",
      "\u001b[0;32m~/Documents/Virtualenvs/rloe/lib/python3.7/site-packages/sklearn/model_selection/_validation.py\u001b[0m in \u001b[0;36m_fit_and_score\u001b[0;34m(estimator, X, y, scorer, train, test, verbose, parameters, fit_params, return_train_score, return_parameters, return_n_test_samples, return_times, return_estimator, error_score)\u001b[0m\n\u001b[1;32m    513\u001b[0m             \u001b[0mestimator\u001b[0m\u001b[0;34m.\u001b[0m\u001b[0mfit\u001b[0m\u001b[0;34m(\u001b[0m\u001b[0mX_train\u001b[0m\u001b[0;34m,\u001b[0m \u001b[0;34m**\u001b[0m\u001b[0mfit_params\u001b[0m\u001b[0;34m)\u001b[0m\u001b[0;34m\u001b[0m\u001b[0;34m\u001b[0m\u001b[0m\n\u001b[1;32m    514\u001b[0m         \u001b[0;32melse\u001b[0m\u001b[0;34m:\u001b[0m\u001b[0;34m\u001b[0m\u001b[0;34m\u001b[0m\u001b[0m\n\u001b[0;32m--> 515\u001b[0;31m             \u001b[0mestimator\u001b[0m\u001b[0;34m.\u001b[0m\u001b[0mfit\u001b[0m\u001b[0;34m(\u001b[0m\u001b[0mX_train\u001b[0m\u001b[0;34m,\u001b[0m \u001b[0my_train\u001b[0m\u001b[0;34m,\u001b[0m \u001b[0;34m**\u001b[0m\u001b[0mfit_params\u001b[0m\u001b[0;34m)\u001b[0m\u001b[0;34m\u001b[0m\u001b[0;34m\u001b[0m\u001b[0m\n\u001b[0m\u001b[1;32m    516\u001b[0m \u001b[0;34m\u001b[0m\u001b[0m\n\u001b[1;32m    517\u001b[0m     \u001b[0;32mexcept\u001b[0m \u001b[0mException\u001b[0m \u001b[0;32mas\u001b[0m \u001b[0me\u001b[0m\u001b[0;34m:\u001b[0m\u001b[0;34m\u001b[0m\u001b[0;34m\u001b[0m\u001b[0m\n",
      "\u001b[0;32m~/Documents/Virtualenvs/rloe/lib/python3.7/site-packages/lightgbm/sklearn.py\u001b[0m in \u001b[0;36mfit\u001b[0;34m(self, X, y, sample_weight, init_score, eval_set, eval_names, eval_sample_weight, eval_init_score, eval_metric, early_stopping_rounds, verbose, feature_name, categorical_feature, callbacks)\u001b[0m\n\u001b[1;32m    741\u001b[0m                                        \u001b[0mverbose\u001b[0m\u001b[0;34m=\u001b[0m\u001b[0mverbose\u001b[0m\u001b[0;34m,\u001b[0m \u001b[0mfeature_name\u001b[0m\u001b[0;34m=\u001b[0m\u001b[0mfeature_name\u001b[0m\u001b[0;34m,\u001b[0m\u001b[0;34m\u001b[0m\u001b[0;34m\u001b[0m\u001b[0m\n\u001b[1;32m    742\u001b[0m                                        \u001b[0mcategorical_feature\u001b[0m\u001b[0;34m=\u001b[0m\u001b[0mcategorical_feature\u001b[0m\u001b[0;34m,\u001b[0m\u001b[0;34m\u001b[0m\u001b[0;34m\u001b[0m\u001b[0m\n\u001b[0;32m--> 743\u001b[0;31m                                        callbacks=callbacks)\n\u001b[0m\u001b[1;32m    744\u001b[0m         \u001b[0;32mreturn\u001b[0m \u001b[0mself\u001b[0m\u001b[0;34m\u001b[0m\u001b[0;34m\u001b[0m\u001b[0m\n\u001b[1;32m    745\u001b[0m \u001b[0;34m\u001b[0m\u001b[0m\n",
      "\u001b[0;32m~/Documents/Virtualenvs/rloe/lib/python3.7/site-packages/lightgbm/sklearn.py\u001b[0m in \u001b[0;36mfit\u001b[0;34m(self, X, y, sample_weight, init_score, group, eval_set, eval_names, eval_sample_weight, eval_class_weight, eval_init_score, eval_group, eval_metric, early_stopping_rounds, verbose, feature_name, categorical_feature, callbacks)\u001b[0m\n\u001b[1;32m    598\u001b[0m                               \u001b[0mverbose_eval\u001b[0m\u001b[0;34m=\u001b[0m\u001b[0mverbose\u001b[0m\u001b[0;34m,\u001b[0m \u001b[0mfeature_name\u001b[0m\u001b[0;34m=\u001b[0m\u001b[0mfeature_name\u001b[0m\u001b[0;34m,\u001b[0m\u001b[0;34m\u001b[0m\u001b[0;34m\u001b[0m\u001b[0m\n\u001b[1;32m    599\u001b[0m                               \u001b[0mcategorical_feature\u001b[0m\u001b[0;34m=\u001b[0m\u001b[0mcategorical_feature\u001b[0m\u001b[0;34m,\u001b[0m\u001b[0;34m\u001b[0m\u001b[0;34m\u001b[0m\u001b[0m\n\u001b[0;32m--> 600\u001b[0;31m                               callbacks=callbacks)\n\u001b[0m\u001b[1;32m    601\u001b[0m \u001b[0;34m\u001b[0m\u001b[0m\n\u001b[1;32m    602\u001b[0m         \u001b[0;32mif\u001b[0m \u001b[0mevals_result\u001b[0m\u001b[0;34m:\u001b[0m\u001b[0;34m\u001b[0m\u001b[0;34m\u001b[0m\u001b[0m\n",
      "\u001b[0;32m~/Documents/Virtualenvs/rloe/lib/python3.7/site-packages/lightgbm/engine.py\u001b[0m in \u001b[0;36mtrain\u001b[0;34m(params, train_set, num_boost_round, valid_sets, valid_names, fobj, feval, init_model, feature_name, categorical_feature, early_stopping_rounds, evals_result, verbose_eval, learning_rates, keep_training_booster, callbacks)\u001b[0m\n\u001b[1;32m    247\u001b[0m                                     evaluation_result_list=None))\n\u001b[1;32m    248\u001b[0m \u001b[0;34m\u001b[0m\u001b[0m\n\u001b[0;32m--> 249\u001b[0;31m         \u001b[0mbooster\u001b[0m\u001b[0;34m.\u001b[0m\u001b[0mupdate\u001b[0m\u001b[0;34m(\u001b[0m\u001b[0mfobj\u001b[0m\u001b[0;34m=\u001b[0m\u001b[0mfobj\u001b[0m\u001b[0;34m)\u001b[0m\u001b[0;34m\u001b[0m\u001b[0;34m\u001b[0m\u001b[0m\n\u001b[0m\u001b[1;32m    250\u001b[0m \u001b[0;34m\u001b[0m\u001b[0m\n\u001b[1;32m    251\u001b[0m         \u001b[0mevaluation_result_list\u001b[0m \u001b[0;34m=\u001b[0m \u001b[0;34m[\u001b[0m\u001b[0;34m]\u001b[0m\u001b[0;34m\u001b[0m\u001b[0;34m\u001b[0m\u001b[0m\n",
      "\u001b[0;32m~/Documents/Virtualenvs/rloe/lib/python3.7/site-packages/lightgbm/basic.py\u001b[0m in \u001b[0;36mupdate\u001b[0;34m(self, train_set, fobj)\u001b[0m\n\u001b[1;32m   1974\u001b[0m             _safe_call(_LIB.LGBM_BoosterUpdateOneIter(\n\u001b[1;32m   1975\u001b[0m                 \u001b[0mself\u001b[0m\u001b[0;34m.\u001b[0m\u001b[0mhandle\u001b[0m\u001b[0;34m,\u001b[0m\u001b[0;34m\u001b[0m\u001b[0;34m\u001b[0m\u001b[0m\n\u001b[0;32m-> 1976\u001b[0;31m                 ctypes.byref(is_finished)))\n\u001b[0m\u001b[1;32m   1977\u001b[0m             \u001b[0mself\u001b[0m\u001b[0;34m.\u001b[0m\u001b[0m__is_predicted_cur_iter\u001b[0m \u001b[0;34m=\u001b[0m \u001b[0;34m[\u001b[0m\u001b[0;32mFalse\u001b[0m \u001b[0;32mfor\u001b[0m \u001b[0m_\u001b[0m \u001b[0;32min\u001b[0m \u001b[0mrange_\u001b[0m\u001b[0;34m(\u001b[0m\u001b[0mself\u001b[0m\u001b[0;34m.\u001b[0m\u001b[0m__num_dataset\u001b[0m\u001b[0;34m)\u001b[0m\u001b[0;34m]\u001b[0m\u001b[0;34m\u001b[0m\u001b[0;34m\u001b[0m\u001b[0m\n\u001b[1;32m   1978\u001b[0m             \u001b[0;32mreturn\u001b[0m \u001b[0mis_finished\u001b[0m\u001b[0;34m.\u001b[0m\u001b[0mvalue\u001b[0m \u001b[0;34m==\u001b[0m \u001b[0;36m1\u001b[0m\u001b[0;34m\u001b[0m\u001b[0;34m\u001b[0m\u001b[0m\n",
      "\u001b[0;31mKeyboardInterrupt\u001b[0m: "
     ]
    }
   ],
   "source": [
    "oosr2 = {}\n",
    "\n",
    "x_tr_a = \n",
    "\n",
    "\n",
    "def single_feature_oosr2(item, x_tr=x_tr, y_tr=y_tr, x_ts=x_ts, y_ts=y_ts):\n",
    "    clf = LGBMRegressor(objective='regression_l2', zero_as_missing=True)\n",
    "    clf.fit(x_tr[item].values.reshape(-1, 1), y_tr[item].values)\n",
    "    predictions = clf.predict(x_ts[item].values.reshape(-1, 1))\n",
    "    y_true = y_ts[item].values \n",
    "    return sklearn.metrics.r2_score(y_true, predictions)\n",
    "    \n",
    "    \n",
    "for item in y_tr.columns:\n",
    "    if '_aoa' not in item:\n",
    "        continue    \n",
    "    param_test = {'max_depth': [1, 2], 'num_leaves': [2, 4], 'n_estimators': [20]}\n",
    "    mod = LGBMRegressor(objective='regression_l2', zero_as_missing=True)\n",
    "    clf = sklearn.model_selection.GridSearchCV(mod , param_grid = param_test, scoring='r2', cv=5)\n",
    "    clf.fit(x_tr.values, y_tr[item].values)\n",
    "    predictions = clf.predict(x_ts.values)\n",
    "    y_true = y_ts[item].values \n",
    "    plt.bar(range(len(clf.best_estimator_.feature_importances_)), clf.best_estimator_.feature_importances_)\n",
    "    plt.show()\n",
    "    max_fea = []\n",
    "    max_5 = clf.best_estimator_.feature_importances_.argsort()[-5:][::-1]\n",
    "    for index in max_5:\n",
    "        max_fea.append(x_tr.columns[index])\n",
    "    oosr2[item] = sklearn.metrics.r2_score(y_true, predictions)\n",
    "    try:\n",
    "        sig_feature_oosr2 = single_feature_oosr2(item)\n",
    "        enhancement = (oosr2[item] - sig_feature_oosr2)/sig_feature_oosr2\n",
    "        print(item, oosr2[item], enhancement, max_fea)\n",
    "        print(clf.best_params_)\n",
    "    except KeyError:\n",
    "        print(item, oosr2[item], max_fea)\n",
    "        print(clf.best_params_)"
   ]
  },
  {
   "cell_type": "code",
   "execution_count": null,
   "metadata": {},
   "outputs": [],
   "source": []
  }
 ],
 "metadata": {
  "kernelspec": {
   "display_name": "Python 3",
   "language": "python",
   "name": "python3"
  },
  "language_info": {
   "codemirror_mode": {
    "name": "ipython",
    "version": 3
   },
   "file_extension": ".py",
   "mimetype": "text/x-python",
   "name": "python",
   "nbconvert_exporter": "python",
   "pygments_lexer": "ipython3",
   "version": "3.7.5"
  },
  "pycharm": {
   "stem_cell": {
    "cell_type": "raw",
    "metadata": {
     "collapsed": false
    },
    "source": []
   }
  }
 },
 "nbformat": 4,
 "nbformat_minor": 2
}
