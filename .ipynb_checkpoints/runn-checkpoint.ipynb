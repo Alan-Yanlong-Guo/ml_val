{
 "cells": [
  {
   "cell_type": "code",
   "execution_count": null,
   "metadata": {},
   "outputs": [],
   "source": [
    "import os \n",
    "import pickle\n",
    "import numpy as np \n",
    "\n",
    "def year_count(year): \n",
    "    for root, dirs, files in os.walk(\"/Users/mingyu/Desktop/data/annual_y\"):\n",
    "        count = 0\n",
    "    for i in range(len(files)):\n",
    "        with open(os.path.join(root, files[i]), 'rb') as handle: \n",
    "            content = pickle.load(handle)\n",
    "        content.reset_index(inplace=True)\n",
    "        count += np.shape(content[content['fyear'] == year])[0]\n",
    "    return count"
   ]
  },
  {
   "cell_type": "code",
   "execution_count": null,
   "metadata": {},
   "outputs": [],
   "source": [
    "count_all = 0\n",
    "n = 0\n",
    "for year in range(1970, 2019): \n",
    "    count = year_count(year)\n",
    "    print(year, ' company count:',count)\n",
    "    count_all += count\n",
    "    n += 1\n",
    "print(count_all/n)"
   ]
  },
  {
   "cell_type": "code",
   "execution_count": null,
   "metadata": {},
   "outputs": [],
   "source": []
  }
 ],
 "metadata": {
  "kernelspec": {
   "display_name": "Python 3",
   "language": "python",
   "name": "python3"
  },
  "language_info": {
   "codemirror_mode": {
    "name": "ipython",
    "version": 3
   },
   "file_extension": ".py",
   "mimetype": "text/x-python",
   "name": "python",
   "nbconvert_exporter": "python",
   "pygments_lexer": "ipython3",
   "version": "3.7.3"
  }
 },
 "nbformat": 4,
 "nbformat_minor": 2
}
