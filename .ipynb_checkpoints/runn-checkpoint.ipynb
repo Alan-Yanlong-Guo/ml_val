{
 "cells": [
  {
   "cell_type": "code",
   "execution_count": null,
   "metadata": {},
   "outputs": [],
   "source": [
    "for root, dirs, files in os.walk(\"/Users/mingyu/Desktop/data/annual_y_\"):\n",
    "    count = 0\n",
    "    for i in range(len(files)):\n",
    "        with open(os.path.join(root, files[i]), 'rb') as handle: \n",
    "            content = pickle.load(handle)\n",
    "        content.reset_index(inplace=True)\n",
    "        print(np.shape(content[content['fyear'] == 1960]), files[i])\n",
    "        count += np.shape(content[content['fyear'] == 1960])[0]\n"
   ]
  },
  {
   "cell_type": "code",
   "execution_count": 22,
   "metadata": {},
   "outputs": [],
   "source": [
    "import pickle\n",
    "with open('/Users/mingyu/Desktop/data/xy_1_0/x_2017.pkl', 'rb') as handle: \n",
    "    contnet = pickle.load(handle)"
   ]
  },
  {
   "cell_type": "code",
   "execution_count": null,
   "metadata": {},
   "outputs": [],
   "source": []
  }
 ],
 "metadata": {
  "kernelspec": {
   "display_name": "Python 3",
   "language": "python",
   "name": "python3"
  },
  "language_info": {
   "codemirror_mode": {
    "name": "ipython",
    "version": 3
   },
   "file_extension": ".py",
   "mimetype": "text/x-python",
   "name": "python",
   "nbconvert_exporter": "python",
   "pygments_lexer": "ipython3",
   "version": "3.7.3"
  }
 },
 "nbformat": 4,
 "nbformat_minor": 2
}
